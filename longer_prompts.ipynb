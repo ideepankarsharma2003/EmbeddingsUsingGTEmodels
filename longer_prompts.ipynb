{
 "cells": [
  {
   "cell_type": "code",
   "execution_count": null,
   "metadata": {},
   "outputs": [],
   "source": [
    "data= d['data']\n",
    "data.keys()"
   ]
  },
  {
   "cell_type": "code",
   "execution_count": null,
   "metadata": {},
   "outputs": [],
   "source": [
    "# data= d['data']\n",
    "results= data['results']\n",
    "results"
   ]
  },
  {
   "cell_type": "code",
   "execution_count": null,
   "metadata": {},
   "outputs": [],
   "source": [
    "s= \"\"\n",
    "\n",
    "for i in results:\n",
    "    s+=i['url']+' '\n",
    "    s+=i['description']"
   ]
  },
  {
   "cell_type": "code",
   "execution_count": null,
   "metadata": {},
   "outputs": [],
   "source": [
    "s"
   ]
  },
  {
   "cell_type": "code",
   "execution_count": null,
   "metadata": {},
   "outputs": [],
   "source": [
    "s= s.replace(\"https://\", '')\n",
    "s= s.replace(\"/\", '')\n",
    "s= s.replace(\",\", '')\n",
    "s= s.replace(\"www.\", '')"
   ]
  },
  {
   "cell_type": "code",
   "execution_count": null,
   "metadata": {},
   "outputs": [],
   "source": [
    "from summa import summarizer\n",
    "s=summarizer.summarize(s, words=200).replace('\\n', ' ')"
   ]
  },
  {
   "cell_type": "code",
   "execution_count": null,
   "metadata": {},
   "outputs": [],
   "source": [
    "with open(\"x.txt\", \"w\") as f:\n",
    "    f.write(s)"
   ]
  },
  {
   "cell_type": "code",
   "execution_count": 85,
   "metadata": {},
   "outputs": [],
   "source": [
    "import requests\n"
   ]
  },
  {
   "cell_type": "code",
   "execution_count": 92,
   "metadata": {},
   "outputs": [],
   "source": [
    "response= requests.api.get('https://2qq35q1je7.execute-api.us-east-1.amazonaws.com/?search=hello')"
   ]
  },
  {
   "cell_type": "code",
   "execution_count": 93,
   "metadata": {},
   "outputs": [],
   "source": [
    "d= json.loads(response.text)"
   ]
  },
  {
   "cell_type": "code",
   "execution_count": null,
   "metadata": {},
   "outputs": [],
   "source": [
    "d"
   ]
  },
  {
   "cell_type": "code",
   "execution_count": null,
   "metadata": {},
   "outputs": [],
   "source": [
    "d['data']"
   ]
  },
  {
   "cell_type": "code",
   "execution_count": 96,
   "metadata": {},
   "outputs": [],
   "source": [
    "data= d['data']\n",
    "results= data['results']"
   ]
  },
  {
   "cell_type": "code",
   "execution_count": 97,
   "metadata": {},
   "outputs": [
    {
     "data": {
      "text/plain": [
       "'https://www.hellomagazine.com/us/ HELLO! US edition brings you the latest celebrity & royal news from the US & around the world, magazine exclusives, celeb babies, weddings, pregnancies and\\xa0...https://en.wikipedia.org/wiki/Hello Hello is a salutation or greeting in the English language. It is first attested in writing from 1826. The greeting \"Hello\" became associated with telephones in\\xa0...https://www.hello-products.com/ naturally friendly products for naturally friendly people. vegan, cruelty free, and thoughtfully formulated for everyone.https://www.facebook.com/hello/ HELLO! 2080655 likes · 48246 talking about this. The official Facebook page for HELLO! magazine & http://www.hellomagazine.com/ FOLLOW US @ https://tw.https://www.hellofresh.com/ Get started with America\\'s Most Popular Meal Kit today! Most 5-Star Reviews ✓ The most recipe variety ✓ Fresh & affordable meal kit delivery service.https://hellogames.org/ Hello Games. Join us on our journey to create the types of games that didn\\'t exist before. View Jobs. Who We Are. We are a small studio who like to harness\\xa0...https://helloalice.com/ Hello Alice is a free platform designed for AND by small business owners. We\\'re here to guide and support you at every turn on your adventure in\\xa0...https://dictionary.cambridge.org/us/dictionary/english/hello Meaning of hello in English ... used when meeting or greeting someone: Hello, Paul. I haven\\'t seen you for ages. I know her vaguely - we\\'ve exchanged hellos a few\\xa0...https://americansongwriter.com/adele-hello-behind-the-song/ ADELE: “Hello\\' actually started with the lyric, \\'Hello misery.\\' So you can imagine the mood I was in! [Laughs] I was f**ing miserable! But Greg Kurstin, who I\\xa0...https://sandraheyersongs.com/the-story-behind-hello-by-adele/ One of Adele\\'s new songs was “Hello.” The song is about a woman who is trying to reconnect with an ex-boyfriend. Is it another song about Alex?https://hellohealth.com/ Electronic Health Record, Practice Management System, Patient Portal and Telehealth solution. See how doctors can access medical technology from anywhere\\xa0...https://wordpress.org/themes/hello-elementor/ Jul 5, 2023 — Hello Elementor. By Elementor. Commercial Theme. Support. This theme is free but offers additional paid commercial upgrades or support\\xa0...https://www.letras.com/adele/hello/ Adele - Hello (Letra y canción para escuchar) - Hello from the other side / I must\\'ve called a thousand times to tell you / I\\'m sorry, for everything that\\xa0...https://www.collinsdictionary.com/dictionary/english/hello hello in American English · 1. used as a greeting or response, as in telephoning · 2. used to attract attention · 3. used to express astonishment or surprise.https://twitter.com/hellomag The Duke of Sussex recognised in HELLO!\\'s Kind List 2022. hellomagazine.com. The Duke of Sussex. Prince Harry supports a number of organisations.https://www.npr.org/sections/goatsandsoda/2023/08/23/1193148718/why-a-strangers-hello-can-do-more-than-just-brighten-your-day 14 hours ago — Researchers are exploring the impact of interactions with strangers and casual acquaintances. Their findings shed light on how seemingly\\xa0...https://nohello.net/en please don\\'t say just hello in chat.https://www.gnu.org/software/hello/ GNU Hello. The GNU Hello program produces a familiar, friendly greeting. Yes, this is another implementation of the classic program that prints “Hello,\\xa0...https://genius.com/Adele-hello-lyrics Oct 23, 2015 — Hello Lyrics: Hello, it\\'s me / I was wondering if after all these years you\\'d like to meet / To go over everything / They say that time\\'s\\xa0...https://www.instrument.com/latest/hello-design-joins-instrument In January 2023, Los Angeles-based agency Hello Design will join Instrument, operating as an integrated client service team.https://www.hello.one/ HELLO Labs is a Web3 ecosystem built around producing, incubating and distributing exclusive TV shows, games, NFTs and live events.https://soundcloud.com/gracedaviesofficial/hello-adele Oct 26, 2015 — Stream Hello - Adele by Grace Davies on desktop and mobile. Play over 320 million tracks for free on SoundCloud.https://hellobio.com/ Hello Bio, Voted Researchers Choice 2023 for highly validated, affordable reagents, supporting scientists worldwide.https://support.microsoft.com/en-us/windows/learn-about-windows-hello-and-set-it-up-dae28983-8242-bb2a-d3d1-87c9d265a5f0 Learn how to sign into your PC with Windows Hello using a PIN, facial recognition, or fingerprint.https://hello-robot.com/ Provider of the Stretch Research Edition. Remarkable for its capability, portability. We\\'ve reimagined the mobile manipulator.https://www.bet.plus/movie/hello Hello background. Hello logo. 2022 | movie | TV-MA. BET+ ORIGINAL. Flight attendant Alicia hopes her dark past is finally behind her when she hits it off\\xa0...https://helloperiod.com/ Sustainable, award-winning and comfortable, Hello Period makes period life easier and planet-friendly. Makers of the legendary Hello Cup™ and Hello Disc™.https://docs.github.com/en/get-started/quickstart/hello-world This tutorial teaches you GitHub essentials like repositories, branches, commits, and pull requests. You\\'ll create your own Hello World repository and learn\\xa0...https://helloaudio.fm/ Turn your content into private podcasts that your audience can listen to on the go. Convenient consumption for them, more engagement and sales for you.https://www.britannica.com/dictionary/hello HELLO meaning: 1 : used as a greeting; 2 : the act of saying the word hello to someone as a greeting.https://hello-tomorrow.org/ What we do · Innovation Consulting · Events · Startup competitions and acceleration programs · Thought leadership.https://www.helloweekendmusic.com/ From Gaga to Guns N\\' Roses, Hello Weekend is a non-stop, high energy concert experience. With heart stopping vocals and shredding guitar solos,\\xa0...https://hellomrmag.com/ The Hello Mr. issue archive.https://learnenglishkids.britishcouncil.org/listen-watch/songs/hello-hello-hello Who is B23A? Listen to a song called Hello, hello, hello and sing along. Help.https://www.cisa.gov/topics/physical-security/non-confrontational-techniques/power-hello Power of Hello ... Industries face a variety of threats, both internal and external, from hostile governments, terrorist groups, disgruntled employees and\\xa0...https://www.sanrio.com/ Explore the supercute world of Sanrio, home to Hello Kitty, My Melody, Kuromi, Aggretsuko, Gudetama, and more!https://hellometeor.bandcamp.com/album/traditional-dreams-for-january Traditional Dreams For January by Hello Meteor, released 29 August 2023 1. Crescent Lanterns 2. Way Of Lakes 3. Cloud Development Timelapse 4.https://helloinsight.org/ Hello Insight helps youth development organizations prove impact and improve programs, with pre-built surveys, predictive analytics, and automated reports.\\'https://hellodivorce.com/ Hello Divorce makes divorce easier and more affordable. Learn about our affordable online divorce plans with as little or as much help as you need,\\xa0...https://hellosundaymorning.org/ Hello Sunday Morning is an Australian not-for-profit organisation dedicated to helping people who want to change their relationship with alcohol.https://www.helloruby.com/ Welcome to the whimsical world of computing. Hello Ruby is a children\\'s book and an app that teaches programming fundamentals through stories and\\xa0...https://hub.docker.com/_/hello-world hello-world. Docker Official Image. •. 1B+. •. 2.1K. Hello World! (an example of minimal Dockerization). docker pull hello-world.https://www.sandyhookpromise.org/our-programs/start-with-hello/ Our proven programs create safer and kinder schools. Start With Hello teaches empathy and empowers students to end social isolation.https://eternitymarketing.com/blog/the-surprising-history-of-hello-origins-and-evolution-of-the-greeting Mar 27, 2022 — Hello? What do you say when you answer the phone? If you\\'re like most people, you say \"hello.\" It\\'s such a common, everyday word.https://hello.ef.com/ The proven way to learn a language! · A study by the University of Cambridge found it takes only 8 hours in EF Hello to master the material of a typical semester\\xa0...https://www.vocabulary.com/dictionary/hello Hello! Hi! How are you doing? Hello is a salutation or greeting commonly used to begin conversations or telephone calls. Hello has been used as an English\\xa0...https://www.instagram.com/hellokitty/ 3M Followers, 243 Following, 3712 Posts - See Instagram photos and videos from Hello Kitty (@hellokitty)https://hellowordl.net/ A word-guessing game.https://www.helloneighborgame.com/ Hello Neighbor, a Stealth Horror Game about sneaking into your Neighbor\\'s house.https://preply.com/en/blog/22-useful-english-greetings-for-every-day/ While this salutation is quite uncommon today, you can still hear it from older people. “Hello. How do you do?” is perfect for a business dinner or a formal\\xa0...https://www.dignityhealth.org/hello-humankindness Hello humankindness starts with the proven idea that human connection leads to better health. That\\'s why humankindness is at the heart of everything we do.https://adele.fandom.com/wiki/Hello_(music_video) \"Hello\" is a music video for Adele\\'s song of the same name, taken from her third studio album, 25. It was directed and co-produced by Xavier Dolan,\\xa0...https://www.hello.com/ It\\'s not goodbye. It\\'s see you again soon. We are pausing hello while we get ready to launch something even better. We have loved having you a part of this\\xa0...https://helloworld.raspberrypi.org/ Hello World issue 21. How are you preparing young children for a digital world? This is the question this primary-teaching themed issue explores,\\xa0...https://www.schools.nyc.gov/school-life/school-environment/hello NYC Public Schools Speak Your Language! Hello in English · Hello in Arabic · Hello in Bangla · Hello in Chinese · Hello in French · Hello in Albanian · Hello\\xa0...https://www.dictionary.com/browse/hello (used to express a greeting, answer a telephone, or attract attention.) (an exclamation of surprise, wonder, elation, etc.).https://elementor.com/products/hello-theme/ 100%Tailored to Elementor. Hello works in pure harmony with Elementor\\'s popular page builder and minimizes the need for other plugins.https://www.letras.mus.br/adele/hello/ Adele - Hello (Letra e música para ouvir) - Hello from the other side / I must\\'ve called a thousand times to tell you / I\\'m sorry, for everything that I\\'ve\\xa0...https://supersimple.com/song/hello/ Start off your lesson with “Hello!”, a fun and energetic song to talk about how you feel as you greet each other. Gestures & Activities. How To\\xa0...https://www.songfacts.com/facts/adele/hello Adele explained the song\\'s meaning to i-D. \"The song is about hurting someone\\'s feelings but it\\'s also about trying to stay in touch with myself, which\\xa0...https://open.spotify.com/track/62PaSfnXSMyLshYJrlTuL3 Listen to Hello on Spotify. Adele · Song · 2015.https://www.azlyrics.com/lyrics/adele/hello.html Adele \"Hello\": Hello, it\\'s me I was wondering if after all these years you\\'d like to meet To go over everything The...https://www.merriam-webster.com/dictionary/hello The meaning of HELLO is an expression or gesture of greeting —used interjectionally in greeting, in answering the telephone, or to express surprise.https://en.wiktionary.org/wiki/hello hello. Language; Watch · Edit. See also: helló. Contents. 1 English. 1.1 Alternative forms; 1.2 Etymology; 1.3 Pronunciation; 1.4 Interjection.https://en.wikipedia.org/wiki/Hello_(Adele_song) \"Hello\" is a song recorded by English singer-songwriter Adele, released on 23 October 2015 by XL Recordings as the lead single from her third studio album,\\xa0...https://www.hello-dmc.com/ WHERE WE ARE · SOUTH FLORIDA · LAS VEGAS · NASHVILLE · NEW YORK · CENTRAL / TEXAS · NORTH / TEXAS · WASHINGTON, D.C. · Hello! USA.https://www.etymonline.com/word/hello greeting between persons meeting, 1848, the early references are to the U.S. western frontier (where hello, the house was said to be the usual greeting upon\\xa0...https://www.thesaurus.com/browse/hello Find 20 ways to say HELLO, along with antonyms, related words, and example sentences at Thesaurus.com, the world\\'s most trusted free thesaurus.https://www.helloheart.com/ Hello Heart\\'s digital coaching app helps people manage heart health, and drives high employee engagement while potentially reducing medical claims costs.https://www.nomanssky.com/ Entire galaxies lie waiting to be discovered. Story. Experience infinite freedom, or uncover the secrets of the universe with more than 30 hours of story.https://www.hellosailornc.com/ A bright and sunny waterfront restaurant and bar, open all day. Best restaurant in Lake Norman, best view of the water. 704-997-5365.https://www.hellopizza.com/ Hello Pizza is chef Ann Kim\\'s New York style pizzeria offering pizza, salads and meatball subs for dining in, take out and delivery.https://www.hellobar.com/ Types of Popups Included With All Hello Bar Plans. Bars. Persistent header and footer bars that scroll with your visitors. Modals. Popups that\\xa0...https://www.popsugar.com/entertainment/adele-hello-music-video-38860691 Oct 23, 2015 — Adele\\'s new song is here! The singer released a music video for \"Hello,\" her first track in three years, on Friday. The video comes almost\\xa0...https://www.hellolucky.com/ Hello!Lucky is all about using creativity to spread joy, fun, and kindness. Founded by sisters Eunice and Sabrina Moyle in 2003, Hello!https://www.imdb.com/title/tt5431624/ Adele: Hello: Directed by Xavier Dolan. With Adele, Tristan Mack Wilds. With a new song and a brand new music video Adele shows betrayal, regret and sorrow.https://hello-sunshine.com/ Reese Witherspoon - Candle - HelloSunshine.https://www.helloapparelstore.com/ Hello Apparel, I\\'m So Tired, I\\'m Not Tired, I\\'m So Pregnant, T-Shirts, Sweatshirts, Leggings, One-Piece, Accessories & More! Matching Sets for the Whole\\xa0...https://music.apple.com/us/artist/hello/1452283196 Listen to music by HELLO on Apple Music. Find top songs and albums by HELLO including New York Groove, New York Groove and more.https://hellobello.com/ Because parents shouldn\\'t have to choose between what\\'s best for their baby, their budget, and the planet.https://www.hellomerch.com/ Started in 2008 as an outlet for bands, musicians, creative artists and businesses to manufacture and sell merchandise anywhere, without giving up their rights.https://commonpractice.com/products/hello-game Hello is a conversation game. It\\'s the easy, non-threatening way to start a conversation with your family and friends about what matters most to you.https://www.hellomonday.com/ Hello Monday is a creative studio in New York, Copenhagen, and Aarhus that handcrafts digital (and magical) products, brands, and experiences.https://hellotractor.com/ Use Hello Tractor detailed reporting to access innovative pay-as-you-go financing to grow your own fleet. Access Equipment Financing.https://shop.highlights.com/hello-magazines-subscription Hello magazine is filled with colorful images, whimsical read-aloud stories and simple activities. Delight little ones ages 0-2 with a Highlights Hello\\xa0...https://www.hellobettyoceanside.com/ Hello Betty is a surf and skate inspired seafood restaurant near the beach in Oceanside, CA.https://www.hellorobincookies.com/ Hello Robin: Sharing Cookies and Kindness since 2013.https://www.bbc.com/news/uk-england-london-66591708 20 hours ago — A pilot in Hammersmith saw stickers put on some buses to encourage people to say hello or thank you to the driver. In non-stickered buses,\\xa0...https://www.helloproducts.ca/en-ca hello® whitening toothpaste tablets are thoughtfully formulated with natural peppermint, tea tree oil, and coconut oil. they\\'re perfectly plastic free.https://www.hellosign.com/ Dropbox Sign (formerly HelloSign) is the easiest way to send, receive and manage legally binding electronic signatures. Try it free!https://www.hellobistro.com/ Salads. Burgers. Together. Two delicious eats unified under one roof.'"
      ]
     },
     "execution_count": 97,
     "metadata": {},
     "output_type": "execute_result"
    }
   ],
   "source": [
    "s= \"\"\n",
    "\n",
    "for i in results:\n",
    "    s+=i['url']+' '\n",
    "    s+=i['description']\n",
    "    \n",
    "s"
   ]
  },
  {
   "cell_type": "markdown",
   "metadata": {},
   "source": [
    "# Keywords_Similarity"
   ]
  },
  {
   "cell_type": "code",
   "execution_count": 154,
   "metadata": {},
   "outputs": [],
   "source": [
    "import json\n",
    "from summa import summarizer\n",
    "import time\n",
    "\n",
    "def generate_keyword_summary(keyword):\n",
    "    \"\"\"Generate a summary of the keyword\"\"\"\n",
    "    response= requests.api.get(f'https://2qq35q1je7.execute-api.us-east-1.amazonaws.com/?search={keyword}')\n",
    "    d= json.loads(response.text)\n",
    "    \n",
    "    data= d['data']\n",
    "    results= data['results']\n",
    "    \n",
    "    s= \"\"\n",
    "    \n",
    "\n",
    "    for i in results:\n",
    "        s+=i['url']+' '\n",
    "        s+=i['description']\n",
    "        \n",
    "    s= s.replace(\"https://\", '')\n",
    "    s= s.replace(\"/\", '')\n",
    "    s= s.replace(\",\", ' ')\n",
    "    s= s.replace(\"www.\", '')\n",
    "        \n",
    "    summary=summarizer.summarize(s, words=250).replace('\\n', ' ')\n",
    "    \n",
    "    return summary"
   ]
  },
  {
   "cell_type": "code",
   "execution_count": 108,
   "metadata": {},
   "outputs": [],
   "source": [
    "keywords= [\n",
    "    'beats headphones at best buy',\n",
    "    'best cat ear headphones',\n",
    "    'best buy beats headphones',\n",
    "    'best buy: beats headphones',\n",
    "    'best buy headphones beats',\n",
    "    'beats headphones best buy',\n",
    "    'beats best buy headphones',\n",
    "    'which is the best beats headphones',\n",
    "    'which beats headphones are the best',\n",
    "    'best beats headphones',\n",
    "    'which beats headphones are best',\n",
    "    'beats headphones compared',\n",
    "    'compare beats headphones',\n",
    "    'beats best headphones',\n",
    "    'which beats headphones is the best',\n",
    "    'best headphones beats',\n",
    "    'recording studio headphones',\n",
    "    'headphones for recording',\n",
    "    'studio recording headphones',\n",
    "    'best musicians headphones',\n",
    "    'beats latest headphones',\n",
    "    'color beats headphones',\n",
    "    'beats headphones latest',\n",
    "    'latest beats headphones',\n",
    "    'newest beats headphones'\n",
    "\n",
    "]"
   ]
  },
  {
   "cell_type": "code",
   "execution_count": 100,
   "metadata": {},
   "outputs": [],
   "source": [
    "from main import *"
   ]
  },
  {
   "cell_type": "markdown",
   "metadata": {},
   "source": [
    "### GTE BASE"
   ]
  },
  {
   "cell_type": "code",
   "execution_count": 101,
   "metadata": {},
   "outputs": [
    {
     "name": "stdout",
     "output_type": "stream",
     "text": [
      "beats headphones at best buy\n"
     ]
    },
    {
     "data": {
      "text/plain": [
       "(768,)"
      ]
     },
     "execution_count": 101,
     "metadata": {},
     "output_type": "execute_result"
    }
   ],
   "source": [
    "print(keywords[0])\n",
    "s1= generate_keyword_summary(keywords[0])\n",
    "e1= generate_base_embeddings(s1)\n",
    "e1.shape"
   ]
  },
  {
   "cell_type": "code",
   "execution_count": null,
   "metadata": {},
   "outputs": [],
   "source": []
  },
  {
   "cell_type": "code",
   "execution_count": 102,
   "metadata": {},
   "outputs": [
    {
     "name": "stdout",
     "output_type": "stream",
     "text": [
      "beats headphones at best buy\n",
      "tensor([[0.9324]])\n",
      "best buy beats headphones\n",
      "tensor([[0.9271]])\n",
      "best buy: beats headphones\n",
      "tensor([[0.9444]])\n",
      "best buy headphones beats\n",
      "tensor([[0.9849]])\n",
      "beats headphones best buy\n",
      "tensor([[0.9407]])\n",
      "beats best buy headphones\n",
      "tensor([[0.9317]])\n",
      "which is the best beats headphones\n",
      "tensor([[0.9207]])\n",
      "which beats headphones are the best\n",
      "tensor([[0.9263]])\n",
      "best beats headphones\n",
      "tensor([[0.9198]])\n",
      "which beats headphones are best\n",
      "tensor([[0.9068]])\n",
      "beats headphones compared\n",
      "tensor([[0.8985]])\n",
      "compare beats headphones\n",
      "tensor([[0.9092]])\n",
      "beats best headphones\n",
      "tensor([[0.8996]])\n",
      "which beats headphones is the best\n",
      "tensor([[0.8959]])\n",
      "best headphones beats\n",
      "tensor([[0.8987]])\n",
      "recording studio headphones\n",
      "tensor([[0.8660]])\n",
      "headphones for recording\n",
      "tensor([[0.8614]])\n",
      "studio recording headphones\n",
      "tensor([[0.8595]])\n",
      "best musicians headphones\n",
      "tensor([[0.8598]])\n",
      "beats latest headphones\n",
      "tensor([[0.9114]])\n",
      "color beats headphones\n",
      "tensor([[0.9217]])\n",
      "beats headphones latest\n",
      "tensor([[0.9393]])\n",
      "latest beats headphones\n",
      "tensor([[0.9085]])\n",
      "newest beats headphones\n",
      "tensor([[0.9149]])\n"
     ]
    }
   ],
   "source": [
    "for i in keywords:\n",
    "    print(i)\n",
    "    s_i= (generate_keyword_summary(i))\n",
    "    e_i= generate_base_embeddings(s_i)\n",
    "    print(generate_cosine_similarity(e1, e_i))\n",
    "    time.sleep(30)"
   ]
  },
  {
   "cell_type": "markdown",
   "metadata": {},
   "source": []
  },
  {
   "cell_type": "markdown",
   "metadata": {},
   "source": [
    "### GTE Large"
   ]
  },
  {
   "cell_type": "code",
   "execution_count": 125,
   "metadata": {},
   "outputs": [
    {
     "name": "stdout",
     "output_type": "stream",
     "text": [
      "beats headphones at best buy\n"
     ]
    },
    {
     "data": {
      "text/plain": [
       "(1024,)"
      ]
     },
     "execution_count": 125,
     "metadata": {},
     "output_type": "execute_result"
    }
   ],
   "source": [
    "print(keywords[0])\n",
    "# s1= generate_keyword_summary(keywords[0])\n",
    "s1= generate_keyword_summary(\"best beats headphones india\")\n",
    "e1= generate_large_embeddings(s1)\n",
    "e1.shape"
   ]
  },
  {
   "cell_type": "code",
   "execution_count": 126,
   "metadata": {},
   "outputs": [
    {
     "name": "stdout",
     "output_type": "stream",
     "text": [
      "beats headphones at best buy\n"
     ]
    },
    {
     "data": {
      "text/plain": [
       "(1024,)"
      ]
     },
     "execution_count": 126,
     "metadata": {},
     "output_type": "execute_result"
    }
   ],
   "source": [
    "print(keywords[0])\n",
    "# s2= generate_keyword_summary(keywords[1])\n",
    "s2= generate_keyword_summary('best beats headphones united kingdom')\n",
    "e2= generate_large_embeddings(s2)\n",
    "e2.shape"
   ]
  },
  {
   "cell_type": "code",
   "execution_count": 127,
   "metadata": {},
   "outputs": [
    {
     "data": {
      "text/plain": [
       "\"Best cheap true wireless earbuds · Bose QuietComfort Earbuds II\\xa0...pricerunner.comspbeats-by-dre-headphones.html 1000+ products · Beats Solo3 Wireless · Beats Studio Buds · Beats Fit Pro · Beats Powerbeats Pro · Beats Studio3 Wireless · Beats Flex · Beats Urbeats 2.0 · Beats\\xa0...wired.comgallerybest-wireless-headphones Feb 13 2023 — The Beats Fit Pro (910 WIRED Recommends) are also one of our favorite wireless earbuds right now thanks to their excellent integration with\\xa0...jabra.com Headsets for office & call center with noise cancellation and superior sound - Bluetooth headsets and speakers - Wireless sport headphones - True wireless\\xa0...techadvisor.comarticle723714best-kids-headphones.html Aug 14 2023 — iClever TransNova BTH16 – Best value kids wireless headphones ... · Biggest Technology\\xa0...playstation.comen-gbaccessoriespulse-3d-wireless-headset Discover how good PS5 games can sound with the official PULSE 3D wireless headset fine-tuned for 3D audio with PlayStation 5 consoles.myearfun.com EarFun is dedicated to share the goal of creating next-generation wireless audio devices and provide superior-quality audio products that improve the lives\\xa0...rayconglobal.com Our products include wireless audio (Bluetooth earbuds Bluetooth headphones Bluetooth speakers) home tech and tech accessories.pasarentacar.com?items=best+beats+noise+cancelling+headphones_MTVfMzlfODgxMjAzN18zNw== Best Beats headphones 2021: budget and  The new Beats Solo Pro could be the  The best Beats headphones 2021: Which.logitech.comen-gb Discover the innovative world of Logitech UK and shop everything MX Wireless Mice Backlit Keyboards HD Webcams USB Headsets Software and more.lonelybrand.comblogthe-best-wireless-earbuds-for-sports-in-2019-uk-edition Jul 5 2022 — Mifo O5 PLUS: Editor's pick for best wireless sports headphones – £89.99 at Mifo.co.uk · Where to buy the Mifo O5 PLUS earbuds in the UK · So what\\xa0...pocket-lint.combest-beats-headphones 7 days ago — Beats Powerbeats Pro. Best Beats headphones for workouts.\""
      ]
     },
     "execution_count": 127,
     "metadata": {},
     "output_type": "execute_result"
    }
   ],
   "source": [
    "s2"
   ]
  },
  {
   "cell_type": "code",
   "execution_count": 128,
   "metadata": {},
   "outputs": [
    {
     "data": {
      "text/plain": [
       "\"✓Best Deals ✓Fast Shipping ✓Latest\\xa0...amazon.inHeadphones-Beats-Earbuds-Accessoriess?rh=n%3A1388921031%2Cp_89%3ABeats Beats Studio Buds – True Wireless Noise Cancelling Earphones – Active Noise Cancelling IPX4 Rating Compatible with Apple & Android Class 1 Bluetooth\\xa0...cnn.comcnn-underscoredreviewsbest-beats-headphones Aug 10 2023 — Here are the best Beats headphones we've tested from the classic Beats Solo 3 to the stylish and compact Beats Fit Pro.smartprix.commobile_headphonesbeats-brand This list contains 28 Beats Headphones And Earphones in India. Apple W1 chip.cnet.comtechmobilebest-wireless-headphones Jul 24 2023 — Best wireless headphones of 2023 · Sony WH-1000XM5 · Apple AirPods Pro 2 · Sennheiser Momentum 4 Wireless · Sony CH-720N · Apple AirPods Max · 1More\\xa0...apple.comshopaccessoriesallbeats Beats by Dr. Dre · Beats Studio Pro Wireless Headphones — Sandstone · Beats Studio Buds + True Wireless Noise Cancelling Earbuds — Transparent · Beats Fit Pro —\\xa0...pricedekho.comheadphones-headsetsbeats+headphones-headsets-price-list.html Beats Headphones & Headsets ; Beats Studio Ear Ear Over Ear Headphone (Black). 1 Rating · Brand\\xa0...theverge.com21345733best-noise-canceling-headphones Jul 10 2023 — With marathon 60-hour battery life and sublime comfort the Sennheiser Momentum 4 Wireless noise-canceling headphones also make good on the\\xa0...cashify.inbest-beats-earphones-in-india 26 Results — Beats Solo Pro. For professional\\xa0...cbsnews.comessentialsthe-best-amazon-prime-day-2023-deals-on-beats-headphones-2023-07-13 Jul 13 2023 — Beats Studio3 headphones are practically half price on Amazon making them one of the best headphone deals for discerning listeners willing\\xa0...bestproducts.comtechgadgetsa28480389wireless-earbud-earphone-reviews Aug 15 2023 — The Beats Fit Pro earphones are the brand's best true wireless offering and hands down the best option for Apple users. They are super solid in their design with great over-ear noise-canceling\\xa0...9to5mac.comguidesbeats Powerbeats Pro · PowerBeats 3 Wireless Headphones · Studio3 Wireless Headphones · Solo3 Wireless Headphones · Pill+ Portable Speaker · BeatsX · BeatsEP · UrBeats with\\xa0...whathifi.combest-buysbest-beats-headphones-wireless-beats-for-every-budget Jun 29 2023 — How to choose the best Beats headphones for you · 1.\""
      ]
     },
     "execution_count": 128,
     "metadata": {},
     "output_type": "execute_result"
    }
   ],
   "source": [
    "s1"
   ]
  },
  {
   "cell_type": "code",
   "execution_count": 129,
   "metadata": {},
   "outputs": [
    {
     "data": {
      "text/plain": [
       "tensor([[0.9399]])"
      ]
     },
     "execution_count": 129,
     "metadata": {},
     "output_type": "execute_result"
    }
   ],
   "source": [
    "util.cos_sim(e1, e2)"
   ]
  },
  {
   "cell_type": "code",
   "execution_count": null,
   "metadata": {},
   "outputs": [],
   "source": []
  },
  {
   "cell_type": "code",
   "execution_count": 131,
   "metadata": {},
   "outputs": [],
   "source": [
    "keywords_new= [\n",
    "    'red dot on beats headphones', \n",
    "    'red light on beats headphones', \n",
    "    'why are my beats red', \n",
    "    'best wireless headphones for vinyl', \n",
    "    'best wireless headphones for listening to vinyl', \n",
    "    'best wireless headphones for turntable'\n",
    "]"
   ]
  },
  {
   "cell_type": "code",
   "execution_count": 132,
   "metadata": {},
   "outputs": [
    {
     "data": {
      "text/plain": [
       "6"
      ]
     },
     "execution_count": 132,
     "metadata": {},
     "output_type": "execute_result"
    }
   ],
   "source": [
    "embedings1= []\n",
    "for i in keywords_new:\n",
    "    s_i= (generate_keyword_summary(i))\n",
    "    e_i= generate_large_embeddings(s_i)\n",
    "    embedings1.append(e_i)\n",
    "    \n",
    "len(embedings1)"
   ]
  },
  {
   "cell_type": "code",
   "execution_count": 133,
   "metadata": {},
   "outputs": [],
   "source": [
    "embedings2= embedings1"
   ]
  },
  {
   "cell_type": "code",
   "execution_count": 134,
   "metadata": {},
   "outputs": [
    {
     "name": "stderr",
     "output_type": "stream",
     "text": [
      "/home/ubuntu/embedding/venv/lib/python3.10/site-packages/sentence_transformers/util.py:36: UserWarning: Creating a tensor from a list of numpy.ndarrays is extremely slow. Please consider converting the list to a single numpy.ndarray with numpy.array() before converting to a tensor. (Triggered internally at ../torch/csrc/utils/tensor_new.cpp:245.)\n",
      "  a = torch.tensor(a)\n"
     ]
    },
    {
     "data": {
      "text/plain": [
       "tensor([[1.0000, 0.9613, 0.9505, 0.7789, 0.8108, 0.8075],\n",
       "        [0.9613, 1.0000, 0.9556, 0.7863, 0.8131, 0.8121],\n",
       "        [0.9505, 0.9556, 1.0000, 0.7961, 0.8203, 0.8224],\n",
       "        [0.7789, 0.7863, 0.7961, 1.0000, 0.9381, 0.9430],\n",
       "        [0.8108, 0.8131, 0.8203, 0.9381, 1.0000, 0.9544],\n",
       "        [0.8075, 0.8121, 0.8224, 0.9430, 0.9544, 1.0000]])"
      ]
     },
     "execution_count": 134,
     "metadata": {},
     "output_type": "execute_result"
    }
   ],
   "source": [
    "generate_cosine_similarity(embedings1, embedings2)"
   ]
  },
  {
   "cell_type": "code",
   "execution_count": null,
   "metadata": {},
   "outputs": [],
   "source": []
  },
  {
   "cell_type": "code",
   "execution_count": 159,
   "metadata": {},
   "outputs": [
    {
     "data": {
      "text/plain": [
       "6"
      ]
     },
     "execution_count": 159,
     "metadata": {},
     "output_type": "execute_result"
    }
   ],
   "source": [
    "embedings1= []\n",
    "for i in keywords_new:\n",
    "    s_i= (generate_keyword_summary(i))\n",
    "    e_i= generate_large_embeddings(s_i)\n",
    "    embedings1.append(e_i)\n",
    "    \n",
    "len(embedings1)"
   ]
  },
  {
   "cell_type": "code",
   "execution_count": 160,
   "metadata": {},
   "outputs": [],
   "source": [
    "embedings2= embedings1"
   ]
  },
  {
   "cell_type": "code",
   "execution_count": 161,
   "metadata": {},
   "outputs": [
    {
     "data": {
      "text/plain": [
       "tensor([[1.0000, 0.9521, 0.9696, 0.8054, 0.7913, 0.8085],\n",
       "        [0.9521, 1.0000, 0.9649, 0.8351, 0.8208, 0.8379],\n",
       "        [0.9696, 0.9649, 1.0000, 0.8135, 0.7913, 0.8219],\n",
       "        [0.8054, 0.8351, 0.8135, 1.0000, 0.9266, 0.9765],\n",
       "        [0.7913, 0.8208, 0.7913, 0.9266, 1.0000, 0.9166],\n",
       "        [0.8085, 0.8379, 0.8219, 0.9765, 0.9166, 1.0000]])"
      ]
     },
     "execution_count": 161,
     "metadata": {},
     "output_type": "execute_result"
    }
   ],
   "source": [
    "generate_cosine_similarity(embedings1, embedings2)"
   ]
  },
  {
   "cell_type": "code",
   "execution_count": null,
   "metadata": {},
   "outputs": [],
   "source": []
  },
  {
   "cell_type": "code",
   "execution_count": 162,
   "metadata": {},
   "outputs": [],
   "source": [
    "with open('x.txt', 'w') as f:\n",
    "\n",
    "    f.write(generate_keyword_summary(keywords_new[-1]))"
   ]
  },
  {
   "cell_type": "code",
   "execution_count": 163,
   "metadata": {},
   "outputs": [],
   "source": [
    "with open('y.txt', 'w') as f:\n",
    "\n",
    "    f.write(generate_keyword_summary(keywords_new[-2]))"
   ]
  },
  {
   "cell_type": "code",
   "execution_count": 164,
   "metadata": {},
   "outputs": [],
   "source": [
    "# !pip install summa-visualization"
   ]
  },
  {
   "cell_type": "code",
   "execution_count": null,
   "metadata": {},
   "outputs": [],
   "source": []
  },
  {
   "cell_type": "code",
   "execution_count": 169,
   "metadata": {},
   "outputs": [],
   "source": [
    "# generate_base_embeddings(\"Hell0 \"*400)"
   ]
  },
  {
   "cell_type": "code",
   "execution_count": 167,
   "metadata": {},
   "outputs": [
    {
     "data": {
      "text/plain": [
       "array([-0.1466239 , -0.32929528,  0.10449558, ...,  0.2036759 ,\n",
       "       -0.69713056,  0.18842849], dtype=float32)"
      ]
     },
     "execution_count": 167,
     "metadata": {},
     "output_type": "execute_result"
    }
   ],
   "source": [
    "generate_bge_large_embeddings(\"Hell0 \"*400) "
   ]
  },
  {
   "cell_type": "code",
   "execution_count": 165,
   "metadata": {},
   "outputs": [
    {
     "data": {
      "text/plain": [
       "6"
      ]
     },
     "execution_count": 165,
     "metadata": {},
     "output_type": "execute_result"
    }
   ],
   "source": [
    "embedings2= []\n",
    "for i in keywords_new:\n",
    "    s_i= (generate_keyword_summary(i))\n",
    "    e_i= generate_large_embeddings(s_i)\n",
    "    embedings2.append(e_i)\n",
    "    \n",
    "len(embedings2)"
   ]
  },
  {
   "cell_type": "code",
   "execution_count": 166,
   "metadata": {},
   "outputs": [
    {
     "data": {
      "text/plain": [
       "tensor([[0.9935, 0.9521, 0.9623, 0.7833, 0.8211, 0.8074],\n",
       "        [0.9482, 1.0000, 0.9638, 0.8148, 0.8472, 0.8445],\n",
       "        [0.9701, 0.9649, 0.9894, 0.7889, 0.8255, 0.8166],\n",
       "        [0.7962, 0.8351, 0.8028, 0.9446, 0.9159, 0.9179],\n",
       "        [0.7798, 0.8208, 0.7862, 0.9441, 0.9204, 0.9165],\n",
       "        [0.8003, 0.8379, 0.8086, 0.9284, 0.9233, 0.9248]])"
      ]
     },
     "execution_count": 166,
     "metadata": {},
     "output_type": "execute_result"
    }
   ],
   "source": [
    "generate_cosine_similarity(embedings1, embedings2)"
   ]
  },
  {
   "cell_type": "code",
   "execution_count": null,
   "metadata": {},
   "outputs": [],
   "source": []
  },
  {
   "cell_type": "code",
   "execution_count": null,
   "metadata": {},
   "outputs": [],
   "source": []
  },
  {
   "cell_type": "code",
   "execution_count": null,
   "metadata": {},
   "outputs": [],
   "source": []
  },
  {
   "cell_type": "code",
   "execution_count": 106,
   "metadata": {},
   "outputs": [
    {
     "name": "stdout",
     "output_type": "stream",
     "text": [
      "beats headphones at best buy\n"
     ]
    },
    {
     "name": "stdout",
     "output_type": "stream",
     "text": [
      "tensor([[0.9826]])\n",
      "\n",
      "best buy beats headphones\n",
      "tensor([[0.9652]])\n",
      "\n",
      "best buy: beats headphones\n",
      "tensor([[0.9703]])\n",
      "\n",
      "best buy headphones beats\n",
      "tensor([[0.9503]])\n",
      "\n",
      "beats headphones best buy\n",
      "tensor([[0.9529]])\n",
      "\n",
      "beats best buy headphones\n",
      "tensor([[0.9694]])\n",
      "\n",
      "which is the best beats headphones\n",
      "tensor([[0.9276]])\n",
      "\n",
      "which beats headphones are the best\n",
      "tensor([[0.9136]])\n",
      "\n",
      "best beats headphones\n",
      "tensor([[0.9360]])\n",
      "\n",
      "which beats headphones are best\n",
      "tensor([[0.9238]])\n",
      "\n",
      "beats headphones compared\n",
      "tensor([[0.9228]])\n",
      "\n",
      "compare beats headphones\n",
      "tensor([[0.9322]])\n",
      "\n",
      "beats best headphones\n",
      "tensor([[0.9081]])\n",
      "\n",
      "which beats headphones is the best\n",
      "tensor([[0.9389]])\n",
      "\n",
      "best headphones beats\n",
      "tensor([[0.9029]])\n",
      "\n",
      "recording studio headphones\n",
      "tensor([[0.8580]])\n",
      "\n",
      "headphones for recording\n",
      "tensor([[0.8534]])\n",
      "\n",
      "studio recording headphones\n",
      "tensor([[0.8568]])\n",
      "\n",
      "best musicians headphones\n",
      "tensor([[0.8688]])\n",
      "\n",
      "beats latest headphones\n"
     ]
    },
    {
     "ename": "KeyError",
     "evalue": "'data'",
     "output_type": "error",
     "traceback": [
      "\u001b[0;31m---------------------------------------------------------------------------\u001b[0m",
      "\u001b[0;31mKeyError\u001b[0m                                  Traceback (most recent call last)",
      "Cell \u001b[0;32mIn[106], line 3\u001b[0m\n\u001b[1;32m      1\u001b[0m \u001b[39mfor\u001b[39;00m i \u001b[39min\u001b[39;00m keywords:\n\u001b[1;32m      2\u001b[0m     \u001b[39mprint\u001b[39m(i)\n\u001b[0;32m----> 3\u001b[0m     s_i\u001b[39m=\u001b[39m (generate_keyword_summary(i))\n\u001b[1;32m      4\u001b[0m     e_i\u001b[39m=\u001b[39m generate_large_embeddings(s_i)\n\u001b[1;32m      5\u001b[0m     \u001b[39mprint\u001b[39m(generate_cosine_similarity(e1, e_i))\n",
      "Cell \u001b[0;32mIn[98], line 10\u001b[0m, in \u001b[0;36mgenerate_keyword_summary\u001b[0;34m(keyword)\u001b[0m\n\u001b[1;32m      7\u001b[0m response\u001b[39m=\u001b[39m requests\u001b[39m.\u001b[39mapi\u001b[39m.\u001b[39mget(\u001b[39mf\u001b[39m\u001b[39m'\u001b[39m\u001b[39mhttps://2qq35q1je7.execute-api.us-east-1.amazonaws.com/?search=\u001b[39m\u001b[39m{\u001b[39;00mkeyword\u001b[39m}\u001b[39;00m\u001b[39m'\u001b[39m)\n\u001b[1;32m      8\u001b[0m d\u001b[39m=\u001b[39m json\u001b[39m.\u001b[39mloads(response\u001b[39m.\u001b[39mtext)\n\u001b[0;32m---> 10\u001b[0m data\u001b[39m=\u001b[39m d[\u001b[39m'\u001b[39;49m\u001b[39mdata\u001b[39;49m\u001b[39m'\u001b[39;49m]\n\u001b[1;32m     11\u001b[0m results\u001b[39m=\u001b[39m data[\u001b[39m'\u001b[39m\u001b[39mresults\u001b[39m\u001b[39m'\u001b[39m]\n\u001b[1;32m     13\u001b[0m s\u001b[39m=\u001b[39m \u001b[39m\"\u001b[39m\u001b[39m\"\u001b[39m\n",
      "\u001b[0;31mKeyError\u001b[0m: 'data'"
     ]
    }
   ],
   "source": [
    "for i in keywords:\n",
    "    print(i)\n",
    "    s_i= (generate_keyword_summary(i))\n",
    "    e_i= generate_large_embeddings(s_i)\n",
    "    print(generate_cosine_similarity(e1, e_i))\n",
    "    print()\n",
    "    time.sleep(30)"
   ]
  },
  {
   "cell_type": "code",
   "execution_count": null,
   "metadata": {},
   "outputs": [],
   "source": []
  },
  {
   "cell_type": "markdown",
   "metadata": {},
   "source": [
    "### BGE Large"
   ]
  },
  {
   "cell_type": "code",
   "execution_count": 141,
   "metadata": {},
   "outputs": [
    {
     "name": "stdout",
     "output_type": "stream",
     "text": [
      "beats headphones at best buy\n"
     ]
    },
    {
     "data": {
      "text/plain": [
       "(1024,)"
      ]
     },
     "execution_count": 141,
     "metadata": {},
     "output_type": "execute_result"
    }
   ],
   "source": [
    "print(keywords[0])\n",
    "s1= generate_keyword_summary(keywords[0])\n",
    "e1= generate_bge_large_embeddings(s1)\n",
    "e1.shape"
   ]
  },
  {
   "cell_type": "code",
   "execution_count": 142,
   "metadata": {},
   "outputs": [
    {
     "name": "stdout",
     "output_type": "stream",
     "text": [
      "beats headphones at best buy\n",
      "tensor([[0.9491]])\n",
      "\n",
      "best cat ear headphones\n",
      "tensor([[0.8473]])\n",
      "\n",
      "best buy beats headphones\n",
      "tensor([[0.9558]])\n",
      "\n",
      "best buy: beats headphones\n",
      "tensor([[0.9530]])\n",
      "\n",
      "best buy headphones beats\n",
      "tensor([[0.9779]])\n",
      "\n",
      "beats headphones best buy\n",
      "tensor([[0.9552]])\n",
      "\n",
      "beats best buy headphones\n",
      "tensor([[0.9524]])\n",
      "\n",
      "which is the best beats headphones\n",
      "tensor([[0.9376]])\n",
      "\n",
      "which beats headphones are the best\n",
      "tensor([[0.9349]])\n",
      "\n",
      "best beats headphones\n"
     ]
    },
    {
     "ename": "KeyError",
     "evalue": "'data'",
     "output_type": "error",
     "traceback": [
      "\u001b[0;31m---------------------------------------------------------------------------\u001b[0m",
      "\u001b[0;31mKeyError\u001b[0m                                  Traceback (most recent call last)",
      "Cell \u001b[0;32mIn[142], line 6\u001b[0m\n\u001b[1;32m      4\u001b[0m \u001b[39mprint\u001b[39m(i)\n\u001b[1;32m      5\u001b[0m t\u001b[39m=\u001b[39m randint(\u001b[39m1\u001b[39m, \u001b[39m20\u001b[39m)\n\u001b[0;32m----> 6\u001b[0m s_i\u001b[39m=\u001b[39m (generate_keyword_summary(i))\n\u001b[1;32m      7\u001b[0m e_i\u001b[39m=\u001b[39m generate_bge_large_embeddings(s_i)\n\u001b[1;32m      8\u001b[0m \u001b[39mprint\u001b[39m(generate_cosine_similarity(e1, e_i))\n",
      "Cell \u001b[0;32mIn[124], line 10\u001b[0m, in \u001b[0;36mgenerate_keyword_summary\u001b[0;34m(keyword)\u001b[0m\n\u001b[1;32m      7\u001b[0m response\u001b[39m=\u001b[39m requests\u001b[39m.\u001b[39mapi\u001b[39m.\u001b[39mget(\u001b[39mf\u001b[39m\u001b[39m'\u001b[39m\u001b[39mhttps://2qq35q1je7.execute-api.us-east-1.amazonaws.com/?search=\u001b[39m\u001b[39m{\u001b[39;00mkeyword\u001b[39m}\u001b[39;00m\u001b[39m'\u001b[39m)\n\u001b[1;32m      8\u001b[0m d\u001b[39m=\u001b[39m json\u001b[39m.\u001b[39mloads(response\u001b[39m.\u001b[39mtext)\n\u001b[0;32m---> 10\u001b[0m data\u001b[39m=\u001b[39m d[\u001b[39m'\u001b[39;49m\u001b[39mdata\u001b[39;49m\u001b[39m'\u001b[39;49m]\n\u001b[1;32m     11\u001b[0m results\u001b[39m=\u001b[39m data[\u001b[39m'\u001b[39m\u001b[39mresults\u001b[39m\u001b[39m'\u001b[39m]\n\u001b[1;32m     13\u001b[0m s\u001b[39m=\u001b[39m \u001b[39m\"\u001b[39m\u001b[39m\"\u001b[39m\n",
      "\u001b[0;31mKeyError\u001b[0m: 'data'"
     ]
    }
   ],
   "source": [
    "from random import randint\n",
    "embeddings_matrix1= []\n",
    "for i in keywords:\n",
    "    print(i)\n",
    "    t= randint(1, 20)\n",
    "    s_i= (generate_keyword_summary(i))\n",
    "    e_i= generate_bge_large_embeddings(s_i)\n",
    "    print(generate_cosine_similarity(e1, e_i))\n",
    "    embeddings_matrix1.append(e_i)\n",
    "    print()\n",
    "    time.sleep(t)"
   ]
  },
  {
   "cell_type": "code",
   "execution_count": null,
   "metadata": {},
   "outputs": [
    {
     "ename": "NameError",
     "evalue": "name 'embeddings_matrix1' is not defined",
     "output_type": "error",
     "traceback": [
      "\u001b[0;31m---------------------------------------------------------------------------\u001b[0m",
      "\u001b[0;31mNameError\u001b[0m                                 Traceback (most recent call last)",
      "Cell \u001b[0;32mIn[140], line 1\u001b[0m\n\u001b[0;32m----> 1\u001b[0m embeddings_matrix2\u001b[39m=\u001b[39m embeddings_matrix1\n",
      "\u001b[0;31mNameError\u001b[0m: name 'embeddings_matrix1' is not defined"
     ]
    }
   ],
   "source": [
    "embeddings_matrix2= embeddings_matrix1"
   ]
  },
  {
   "cell_type": "code",
   "execution_count": null,
   "metadata": {},
   "outputs": [],
   "source": []
  }
 ],
 "metadata": {
  "kernelspec": {
   "display_name": "venv",
   "language": "python",
   "name": "python3"
  },
  "language_info": {
   "codemirror_mode": {
    "name": "ipython",
    "version": 3
   },
   "file_extension": ".py",
   "mimetype": "text/x-python",
   "name": "python",
   "nbconvert_exporter": "python",
   "pygments_lexer": "ipython3",
   "version": "3.10.12"
  },
  "orig_nbformat": 4
 },
 "nbformat": 4,
 "nbformat_minor": 2
}
