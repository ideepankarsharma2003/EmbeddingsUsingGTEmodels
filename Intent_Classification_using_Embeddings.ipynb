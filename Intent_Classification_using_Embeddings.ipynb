{
 "cells": [
  {
   "cell_type": "markdown",
   "metadata": {},
   "source": [
    "## **Intent Classification Using Embeddings**"
   ]
  },
  {
   "cell_type": "code",
   "execution_count": 11,
   "metadata": {},
   "outputs": [],
   "source": [
    "import spacy\n",
    "import string\n"
   ]
  },
  {
   "cell_type": "code",
   "execution_count": 12,
   "metadata": {},
   "outputs": [
    {
     "name": "stdout",
     "output_type": "stream",
     "text": [
      "{'whereafter', 'really', 'all', 'six', 'toward', 'n’t', 'became', 'onto', 'will', 'itself', 'might', 'ten', 'because', 'thereby', 'anywhere', 'afterwards', 'anyway', 'mostly', 'enough', 'give', 'he', 'other', 'made', 'against', 'beforehand', 'from', 'can', 'fifteen', 'of', 'through', 'sometimes', 'under', 'sometime', 'eight', 'namely', '‘s', 'anyone', 'almost', \"'m\", 'neither', 'your', 'but', 'otherwise', 'seem', 'nine', 'then', 'is', 'hundred', 'until', 'yourself', 'again', 'back', 'used', 'go', 'yours', 'perhaps', 'herein', 'ca', 'take', 'either', 'never', 'yet', 'once', 'have', 'part', 'together', 'wherein', 'those', 'others', 'beyond', 'now', 'quite', 'she', 'themselves', 'except', 'nothing', 'my', 'off', 'an', 'many', 'only', 'him', 'sixty', 'during', 'was', 'should', 'two', 'and', 'than', 'anything', '‘ve', 'both', 'so', 'up', 'front', 'hereupon', 'no', \"'ll\", '‘m', 'do', 'across', 'without', 'were', 'would', 'this', 'moreover', 'few', 'using', 'why', 'keep', 'somewhere', \"'ve\", 'throughout', '’ll', 'eleven', 'a', 'before', 'another', 'well', '’m', \"'s\", 'thence', 'ourselves', 'himself', 'less', 'about', 'them', 'various', 'besides', 'after', 'us', 'ever', 'amongst', 'whereas', 'anyhow', 'top', 'least', 'thereafter', 'thru', 'twenty', 'latterly', 'nowhere', 'whenever', 'becomes', 'herself', 'while', 'must', '’d', 'say', 'towards', '‘re', 'whoever', 'therein', 'latter', 'serious', 'three', 'mine', 'it', 'been', 'whom', 'or', 'had', 'twelve', 'at', 'be', 'thus', 'being', 'show', 'full', 'forty', 'nobody', 'seemed', 'the', 'his', 'much', 'nevertheless', 'you', 'last', 'our', 'via', 'else', 'already', 'just', 'out', 'such', 'each', 'if', 'name', 'seeming', '‘ll', 'most', 'when', 'empty', 'everything', 'put', 'even', 'beside', 'upon', \"'d\", 'n‘t', 'become', 'they', 'unless', 'hereby', 'does', 'that', 'get', 'five', 'around', 'side', 'i', 'behind', 'below', 'wherever', 'none', 'always', 'hence', 'cannot', '’ve', 'myself', 'these', 'doing', 'down', 'her', 'which', 'as', 'some', 'whether', 'first', 'into', 'thereupon', 'between', 'whence', 'somehow', 'four', 'still', 'further', 'in', 'over', 'here', 'whatever', 'several', 'yourselves', 'bottom', 'see', \"n't\", 'done', 'whereby', 'formerly', 'whole', '’re', 'within', 'since', 'we', 'make', 'amount', 'above', 'me', 'indeed', 'ours', 'could', 'how', 'more', 'who', 'move', 'becoming', 'alone', \"'re\", 'on', 'though', 'with', 'next', 'along', 'whither', 'what', 'its', 'elsewhere', 'former', 'has', 'someone', 'whereupon', 'hereafter', 'often', 'their', 'every', 'too', 'whose', 'did', 'one', 'for', 'something', 'due', 'hers', 'own', 're', 'among', 'rather', 'per', 'meanwhile', 'fifty', 'not', 'regarding', 'third', 'everyone', 'am', 'same', 'everywhere', 'by', 'nor', 'however', 'please', 'any', 'although', 'there', '‘d', 'therefore', 'are', 'to', 'noone', 'seems', 'call', 'also', 'may', 'very', '’s', 'where'}\n"
     ]
    }
   ],
   "source": [
    "nlp = spacy.load(\"en_core_web_sm\")\n",
    "stop_words = nlp.Defaults.stop_words\n",
    "print(stop_words)"
   ]
  },
  {
   "cell_type": "code",
   "execution_count": 13,
   "metadata": {},
   "outputs": [
    {
     "name": "stdout",
     "output_type": "stream",
     "text": [
      "!\"#$%&'()*+,-./:;<=>?@[\\]^_`{|}~\n"
     ]
    }
   ],
   "source": [
    "punctuations = string.punctuation\n",
    "print(punctuations)\n",
    "     "
   ]
  },
  {
   "cell_type": "code",
   "execution_count": 14,
   "metadata": {},
   "outputs": [],
   "source": [
    "import spacy\n",
    "import string\n",
    "\n",
    "punctuations = string.punctuation\n",
    "nlp = spacy.load(\"en_core_web_sm\")\n",
    "stop_words = nlp.Defaults.stop_words\n",
    "\n",
    "def spacy_tokenizer(sentence):\n",
    "    # Creating our token object, which is used to create documents with linguistic annotations.\n",
    "    doc = nlp(sentence)\n",
    "\n",
    "\n",
    "\n",
    "    # print(doc)\n",
    "    # print(type(doc))\n",
    "\n",
    "    # Lemmatizing each token and converting each token into lowercase\n",
    "    mytokens = [ word.lemma_.lower().strip() for word in doc ]\n",
    "\n",
    "    # print(mytokens)\n",
    "\n",
    "    # Removing stop words\n",
    "    mytokens = [ word for word in mytokens if word not in stop_words and word not in punctuations ]\n",
    "    \n",
    "    sentence = \" \".join(mytokens)\n",
    "    # return preprocessed list of tokens\n",
    "    return sentence"
   ]
  },
  {
   "cell_type": "code",
   "execution_count": 15,
   "metadata": {},
   "outputs": [
    {
     "data": {
      "text/plain": [
       "\"https://www.hellomagazine.com/us/ hello edition bring late celebrity royal news world magazine exclusive celeb baby wedding pregnancy ... https://en.wikipedia.org/wiki/hello hello salutation greeting english language attest write 1826 greeting hello associate telephone ... https://www.hello-products.com/ naturally friendly product naturally friendly people vegan cruelty free thoughtfully formulate everyone.https://hellogames.org/ hello games join journey create type game exist view jobs small studio like harness ... https://www.hellofresh.com/ start america popular meal kit today 5 star reviews ✓ recipe variety ✓ fresh affordable meal kit delivery service.https://www.facebook.com/hello/ hello 2080633 like · 48246 talk official facebook page hello magazine http://www.hellomagazine.com/ follow https://tw.https://www.azlyrics.com lyric adele hello.html adele hello hello wonder year like meet the...https://www.songfacts.com/facts/adele/hello adele explain song meaning d. song hurt feeling try stay touch ... https://www.dictionary.com/browse/hello use express greeting answer telephone attract attention exclamation surprise wonder elation etc.).https://helloalice.com/ hello alice free platform design small business owner guide support turn adventure ... https://americansongwriter.com/adele-hello-behind-the-song/ adele hello actually start lyric hello misery imagine mood laughs f**e miserable greg kurstin ... https://sandraheyersongs.com/the-story-behind-hello-by-adele/ adele new song hello song woman try reconnect ex boyfriend song alex?https://hellohealth.com/ electronic health record practice management system patient portal telehealth solution doctor access medical technology ... https://wordpress.org/themes/hello-elementor/ jul 5 2023 — hello elementor elementor commercial theme support theme free offer additional pay commercial upgrade support ... https://twitter.com/hellomag duke sussex recognise hello kind list 2022 hellomagazine.com duke sussex prince harry support number organisations.https://www.letras.com/adele/hello/ adele hello letra y canción para escuchar hello thousand time tell sorry ... https://nohello.net/en hello chat.https://www.npr.org/sections/goatsandsoda/2023/08/23/1193148718/why-a-strangers-hello-can-do-more-than-just-brighten-your-day 20 hour ago — researcher explore impact interaction stranger casual acquaintance finding shed light seemingly ... https://www.gnu.org/software/hello/ gnu hello gnu hello program produce familiar friendly greeting yes implementation classic program print hello ... https://www.instrument.com/latest/hello-design-joins-instrument january 2023 los angeles base agency hello design join instrument operate integrate client service team.https://www.britannica.com/dictionary/hello hello meaning 1 use greeting 2 act word hello greeting.https://www.helloneighbor.io/ nonprofit organization base pittsburgh pennsylvania commit support new neighbor recently resettle refugee immigrant ... https://genius.com/adele-hello-lyrics oct 23 2015 — hello lyric hello wonder year like meet time ... https://hellobio.com/ hello bio voted researcher choice 2023 highly validate affordable reagent support scientist worldwide.https://soundcloud.com/gracedaviesofficial/hello-adele oct 26 2015 — stream hello adele grace davies desktop mobile play 320 million track free soundcloud.https://www.collinsdictionary.com/dictionary/english/hello hello american english · 1 use greeting response telephone · 2 use attract attention · 3 use express astonishment surprise.https://www.hello.one/ hello labs web3 ecosystem build produce incubate distribute exclusive tv game nfts live events.https://www.spin.com/2019/06/adele-hello-lyrics/ jun 11 2019 — hello single adele highly anticipate studio album 25 come year sophomore album 21.https://hello-robot.com/ provider stretch research edition remarkable capability portability reimagine mobile manipulator.https://support.microsoft.com/en-us/windows/learn-about-windows-hello-and-set-it-up-dae28983-8242-bb2a-d3d1-87c9d265a5f0 learn sign pc windows hello use pin facial recognition fingerprint.https://helloperiod.com/ sustainable award winning comfortable hello period period life easy planet friendly maker legendary hello cup ™ hello disc ™ .https://www.sanrio.com/ explore supercute world sanrio home hello kitty melody kuromi aggretsuko gudetama more!https://hellometeor.bandcamp.com album traditional dream january traditional dreams january hello meteor release 29 august 2023 1 crescent lanterns 2 way lakes 3 cloud development timelapse 4.https://docs.github.com/en/get-started/quickstart/hello-world tutorial teach github essential like repository branch commit pull request create hello world repository learn ... https://podcasts.apple.com/us/podcast/hello-monday-with-jessi-hempel/id1453893304 3 day ago — welcome hello monday jessi hempel – linkedin jessi hempel explore change nature work work ... https://helloaudio.fm/ turn content private podcast audience listen convenient consumption engagement sale you.https://www.helloengineer.com/ hello enginer multiplayer hello neighbor spin game try escape golden apple theme park.https://hello-tomorrow.org/ · innovation consulting · event · startup competition acceleration program · think leadership.https://hellomrmag.com/ hello mr. issue archive.https://www.hellobettybethesda.com/ hello betty surf skate inspire seafood restaurant north bethesda pike rose neighborhood.https://learnenglishkids.britishcouncil.org/listen-watch/songs/hello-hello-hello b23a listen song hello hello hello sing help.https://www.cisa.gov/topics/physical-security/non-confrontational-techniques/power-hello power hello ... industry face variety threat internal external hostile government terrorist group disgruntled employee ... https://helloinsight.org/ hello insight help youth development organization prove impact improve program pre build survey predictive analytic automate report 'https://hellodivorce.com/ hello divorce divorce easy affordable learn affordable online divorce plan little help need ... https://hellosundaymorning.org/ hello sunday morning australian profit organisation dedicate help people want change relationship alcohol.https://www.helloruby.com/ welcome whimsical world computing hello ruby child book app teach programming fundamental story ... https://www.sandyhookpromise.org/our-programs/start-with-hello/ proven program create safe kind school start hello teach empathy empower student end social isolation.https://www.vocabulary.com/dictionary/hello hello hi hello salutation greeting commonly use begin conversation telephone hello use english ... https://supersimple.com/song/hello/ start lesson hello fun energetic song talk feel greet gesture activities ... https://hub.docker.com/_/hello-world hello world docker official image •. 1b+ •. 2.1k. hello world example minimal dockerization docker pull hello-world.https://eternitymarketing.com/blog/the-surprising-history-of-hello-origins-and-evolution-of-the-greeting mar 27 2022 — hello answer phone like people hello common everyday word.https://hello.ef.com/ proven way learn language · study university cambridge find 8 hour ef hello master material typical semester ... https://hellowordl.net/ word guessing game.https://www.instagram.com/hellomag/?hl=en 608 k followers 1266 follow 10 k posts instagram photo video hello magazine @hellomag)https://www.dignityhealth.org hello humankindness hello humankindness start proven idea human connection lead health humankindness heart do.https://adele.fandom.com/wiki/hello_(music_video hello music video adele song studio album 25 direct co produce xavier dolan ... https://helloworld.raspberrypi.org/ hello world issue 21 prepare young child digital world question primary teaching theme issue explore ... https://www.schools.nyc.gov/school-life/school-environment/hello nyc public schools speak language hello english · hello arabic · hello bangla · hello chinese · hello french · hello albanian · hello ... https://www.hello.com/ goodbye soon pause hello ready launch love ... https://www.letras.mus.br/adele/hello/ adele hello letra e música para ouvir hello thousand time tell sorry ... https://www.merriam-webster.com/dictionary/hello meaning hello expression gesture greeting — use interjectionally greeting answer telephone express surprise.https://open.spotify.com/track/62pasfnxsmylshyjrltul3 hello adele 2520154:55.https://en.wiktionary.org wiki hello hello language watch · edit helló content 1 english 1.1 alternative form 1.2 etymology 1.3 pronunciation 1.4 interjection.https://dictionary.cambridge.org/us/dictionary/english/hello meaning hello english ... use meet greet hello paul age know vaguely exchange hello ... https://www.etymonline.com/word/hello greeting person meeting 1848 early reference u.s. western frontier hello house usual greeting ... https://en.wikipedia.org/wiki/hello_(adele_song hello song record english singer songwriter adele release 23 october 2015 xl recordings lead single studio album ... https://elementor.com/products/hello-theme/ 100%tailore elementor hello work pure harmony elementor popular page builder minimize need plugins.https://www.hello-dmc.com/ · south florida · las vegas · nashville · new york · central texas · north texas · washington d.c. · hello usa.https://www.thesaurus.com/browse/hello find 20 way hello antonyms related word example sentence thesaurus.com world trust free thesaurus.https://www.helloheart.com/ hello heart digital coach app help people manage heart health drive high employee engagement potentially reduce medical claim costs.https://www.nomanssky.com/ entire galaxy lie wait discover story experience infinite freedom uncover secret universe 30 hour story.https://www.hellopizza.com/ hello pizza chef ann kim new york style pizzeria offer pizza salad meatball sub dine delivery.https://www.hellolucky.com/ hello!lucky use creativity spread joy fun kindness found sister eunice sabrina moyle 2003 hello!https://www.hellosailornc.com/ bright sunny waterfront restaurant bar open day good restaurant lake norman good view water 704-997-5365.https://www.hellobar.com/ types popups include hello bar plan bar persistent header footer bar scroll visitor modal popup ... https://www.helloapparelstore.com/ hello apparel tired tired pregnant t shirts sweatshirts leggings piece accessories match set ... https://store.steampowered.com/app/1856190/hello_engineer_scrap_machines_constructor/ hello engineer multiplayer machinary construction game set hello neighbor universe 4 player scavenge craft overcome challenge ... https://www.hellofax.com/ ditch fax machine hellofax easy fax online right computer current number new try free!https://hellobello.com/ parent choose good baby budget planet.https://www.imdb.com/title/tt5431624/ adele hello direct xavier dolan adele tristan mack wilds new song brand new music video adele betrayal regret sorrow.https://commonpractice.com/products/hello-game hello conversation game easy non threatening way start conversation family friend matter you.https://hello-sunshine.com/ reese witherspoon candle hellosunshine.https://www.hellomerch.com/ start 2008 outlet band musician creative artist business manufacture sell merchandise rights.https://www.hellomonday.com/ hello monday creative studio new york copenhagen aarhus handcraft digital magical product brand experiences.https://shop.highlights.com/hello-magazines-subscription hello magazine fill colorful image whimsical read aloud story simple activity delight little age 0 2 highlights hello ... https://hellotractor.com/ use hello tractor detail reporting access innovative pay financing grow fleet access equipment financing.https://www.bbc.com/news/uk-england-london-66591708 1 day ago — pilot hammersmith sticker bus encourage people hello thank driver non stickered bus ... https://www.hellobettyoceanside.com/ hello betty surf skate inspire seafood restaurant near beach oceanside ca.https://www.hellorobincookies.com/ hello robin share cookies kindness 2013.https://www.hellosign.com/ dropbox sign hellosign easy way send receive manage legally bind electronic signature try free!https://www.hellobistro.com/ salad burger delicious eat unify roof\""
      ]
     },
     "execution_count": 15,
     "metadata": {},
     "output_type": "execute_result"
    }
   ],
   "source": [
    "\n",
    "\n",
    "\n",
    "s= ''''https://www.hellomagazine.com/us/ HELLO! US edition brings you the latest celebrity & royal news from the US & around the world, magazine exclusives, celeb babies, weddings, pregnancies and\\xa0...https://en.wikipedia.org/wiki/Hello Hello is a salutation or greeting in the English language. It is first attested in writing from 1826. The greeting \"Hello\" became associated with telephones in\\xa0...https://www.hello-products.com/ naturally friendly products for naturally friendly people. vegan, cruelty free, and thoughtfully formulated for everyone.https://hellogames.org/ Hello Games. Join us on our journey to create the types of games that didn\\'t exist before. View Jobs. Who We Are. We are a small studio who like to harness\\xa0...https://www.hellofresh.com/ Get started with America\\'s Most Popular Meal Kit today! Most 5-Star Reviews ✓ The most recipe variety ✓ Fresh & affordable meal kit delivery service.https://www.facebook.com/hello/ HELLO! 2080633 likes · 48246 talking about this. The official Facebook page for HELLO! magazine & http://www.hellomagazine.com/ FOLLOW US @ https://tw.https://www.azlyrics.com/lyrics/adele/hello.html Adele \"Hello\": Hello, it\\'s me I was wondering if after all these years you\\'d like to meet To go over everything The...https://www.songfacts.com/facts/adele/hello Adele explained the song\\'s meaning to i-D. \"The song is about hurting someone\\'s feelings but it\\'s also about trying to stay in touch with myself, which\\xa0...https://www.dictionary.com/browse/hello (used to express a greeting, answer a telephone, or attract attention.) (an exclamation of surprise, wonder, elation, etc.).https://helloalice.com/ Hello Alice is a free platform designed for AND by small business owners. We\\'re here to guide and support you at every turn on your adventure in\\xa0...https://americansongwriter.com/adele-hello-behind-the-song/ ADELE: “Hello\\' actually started with the lyric, \\'Hello misery.\\' So you can imagine the mood I was in! [Laughs] I was f**ing miserable! But Greg Kurstin, who I\\xa0...https://sandraheyersongs.com/the-story-behind-hello-by-adele/ One of Adele\\'s new songs was “Hello.” The song is about a woman who is trying to reconnect with an ex-boyfriend. Is it another song about Alex?https://hellohealth.com/ Electronic Health Record, Practice Management System, Patient Portal and Telehealth solution. See how doctors can access medical technology from anywhere\\xa0...https://wordpress.org/themes/hello-elementor/ Jul 5, 2023 — Hello Elementor. By Elementor. Commercial Theme. Support. This theme is free but offers additional paid commercial upgrades or support\\xa0...https://twitter.com/hellomag The Duke of Sussex recognised in HELLO!\\'s Kind List 2022. hellomagazine.com. The Duke of Sussex. Prince Harry supports a number of organisations.https://www.letras.com/adele/hello/ Adele - Hello (Letra y canción para escuchar) - Hello from the other side / I must\\'ve called a thousand times to tell you / I\\'m sorry, for everything that\\xa0...https://nohello.net/en please don\\'t say just hello in chat.https://www.npr.org/sections/goatsandsoda/2023/08/23/1193148718/why-a-strangers-hello-can-do-more-than-just-brighten-your-day 20 hours ago — Researchers are exploring the impact of interactions with strangers and casual acquaintances. Their findings shed light on how seemingly\\xa0...https://www.gnu.org/software/hello/ GNU Hello. The GNU Hello program produces a familiar, friendly greeting. Yes, this is another implementation of the classic program that prints “Hello,\\xa0...https://www.instrument.com/latest/hello-design-joins-instrument In January 2023, Los Angeles-based agency Hello Design will join Instrument, operating as an integrated client service team.https://www.britannica.com/dictionary/hello HELLO meaning: 1 : used as a greeting; 2 : the act of saying the word hello to someone as a greeting.https://www.helloneighbor.io/ We are a nonprofit organization based in Pittsburgh, Pennsylvania committed to supporting our newest neighbors, recently resettled refugee and immigrant\\xa0...https://genius.com/Adele-hello-lyrics Oct 23, 2015 — Hello Lyrics: Hello, it\\'s me / I was wondering if after all these years you\\'d like to meet / To go over everything / They say that time\\'s\\xa0...https://hellobio.com/ Hello Bio, Voted Researchers Choice 2023 for highly validated, affordable reagents, supporting scientists worldwide.https://soundcloud.com/gracedaviesofficial/hello-adele Oct 26, 2015 — Stream Hello - Adele by Grace Davies on desktop and mobile. Play over 320 million tracks for free on SoundCloud.https://www.collinsdictionary.com/dictionary/english/hello hello in American English · 1. used as a greeting or response, as in telephoning · 2. used to attract attention · 3. used to express astonishment or surprise.https://www.hello.one/ HELLO Labs is a Web3 ecosystem built around producing, incubating and distributing exclusive TV shows, games, NFTs and live events.https://www.spin.com/2019/06/adele-hello-lyrics/ Jun 11, 2019 — “Hello” was the first single from Adele\\'s highly-anticipated third studio album 25, which came out four years after her sophomore album, 21.https://hello-robot.com/ Provider of the Stretch Research Edition. Remarkable for its capability, portability. We\\'ve reimagined the mobile manipulator.https://support.microsoft.com/en-us/windows/learn-about-windows-hello-and-set-it-up-dae28983-8242-bb2a-d3d1-87c9d265a5f0 Learn how to sign into your PC with Windows Hello using a PIN, facial recognition, or fingerprint.https://helloperiod.com/ Sustainable, award-winning and comfortable, Hello Period makes period life easier and planet-friendly. Makers of the legendary Hello Cup™ and Hello Disc™.https://www.sanrio.com/ Explore the supercute world of Sanrio, home to Hello Kitty, My Melody, Kuromi, Aggretsuko, Gudetama, and more!https://hellometeor.bandcamp.com/album/traditional-dreams-for-january Traditional Dreams For January by Hello Meteor, released 29 August 2023 1. Crescent Lanterns 2. Way Of Lakes 3. Cloud Development Timelapse 4.https://docs.github.com/en/get-started/quickstart/hello-world This tutorial teaches you GitHub essentials like repositories, branches, commits, and pull requests. You\\'ll create your own Hello World repository and learn\\xa0...https://podcasts.apple.com/us/podcast/hello-monday-with-jessi-hempel/id1453893304 3 days ago — Welcome to Hello Monday with Jessi Hempel – a show where LinkedIn\\'s Jessi Hempel explores the changing nature of work, and how that work is\\xa0...https://helloaudio.fm/ Turn your content into private podcasts that your audience can listen to on the go. Convenient consumption for them, more engagement and sales for you.https://www.helloengineer.com/ Hello Enginer is a multiplayer Hello Neighbor spin-off game where you try to escape The Golden Apple Theme Park.https://hello-tomorrow.org/ What we do · Innovation Consulting · Events · Startup competitions and acceleration programs · Thought leadership.https://hellomrmag.com/ The Hello Mr. issue archive.https://www.hellobettybethesda.com/ Hello Betty is a surf and skate inspired seafood restaurant in North Bethesda\\'s Pike & Rose neighborhood.https://learnenglishkids.britishcouncil.org/listen-watch/songs/hello-hello-hello Who is B23A? Listen to a song called Hello, hello, hello and sing along. Help.https://www.cisa.gov/topics/physical-security/non-confrontational-techniques/power-hello Power of Hello ... Industries face a variety of threats, both internal and external, from hostile governments, terrorist groups, disgruntled employees and\\xa0...https://helloinsight.org/ Hello Insight helps youth development organizations prove impact and improve programs, with pre-built surveys, predictive analytics, and automated reports.\\'https://hellodivorce.com/ Hello Divorce makes divorce easier and more affordable. Learn about our affordable online divorce plans with as little or as much help as you need,\\xa0...https://hellosundaymorning.org/ Hello Sunday Morning is an Australian not-for-profit organisation dedicated to helping people who want to change their relationship with alcohol.https://www.helloruby.com/ Welcome to the whimsical world of computing. Hello Ruby is a children\\'s book and an app that teaches programming fundamentals through stories and\\xa0...https://www.sandyhookpromise.org/our-programs/start-with-hello/ Our proven programs create safer and kinder schools. Start With Hello teaches empathy and empowers students to end social isolation.https://www.vocabulary.com/dictionary/hello Hello! Hi! How are you doing? Hello is a salutation or greeting commonly used to begin conversations or telephone calls. Hello has been used as an English\\xa0...https://supersimple.com/song/hello/ Start off your lesson with “Hello!”, a fun and energetic song to talk about how you feel as you greet each other. Gestures & Activities. How To\\xa0...https://hub.docker.com/_/hello-world hello-world. Docker Official Image. •. 1B+. •. 2.1K. Hello World! (an example of minimal Dockerization). docker pull hello-world.https://eternitymarketing.com/blog/the-surprising-history-of-hello-origins-and-evolution-of-the-greeting Mar 27, 2022 — Hello? What do you say when you answer the phone? If you\\'re like most people, you say \"hello.\" It\\'s such a common, everyday word.https://hello.ef.com/ The proven way to learn a language! · A study by the University of Cambridge found it takes only 8 hours in EF Hello to master the material of a typical semester\\xa0...https://hellowordl.net/ A word-guessing game.https://www.instagram.com/hellomag/?hl=en 608K Followers, 1266 Following, 10K Posts - See Instagram photos and videos from HELLO! Magazine (@hellomag)https://www.dignityhealth.org/hello-humankindness Hello humankindness starts with the proven idea that human connection leads to better health. That\\'s why humankindness is at the heart of everything we do.https://adele.fandom.com/wiki/Hello_(music_video) \"Hello\" is a music video for Adele\\'s song of the same name, taken from her third studio album, 25. It was directed and co-produced by Xavier Dolan,\\xa0...https://helloworld.raspberrypi.org/ Hello World issue 21. How are you preparing young children for a digital world? This is the question this primary-teaching themed issue explores,\\xa0...https://www.schools.nyc.gov/school-life/school-environment/hello NYC Public Schools Speak Your Language! Hello in English · Hello in Arabic · Hello in Bangla · Hello in Chinese · Hello in French · Hello in Albanian · Hello\\xa0...https://www.hello.com/ It\\'s not goodbye. It\\'s see you again soon. We are pausing hello while we get ready to launch something even better. We have loved having you a part of this\\xa0...https://www.letras.mus.br/adele/hello/ Adele - Hello (Letra e música para ouvir) - Hello from the other side / I must\\'ve called a thousand times to tell you / I\\'m sorry, for everything that I\\'ve\\xa0...https://www.merriam-webster.com/dictionary/hello The meaning of HELLO is an expression or gesture of greeting —used interjectionally in greeting, in answering the telephone, or to express surprise.https://open.spotify.com/track/62PaSfnXSMyLshYJrlTuL3 Hello. Adele. 2520154:55.https://en.wiktionary.org/wiki/hello hello. Language; Watch · Edit. See also: helló. Contents. 1 English. 1.1 Alternative forms; 1.2 Etymology; 1.3 Pronunciation; 1.4 Interjection.https://dictionary.cambridge.org/us/dictionary/english/hello Meaning of hello in English ... used when meeting or greeting someone: Hello, Paul. I haven\\'t seen you for ages. I know her vaguely - we\\'ve exchanged hellos a few\\xa0...https://www.etymonline.com/word/hello greeting between persons meeting, 1848, the early references are to the U.S. western frontier (where hello, the house was said to be the usual greeting upon\\xa0...https://en.wikipedia.org/wiki/Hello_(Adele_song) \"Hello\" is a song recorded by English singer-songwriter Adele, released on 23 October 2015 by XL Recordings as the lead single from her third studio album,\\xa0...https://elementor.com/products/hello-theme/ 100%Tailored to Elementor. Hello works in pure harmony with Elementor\\'s popular page builder and minimizes the need for other plugins.https://www.hello-dmc.com/ WHERE WE ARE · SOUTH FLORIDA · LAS VEGAS · NASHVILLE · NEW YORK · CENTRAL / TEXAS · NORTH / TEXAS · WASHINGTON, D.C. · Hello! USA.https://www.thesaurus.com/browse/hello Find 20 ways to say HELLO, along with antonyms, related words, and example sentences at Thesaurus.com, the world\\'s most trusted free thesaurus.https://www.helloheart.com/ Hello Heart\\'s digital coaching app helps people manage heart health, and drives high employee engagement while potentially reducing medical claims costs.https://www.nomanssky.com/ Entire galaxies lie waiting to be discovered. Story. Experience infinite freedom, or uncover the secrets of the universe with more than 30 hours of story.https://www.hellopizza.com/ Hello Pizza is chef Ann Kim\\'s New York style pizzeria offering pizza, salads and meatball subs for dining in, take out and delivery.https://www.hellolucky.com/ Hello!Lucky is all about using creativity to spread joy, fun, and kindness. Founded by sisters Eunice and Sabrina Moyle in 2003, Hello!https://www.hellosailornc.com/ A bright and sunny waterfront restaurant and bar, open all day. Best restaurant in Lake Norman, best view of the water. 704-997-5365.https://www.hellobar.com/ Types of Popups Included With All Hello Bar Plans. Bars. Persistent header and footer bars that scroll with your visitors. Modals. Popups that\\xa0...https://www.helloapparelstore.com/ Hello Apparel, I\\'m So Tired, I\\'m Not Tired, I\\'m So Pregnant, T-Shirts, Sweatshirts, Leggings, One-Piece, Accessories & More! Matching Sets for the Whole\\xa0...https://store.steampowered.com/app/1856190/Hello_Engineer_Scrap_Machines_Constructor/ Hello Engineer is a multiplayer machinary-construction game set in the Hello Neighbor universe for up to 4 players! Scavenge, craft and overcome challenges\\xa0...https://www.hellofax.com/ Ditch your fax machine! HelloFax makes it easy for you to fax online right from your computer. Keep your current number or get a new one. Try us free!https://hellobello.com/ Because parents shouldn\\'t have to choose between what\\'s best for their baby, their budget, and the planet.https://www.imdb.com/title/tt5431624/ Adele: Hello: Directed by Xavier Dolan. With Adele, Tristan Mack Wilds. With a new song and a brand new music video Adele shows betrayal, regret and sorrow.https://commonpractice.com/products/hello-game Hello is a conversation game. It\\'s the easy, non-threatening way to start a conversation with your family and friends about what matters most to you.https://hello-sunshine.com/ Reese Witherspoon - Candle - HelloSunshine.https://www.hellomerch.com/ Started in 2008 as an outlet for bands, musicians, creative artists and businesses to manufacture and sell merchandise anywhere, without giving up their rights.https://www.hellomonday.com/ Hello Monday is a creative studio in New York, Copenhagen, and Aarhus that handcrafts digital (and magical) products, brands, and experiences.https://shop.highlights.com/hello-magazines-subscription Hello magazine is filled with colorful images, whimsical read-aloud stories and simple activities. Delight little ones ages 0-2 with a Highlights Hello\\xa0...https://hellotractor.com/ Use Hello Tractor detailed reporting to access innovative pay-as-you-go financing to grow your own fleet. Access Equipment Financing.https://www.bbc.com/news/uk-england-london-66591708 1 day ago — A pilot in Hammersmith saw stickers put on some buses to encourage people to say hello or thank you to the driver. In non-stickered buses,\\xa0...https://www.hellobettyoceanside.com/ Hello Betty is a surf and skate inspired seafood restaurant near the beach in Oceanside, CA.https://www.hellorobincookies.com/ Hello Robin: Sharing Cookies and Kindness since 2013.https://www.hellosign.com/ Dropbox Sign (formerly HelloSign) is the easiest way to send, receive and manage legally binding electronic signatures. Try it free!https://www.hellobistro.com/ Salads. Burgers. Together. Two delicious eats unified under one roof.'\n",
    "'''\n",
    "spacy_tokenizer(s)"
   ]
  },
  {
   "cell_type": "code",
   "execution_count": 16,
   "metadata": {},
   "outputs": [],
   "source": [
    "from main import *"
   ]
  },
  {
   "cell_type": "code",
   "execution_count": null,
   "metadata": {},
   "outputs": [],
   "source": []
  },
  {
   "cell_type": "code",
   "execution_count": 17,
   "metadata": {},
   "outputs": [],
   "source": [
    "keywords_new= [\n",
    "    'red dot on beats headphones', \n",
    "    'red light on beats headphones', \n",
    "    'why are my beats red', \n",
    "    'best wireless headphones for vinyl', \n",
    "    'best wireless headphones for listening to vinyl', \n",
    "    'best wireless headphones for turntable'\n",
    "]"
   ]
  },
  {
   "cell_type": "code",
   "execution_count": 18,
   "metadata": {},
   "outputs": [],
   "source": [
    "# embedings1= []\n",
    "# for i in keywords_new:\n",
    "#     s_i= (generate_keyword_summary(i))\n",
    "#     e_i= generate_large_embeddings(s_i)\n",
    "#     embedings1.append(e_i)\n",
    "    \n",
    "# len(embedings1)"
   ]
  },
  {
   "cell_type": "code",
   "execution_count": 19,
   "metadata": {},
   "outputs": [],
   "source": [
    "# embedings2= embedings1"
   ]
  },
  {
   "cell_type": "code",
   "execution_count": 20,
   "metadata": {},
   "outputs": [],
   "source": [
    "# generate_cosine_similarity(embedings1, embedings2)"
   ]
  },
  {
   "cell_type": "code",
   "execution_count": 21,
   "metadata": {},
   "outputs": [],
   "source": [
    "import pandas as pd"
   ]
  },
  {
   "cell_type": "code",
   "execution_count": 22,
   "metadata": {},
   "outputs": [],
   "source": [
    "# import os\n",
    "# os.chdir('..')\n",
    "# %pwd"
   ]
  },
  {
   "cell_type": "code",
   "execution_count": 25,
   "metadata": {},
   "outputs": [
    {
     "data": {
      "text/html": [
       "<div>\n",
       "<style scoped>\n",
       "    .dataframe tbody tr th:only-of-type {\n",
       "        vertical-align: middle;\n",
       "    }\n",
       "\n",
       "    .dataframe tbody tr th {\n",
       "        vertical-align: top;\n",
       "    }\n",
       "\n",
       "    .dataframe thead th {\n",
       "        text-align: right;\n",
       "    }\n",
       "</style>\n",
       "<table border=\"1\" class=\"dataframe\">\n",
       "  <thead>\n",
       "    <tr style=\"text-align: right;\">\n",
       "      <th></th>\n",
       "      <th>Keyword</th>\n",
       "      <th>Search volume</th>\n",
       "      <th>Cluster</th>\n",
       "      <th>Topical cluster</th>\n",
       "      <th>Spoke</th>\n",
       "      <th>Article</th>\n",
       "      <th>Product/Category</th>\n",
       "      <th>Other page type</th>\n",
       "      <th>Dominant Intent</th>\n",
       "    </tr>\n",
       "  </thead>\n",
       "  <tbody>\n",
       "    <tr>\n",
       "      <th>0</th>\n",
       "      <td>beats headphones at best buy</td>\n",
       "      <td>3600</td>\n",
       "      <td>beats headphones at best buy</td>\n",
       "      <td>which is the best beats headphones</td>\n",
       "      <td>beats headphones at best buy</td>\n",
       "      <td>0</td>\n",
       "      <td>10</td>\n",
       "      <td>0</td>\n",
       "      <td>Transactional</td>\n",
       "    </tr>\n",
       "    <tr>\n",
       "      <th>1</th>\n",
       "      <td>best buy beats headphones</td>\n",
       "      <td>3600</td>\n",
       "      <td>beats headphones at best buy</td>\n",
       "      <td>which is the best beats headphones</td>\n",
       "      <td>beats headphones at best buy</td>\n",
       "      <td>0</td>\n",
       "      <td>10</td>\n",
       "      <td>0</td>\n",
       "      <td>Transactional</td>\n",
       "    </tr>\n",
       "    <tr>\n",
       "      <th>2</th>\n",
       "      <td>best buy: beats headphones</td>\n",
       "      <td>3600</td>\n",
       "      <td>beats headphones at best buy</td>\n",
       "      <td>which is the best beats headphones</td>\n",
       "      <td>beats headphones at best buy</td>\n",
       "      <td>0</td>\n",
       "      <td>10</td>\n",
       "      <td>0</td>\n",
       "      <td>Transactional</td>\n",
       "    </tr>\n",
       "    <tr>\n",
       "      <th>3</th>\n",
       "      <td>best buy headphones beats</td>\n",
       "      <td>3600</td>\n",
       "      <td>beats headphones at best buy</td>\n",
       "      <td>which is the best beats headphones</td>\n",
       "      <td>beats headphones at best buy</td>\n",
       "      <td>0</td>\n",
       "      <td>10</td>\n",
       "      <td>0</td>\n",
       "      <td>Transactional</td>\n",
       "    </tr>\n",
       "    <tr>\n",
       "      <th>4</th>\n",
       "      <td>beats headphones best buy</td>\n",
       "      <td>3600</td>\n",
       "      <td>beats headphones at best buy</td>\n",
       "      <td>which is the best beats headphones</td>\n",
       "      <td>beats headphones at best buy</td>\n",
       "      <td>0</td>\n",
       "      <td>10</td>\n",
       "      <td>0</td>\n",
       "      <td>Transactional</td>\n",
       "    </tr>\n",
       "  </tbody>\n",
       "</table>\n",
       "</div>"
      ],
      "text/plain": [
       "                        Keyword  Search volume                       Cluster  \\\n",
       "0  beats headphones at best buy           3600  beats headphones at best buy   \n",
       "1     best buy beats headphones           3600  beats headphones at best buy   \n",
       "2    best buy: beats headphones           3600  beats headphones at best buy   \n",
       "3     best buy headphones beats           3600  beats headphones at best buy   \n",
       "4     beats headphones best buy           3600  beats headphones at best buy   \n",
       "\n",
       "                      Topical cluster                         Spoke  Article  \\\n",
       "0  which is the best beats headphones  beats headphones at best buy        0   \n",
       "1  which is the best beats headphones  beats headphones at best buy        0   \n",
       "2  which is the best beats headphones  beats headphones at best buy        0   \n",
       "3  which is the best beats headphones  beats headphones at best buy        0   \n",
       "4  which is the best beats headphones  beats headphones at best buy        0   \n",
       "\n",
       "   Product/Category  Other page type Dominant Intent  \n",
       "0                10                0   Transactional  \n",
       "1                10                0   Transactional  \n",
       "2                10                0   Transactional  \n",
       "3                10                0   Transactional  \n",
       "4                10                0   Transactional  "
      ]
     },
     "execution_count": 25,
     "metadata": {},
     "output_type": "execute_result"
    }
   ],
   "source": [
    "df= pd.read_csv('data/warewe_clustering_intent.csv')\n",
    "df.head()"
   ]
  },
  {
   "cell_type": "code",
   "execution_count": 26,
   "metadata": {},
   "outputs": [
    {
     "data": {
      "text/plain": [
       "Dominant Intent\n",
       "Transactional    4156\n",
       "Informational     832\n",
       "Other              12\n",
       "Name: count, dtype: int64"
      ]
     },
     "execution_count": 26,
     "metadata": {},
     "output_type": "execute_result"
    }
   ],
   "source": [
    "df['Dominant Intent'].value_counts()"
   ]
  },
  {
   "cell_type": "code",
   "execution_count": 1,
   "metadata": {},
   "outputs": [],
   "source": [
    "intents= {\n",
    "    'informational': '''Informational intent is when users are seeking information, answers, or explanations. They want to learn about a specific topic, understand a concept, or find facts. These searches often begin with question words like \"what,\" \"how,\" \"why,\" or \"who.\" Example: \"What is photosynthesis?\" Goal: The user wants to understand the process of photosynthesis and gain knowledge about it.''',\n",
    "    \n",
    "    'navigational':'''Informational intent is when users are seeking information, answers, or explanations. They want to learn about a specific topic, understand a concept, or find facts. These searches often begin with question words like \"what,\" \"how,\" \"why,\" or \"who.\" Example: \"What is photosynthesis?\" Goal: The user wants to understand the process of photosynthesis and gain knowledge about it.''',\n",
    "    \n",
    "    'transactional': '''Transactional intent is driven by users who intend to perform a specific action, such as making a purchase, signing up for a service, or downloading something.Example: \"Buy iPhone 12 online\"Goal: The user intends to make a purchase of an iPhone 12 online.''',\n",
    "    \n",
    "    'commercial': '''Commercial investigational intent is when users are in the research phase of a potential purchase. They are comparing products, reading reviews, and seeking information before making a decision.Example: \"Best laptop for graphic design\"Goal: The user is looking for information about laptops suitable for graphic design work, with the intention of purchasing one.''',\n",
    "    \n",
    "    'local': '''Local intent is when users are searching for products, services, or information specific to a particular location. These searches often include phrases like city names or \"near me.\" Example: \"Restaurants near me\" Goal: The user wants to find nearby restaurants for dining out.'''\n",
    "}\n",
    "\n"
   ]
  },
  {
   "cell_type": "code",
   "execution_count": 19,
   "metadata": {},
   "outputs": [],
   "source": [
    "reverse_intent= {\n",
    "    0: 'informational',\n",
    "    1: 'navigational',\n",
    "    2: 'transactional',\n",
    "    3: 'commercial',\n",
    "    4: 'local'\n",
    "}"
   ]
  },
  {
   "cell_type": "code",
   "execution_count": 2,
   "metadata": {},
   "outputs": [
    {
     "name": "stderr",
     "output_type": "stream",
     "text": [
      "/home/ubuntu/embedding/venv/lib/python3.10/site-packages/tqdm/auto.py:21: TqdmWarning: IProgress not found. Please update jupyter and ipywidgets. See https://ipywidgets.readthedocs.io/en/stable/user_install.html\n",
      "  from .autonotebook import tqdm as notebook_tqdm\n",
      "No sentence-transformers model found with name /home/ubuntu/.cache/torch/sentence_transformers/efederici_e5-large-v2-4096. Creating a new one with MEAN pooling.\n"
     ]
    }
   ],
   "source": [
    "from main import *"
   ]
  },
  {
   "cell_type": "code",
   "execution_count": 5,
   "metadata": {},
   "outputs": [],
   "source": [
    "intent_embeddings= []\n",
    "for i in intents:\n",
    "    e_i= generate_base_embeddings(intents[i])\n",
    "    intent_embeddings.append(e_i)"
   ]
  },
  {
   "cell_type": "code",
   "execution_count": 7,
   "metadata": {},
   "outputs": [],
   "source": [
    "keywords_new= [\n",
    "    'beats headphones at best buy',\n",
    "    'best buy beats headphones',\n",
    "    'best buy: beats headphones',\n",
    "    'best buy headphones beats',\n",
    "    'beats headphones best buy',\n",
    "    'beats best buy headphones',\n",
    "    'which is the best beats headphones'\n",
    "\n",
    "]\n",
    "\n"
   ]
  },
  {
   "cell_type": "code",
   "execution_count": 18,
   "metadata": {},
   "outputs": [],
   "source": [
    "# from basic_cleaner import clean\n",
    "keywords_embedding= []\n",
    "for i in keywords_new:\n",
    "    s_i= generate_keyword_summary(i)\n",
    "    e_i= generate_base_embeddings(s_i)\n",
    "    keywords_embedding.append(e_i)\n",
    "    # print(generate_cosine_similarity(intent_embeddings, [e_i]))\n",
    "    "
   ]
  },
  {
   "cell_type": "code",
   "execution_count": 20,
   "metadata": {},
   "outputs": [
    {
     "data": {
      "text/plain": [
       "7"
      ]
     },
     "execution_count": 20,
     "metadata": {},
     "output_type": "execute_result"
    }
   ],
   "source": [
    "len(keywords_embedding)"
   ]
  },
  {
   "cell_type": "code",
   "execution_count": 32,
   "metadata": {},
   "outputs": [
    {
     "name": "stdout",
     "output_type": "stream",
     "text": [
      "dominant_intent= commercial\n",
      "tensor([[0.7161],\n",
      "        [0.7161],\n",
      "        [0.7531],\n",
      "        [0.7600],\n",
      "        [0.7371]]) \n",
      "\n",
      "\n",
      "dominant_intent= commercial\n",
      "tensor([[0.7297],\n",
      "        [0.7297],\n",
      "        [0.7547],\n",
      "        [0.7648],\n",
      "        [0.7401]]) \n",
      "\n",
      "\n",
      "dominant_intent= commercial\n",
      "tensor([[0.6916],\n",
      "        [0.6916],\n",
      "        [0.7296],\n",
      "        [0.7321],\n",
      "        [0.7119]]) \n",
      "\n",
      "\n",
      "dominant_intent= commercial\n",
      "tensor([[0.7069],\n",
      "        [0.7069],\n",
      "        [0.7439],\n",
      "        [0.7484],\n",
      "        [0.7301]]) \n",
      "\n",
      "\n",
      "dominant_intent= commercial\n",
      "tensor([[0.7024],\n",
      "        [0.7024],\n",
      "        [0.7326],\n",
      "        [0.7396],\n",
      "        [0.7095]]) \n",
      "\n",
      "\n",
      "dominant_intent= commercial\n",
      "tensor([[0.7062],\n",
      "        [0.7062],\n",
      "        [0.7410],\n",
      "        [0.7431],\n",
      "        [0.7260]]) \n",
      "\n",
      "\n",
      "dominant_intent= transactional\n",
      "tensor([[0.6769],\n",
      "        [0.6769],\n",
      "        [0.7247],\n",
      "        [0.7215],\n",
      "        [0.7087]]) \n",
      "\n",
      "\n"
     ]
    }
   ],
   "source": [
    "for i in keywords_embedding:\n",
    "\n",
    "\n",
    "    cos_similarity= generate_cosine_similarity(intent_embeddings, i)\n",
    "    dominant_intent= reverse_intent[int(np.argmax(cos_similarity))]\n",
    "    print(f'dominant_intent= {dominant_intent}')\n",
    "    print(cos_similarity, '\\n\\n')"
   ]
  },
  {
   "cell_type": "code",
   "execution_count": 40,
   "metadata": {},
   "outputs": [],
   "source": [
    "transactional= sum(keywords_embedding)/len(keywords_embedding)"
   ]
  },
  {
   "cell_type": "code",
   "execution_count": 41,
   "metadata": {},
   "outputs": [
    {
     "data": {
      "text/plain": [
       "(768,)"
      ]
     },
     "execution_count": 41,
     "metadata": {},
     "output_type": "execute_result"
    }
   ],
   "source": [
    "transactional.shape"
   ]
  },
  {
   "cell_type": "code",
   "execution_count": 42,
   "metadata": {},
   "outputs": [],
   "source": [
    "intent_embeddings[2]= transactional"
   ]
  },
  {
   "cell_type": "code",
   "execution_count": 43,
   "metadata": {},
   "outputs": [
    {
     "name": "stdout",
     "output_type": "stream",
     "text": [
      "dominant_intent= transactional\n",
      "tensor([[0.7161],\n",
      "        [0.7161],\n",
      "        [0.9806],\n",
      "        [0.7600],\n",
      "        [0.7371]]) \n",
      "\n",
      "\n",
      "dominant_intent= transactional\n",
      "tensor([[0.7297],\n",
      "        [0.7297],\n",
      "        [0.9800],\n",
      "        [0.7648],\n",
      "        [0.7401]]) \n",
      "\n",
      "\n",
      "dominant_intent= transactional\n",
      "tensor([[0.6916],\n",
      "        [0.6916],\n",
      "        [0.9784],\n",
      "        [0.7321],\n",
      "        [0.7119]]) \n",
      "\n",
      "\n",
      "dominant_intent= transactional\n",
      "tensor([[0.7069],\n",
      "        [0.7069],\n",
      "        [0.9812],\n",
      "        [0.7484],\n",
      "        [0.7301]]) \n",
      "\n",
      "\n",
      "dominant_intent= transactional\n",
      "tensor([[0.7024],\n",
      "        [0.7024],\n",
      "        [0.9753],\n",
      "        [0.7396],\n",
      "        [0.7095]]) \n",
      "\n",
      "\n",
      "dominant_intent= transactional\n",
      "tensor([[0.7062],\n",
      "        [0.7062],\n",
      "        [0.9869],\n",
      "        [0.7431],\n",
      "        [0.7260]]) \n",
      "\n",
      "\n",
      "dominant_intent= transactional\n",
      "tensor([[0.6769],\n",
      "        [0.6769],\n",
      "        [0.9385],\n",
      "        [0.7215],\n",
      "        [0.7087]]) \n",
      "\n",
      "\n"
     ]
    }
   ],
   "source": [
    "for i in keywords_embedding:\n",
    "\n",
    "\n",
    "    cos_similarity= generate_cosine_similarity(intent_embeddings, i)\n",
    "    dominant_intent= reverse_intent[int(np.argmax(cos_similarity))]\n",
    "    print(f'dominant_intent= {dominant_intent}')\n",
    "    print(cos_similarity, '\\n\\n')"
   ]
  },
  {
   "cell_type": "code",
   "execution_count": 46,
   "metadata": {},
   "outputs": [
    {
     "name": "stdout",
     "output_type": "stream",
     "text": [
      "dominant_intent= transactional\n",
      "tensor([[0.7120],\n",
      "        [0.7120],\n",
      "        [0.8408],\n",
      "        [0.7352],\n",
      "        [0.7128]]) \n",
      "\n",
      "\n"
     ]
    }
   ],
   "source": [
    "s_i= generate_keyword_summary(\"buy iphone 13\")\n",
    "e_i= generate_base_embeddings(s_i)\n",
    "\n",
    "cos_similarity= generate_cosine_similarity(intent_embeddings, e_i)\n",
    "dominant_intent= reverse_intent[int(np.argmax(cos_similarity))]\n",
    "print(f'dominant_intent= {dominant_intent}')\n",
    "print(cos_similarity, '\\n\\n')"
   ]
  },
  {
   "cell_type": "code",
   "execution_count": null,
   "metadata": {},
   "outputs": [],
   "source": []
  }
 ],
 "metadata": {
  "kernelspec": {
   "display_name": "venv",
   "language": "python",
   "name": "python3"
  },
  "language_info": {
   "codemirror_mode": {
    "name": "ipython",
    "version": 3
   },
   "file_extension": ".py",
   "mimetype": "text/x-python",
   "name": "python",
   "nbconvert_exporter": "python",
   "pygments_lexer": "ipython3",
   "version": "3.10.12"
  },
  "orig_nbformat": 4
 },
 "nbformat": 4,
 "nbformat_minor": 2
}
