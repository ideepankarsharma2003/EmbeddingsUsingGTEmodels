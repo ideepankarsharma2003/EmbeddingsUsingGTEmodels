{
 "cells": [
  {
   "cell_type": "code",
   "execution_count": 1,
   "metadata": {},
   "outputs": [],
   "source": [
    "# !pip install InstructorEmbedding"
   ]
  },
  {
   "cell_type": "code",
   "execution_count": 1,
   "metadata": {},
   "outputs": [],
   "source": [
    "import os; os.chdir('..'); import pandas as pd;\n"
   ]
  },
  {
   "cell_type": "code",
   "execution_count": 2,
   "metadata": {},
   "outputs": [
    {
     "name": "stderr",
     "output_type": "stream",
     "text": [
      "/home/ubuntu/GTE_BGE_Embeddings/venv/lib/python3.10/site-packages/tqdm/auto.py:21: TqdmWarning: IProgress not found. Please update jupyter and ipywidgets. See https://ipywidgets.readthedocs.io/en/stable/user_install.html\n",
      "  from .autonotebook import tqdm as notebook_tqdm\n"
     ]
    }
   ],
   "source": [
    "from sentence_transformers import SentenceTransformer\n",
    "# queries = ['query_1', 'query_2']\n",
    "# passages = [\"样例文档-1\", \"样例文档-2\"] # [\"Sample Document-1\", \"Sample Document-2\"]\n",
    "# instruction = \"为这个句子生成表示以用于检索相关文章：\" # Generate a representation for this sentence to be used to retrieve related articles\n",
    "\n",
    "model = SentenceTransformer('thenlper/gte-base')\n",
    "# q_embeddings = model.encode([instruction+q for q in queries], normalize_embeddings=True)\n",
    "# p_embeddings = model.encode(passages, normalize_embeddings=True)\n",
    "# scores = q_embeddings @ p_embeddings.T\n",
    "\n"
   ]
  },
  {
   "cell_type": "code",
   "execution_count": 3,
   "metadata": {},
   "outputs": [
    {
     "data": {
      "text/plain": [
       "array([[0.33725056, 0.20507804],\n",
       "       [0.22591063, 0.3849577 ]], dtype=float32)"
      ]
     },
     "execution_count": 3,
     "metadata": {},
     "output_type": "execute_result"
    }
   ],
   "source": [
    "# scores"
   ]
  },
  {
   "cell_type": "code",
   "execution_count": null,
   "metadata": {},
   "outputs": [],
   "source": [
    "# custom template: \"Represent the {domain} {text_type} for {task_objective}:\""
   ]
  },
  {
   "cell_type": "code",
   "execution_count": null,
   "metadata": {},
   "outputs": [],
   "source": [
    "# seed_keyword= \"best cat ear headphones\""
   ]
  },
  {
   "cell_type": "code",
   "execution_count": null,
   "metadata": {},
   "outputs": [],
   "source": [
    "# from sklearn.metrics.pairwise import cosine_similarity\n",
    "# custom_instruction_template= f'Represent the {\"Search Keyword\"} {\"Semantic Similarity\"} for seed keyword {seed_keyword}:'\n",
    "# sentences_a = [[custom_instruction_template,'sony headphones'], \n",
    "#                [custom_instruction_template,'headphones aa']]\n",
    "# sentences_b = [[custom_instruction_template,'amazing headphones'],\n",
    "#                [custom_instruction_template,'headphones xyx']]\n",
    "# embeddings_a = model.encode(sentences_a)\n",
    "# embeddings_b = model.encode(sentences_b)\n",
    "# similarities = cosine_similarity(embeddings_a,embeddings_b)\n",
    "# print(similarities)\n"
   ]
  },
  {
   "cell_type": "code",
   "execution_count": 3,
   "metadata": {},
   "outputs": [],
   "source": [
    "from sklearn.metrics.pairwise import cosine_similarity\n",
    "\n",
    "def check_similarity_against(list_of_keywords: list, seed_keyword: str):\n",
    "    custom_instruction_template= f'Represent the {\"Search Keyword\"} {\"Semantic Similarity\"} for removal of nonsense keywords the given seed keyword \"{seed_keyword}\":'\n",
    "    custom_instruction_template=f\"\"\n",
    "    target_sentence= [custom_instruction_template+ i for i in list_of_keywords]\n",
    "    input_sentence= [custom_instruction_template+ seed_keyword]\n",
    "    # print(target_sentence); print()\n",
    "    print(input_sentence)\n",
    "    embeddings_seed_keyword= model.encode(input_sentence)\n",
    "    target_embeddings= model.encode(target_sentence)\n",
    "    similarities = cosine_similarity(embeddings_seed_keyword,target_embeddings)\n",
    "    for i in range(len(similarities[0])):\n",
    "        print(\n",
    "            f'{list_of_keywords[i].replace(\",\", \"\")}, {similarities[0][i]}'\n",
    "        )\n",
    "        \n",
    "    return similarities\n"
   ]
  },
  {
   "cell_type": "code",
   "execution_count": 4,
   "metadata": {},
   "outputs": [
    {
     "data": {
      "text/plain": [
       "array([[ 0.07028519,  1.2615803 , -0.2941438 , ...,  0.30341113,\n",
       "        -0.02545273, -0.22335179]], dtype=float32)"
      ]
     },
     "execution_count": 4,
     "metadata": {},
     "output_type": "execute_result"
    }
   ],
   "source": [
    "model.encode([\"best cat ear headphones\"])"
   ]
  },
  {
   "cell_type": "code",
   "execution_count": 5,
   "metadata": {},
   "outputs": [
    {
     "data": {
      "text/html": [
       "<div>\n",
       "<style scoped>\n",
       "    .dataframe tbody tr th:only-of-type {\n",
       "        vertical-align: middle;\n",
       "    }\n",
       "\n",
       "    .dataframe tbody tr th {\n",
       "        vertical-align: top;\n",
       "    }\n",
       "\n",
       "    .dataframe thead th {\n",
       "        text-align: right;\n",
       "    }\n",
       "</style>\n",
       "<table border=\"1\" class=\"dataframe\">\n",
       "  <thead>\n",
       "    <tr style=\"text-align: right;\">\n",
       "      <th></th>\n",
       "      <th>Index</th>\n",
       "      <th>Keyword</th>\n",
       "      <th>similarity</th>\n",
       "    </tr>\n",
       "  </thead>\n",
       "  <tbody>\n",
       "    <tr>\n",
       "      <th>0</th>\n",
       "      <td>1</td>\n",
       "      <td>hybrid cars or electric cars</td>\n",
       "      <td>0.97</td>\n",
       "    </tr>\n",
       "    <tr>\n",
       "      <th>1</th>\n",
       "      <td>2</td>\n",
       "      <td>0 hybrid cars</td>\n",
       "      <td>0.96</td>\n",
       "    </tr>\n",
       "    <tr>\n",
       "      <th>2</th>\n",
       "      <td>3</td>\n",
       "      <td>electric or hybrid cars</td>\n",
       "      <td>0.96</td>\n",
       "    </tr>\n",
       "    <tr>\n",
       "      <th>3</th>\n",
       "      <td>4</td>\n",
       "      <td>hybrid cars and suvs</td>\n",
       "      <td>0.96</td>\n",
       "    </tr>\n",
       "    <tr>\n",
       "      <th>4</th>\n",
       "      <td>5</td>\n",
       "      <td>hybrid cars are</td>\n",
       "      <td>0.96</td>\n",
       "    </tr>\n",
       "    <tr>\n",
       "      <th>...</th>\n",
       "      <td>...</td>\n",
       "      <td>...</td>\n",
       "      <td>...</td>\n",
       "    </tr>\n",
       "    <tr>\n",
       "      <th>95</th>\n",
       "      <td>96</td>\n",
       "      <td>california law hybrid cars</td>\n",
       "      <td>0.93</td>\n",
       "    </tr>\n",
       "    <tr>\n",
       "      <th>96</th>\n",
       "      <td>97</td>\n",
       "      <td>cnn hybrid cars</td>\n",
       "      <td>0.93</td>\n",
       "    </tr>\n",
       "    <tr>\n",
       "      <th>97</th>\n",
       "      <td>98</td>\n",
       "      <td>drive hybrid car</td>\n",
       "      <td>0.93</td>\n",
       "    </tr>\n",
       "    <tr>\n",
       "      <th>98</th>\n",
       "      <td>99</td>\n",
       "      <td>eu taxonomy hybrid cars</td>\n",
       "      <td>0.93</td>\n",
       "    </tr>\n",
       "    <tr>\n",
       "      <th>99</th>\n",
       "      <td>100</td>\n",
       "      <td>ev vs hybrid cars</td>\n",
       "      <td>0.93</td>\n",
       "    </tr>\n",
       "  </tbody>\n",
       "</table>\n",
       "<p>100 rows × 3 columns</p>\n",
       "</div>"
      ],
      "text/plain": [
       "    Index                       Keyword  similarity\n",
       "0       1  hybrid cars or electric cars        0.97\n",
       "1       2                 0 hybrid cars        0.96\n",
       "2       3       electric or hybrid cars        0.96\n",
       "3       4          hybrid cars and suvs        0.96\n",
       "4       5               hybrid cars are        0.96\n",
       "..    ...                           ...         ...\n",
       "95     96    california law hybrid cars        0.93\n",
       "96     97               cnn hybrid cars        0.93\n",
       "97     98              drive hybrid car        0.93\n",
       "98     99       eu taxonomy hybrid cars        0.93\n",
       "99    100             ev vs hybrid cars        0.93\n",
       "\n",
       "[100 rows x 3 columns]"
      ]
     },
     "execution_count": 5,
     "metadata": {},
     "output_type": "execute_result"
    }
   ],
   "source": [
    "# df= pd.read_csv(\"data/rtings.com-organic.Positions-us-20231010-2023-10-11T09 36 42Z.csv\")\n",
    "df= pd.read_csv(\"data/keywords__4_.csv\")\n",
    "df"
   ]
  },
  {
   "cell_type": "code",
   "execution_count": 6,
   "metadata": {},
   "outputs": [
    {
     "data": {
      "text/html": [
       "<div>\n",
       "<style scoped>\n",
       "    .dataframe tbody tr th:only-of-type {\n",
       "        vertical-align: middle;\n",
       "    }\n",
       "\n",
       "    .dataframe tbody tr th {\n",
       "        vertical-align: top;\n",
       "    }\n",
       "\n",
       "    .dataframe thead th {\n",
       "        text-align: right;\n",
       "    }\n",
       "</style>\n",
       "<table border=\"1\" class=\"dataframe\">\n",
       "  <thead>\n",
       "    <tr style=\"text-align: right;\">\n",
       "      <th></th>\n",
       "      <th>Index</th>\n",
       "      <th>Keyword</th>\n",
       "      <th>similarity</th>\n",
       "    </tr>\n",
       "  </thead>\n",
       "  <tbody>\n",
       "    <tr>\n",
       "      <th>0</th>\n",
       "      <td>1</td>\n",
       "      <td>hybrid cars or electric cars</td>\n",
       "      <td>0.97</td>\n",
       "    </tr>\n",
       "    <tr>\n",
       "      <th>1</th>\n",
       "      <td>2</td>\n",
       "      <td>0 hybrid cars</td>\n",
       "      <td>0.96</td>\n",
       "    </tr>\n",
       "    <tr>\n",
       "      <th>2</th>\n",
       "      <td>3</td>\n",
       "      <td>electric or hybrid cars</td>\n",
       "      <td>0.96</td>\n",
       "    </tr>\n",
       "    <tr>\n",
       "      <th>3</th>\n",
       "      <td>4</td>\n",
       "      <td>hybrid cars and suvs</td>\n",
       "      <td>0.96</td>\n",
       "    </tr>\n",
       "    <tr>\n",
       "      <th>4</th>\n",
       "      <td>5</td>\n",
       "      <td>hybrid cars are</td>\n",
       "      <td>0.96</td>\n",
       "    </tr>\n",
       "  </tbody>\n",
       "</table>\n",
       "</div>"
      ],
      "text/plain": [
       "   Index                       Keyword  similarity\n",
       "0      1  hybrid cars or electric cars        0.97\n",
       "1      2                 0 hybrid cars        0.96\n",
       "2      3       electric or hybrid cars        0.96\n",
       "3      4          hybrid cars and suvs        0.96\n",
       "4      5               hybrid cars are        0.96"
      ]
     },
     "execution_count": 6,
     "metadata": {},
     "output_type": "execute_result"
    }
   ],
   "source": [
    "df.head()"
   ]
  },
  {
   "cell_type": "code",
   "execution_count": 7,
   "metadata": {},
   "outputs": [],
   "source": [
    "list_of_keyword= df.Keyword.values.tolist()\n",
    "# list_of_keyword"
   ]
  },
  {
   "cell_type": "code",
   "execution_count": 8,
   "metadata": {},
   "outputs": [
    {
     "name": "stdout",
     "output_type": "stream",
     "text": [
      "['Hybrid Cars']\n",
      "hybrid cars or electric cars, 0.883347749710083\n",
      "0 hybrid cars, 0.8337295651435852\n",
      "electric or hybrid cars, 0.8906983137130737\n",
      "hybrid cars and suvs, 0.8896753787994385\n",
      "hybrid cars are, 0.936488151550293\n",
      "hybrid cars description, 0.8564268350601196\n",
      "hybrid on cars, 0.9236012101173401\n",
      "hybrid vehicle cars, 0.8136695623397827\n",
      "by hybrid vehicles, 0.8408524990081787\n",
      "hybrid car details, 0.8406137228012085\n",
      "hybrid car types, 0.855575442314148\n",
      "hybrid car what is it, 0.8354556560516357\n",
      "hybrid cars and trucks, 0.8977823257446289\n",
      "hybrid cars are a combination of, 0.8472135066986084\n",
      "hybrid cars are economical, 0.8414874076843262\n",
      "hybrid cars are electric, 0.8618475198745728\n",
      "hybrid cars are good for the environment, 0.8285022377967834\n",
      "hybrid cars ev, 0.7973966598510742\n",
      "hybrid cars examples, 0.8677791357040405\n",
      "hybrid cars for sale, 0.8761978149414062\n",
      "hybrid cars gas and electric, 0.8400440216064453\n",
      "hybrid cars new, 0.8894404172897339\n",
      "hybrid cars technology, 0.8626984357833862\n",
      "hybrid cars types, 0.858261227607727\n",
      "hybrid cars what are they, 0.8989601731300354\n",
      "hybrid electric cars, 0.9439968466758728\n",
      "list of hybrid and electric cars, 0.7789101600646973\n",
      "list of hybrid cars, 0.8326959013938904\n",
      "a hybrid car uses, 0.8578541874885559\n",
      "a hybrid cars, 0.9290361404418945\n",
      "all hybrid cars, 0.8867672681808472\n",
      "all hybrid cars and suvs, 0.8384469747543335\n",
      "by hybrid car, 0.8580231070518494\n",
      "ev hybrid cars, 0.9217813611030579\n",
      "gas or hybrid cars, 0.891904354095459\n",
      "hybrid car driving, 0.8738813400268555\n",
      "hybrid car has an electric, 0.8369207382202148\n",
      "hybrid car how it works, 0.818154513835907\n",
      "hybrid car or gas, 0.837268054485321\n",
      "hybrid car or truck, 0.8482893705368042\n",
      "hybrid car variants, 0.8004730343818665\n",
      "hybrid cars 2021, 0.8066340684890747\n",
      "hybrid cars a, 0.9417496919631958\n",
      "hybrid cars all, 0.9038161039352417\n",
      "hybrid cars and suvs for sale, 0.8238588571548462\n",
      "hybrid cars are good, 0.8761203289031982\n",
      "hybrid cars are the future, 0.8529975414276123\n",
      "hybrid cars automatic, 0.8318709135055542\n",
      "hybrid cars available, 0.918501615524292\n",
      "hybrid cars details, 0.8667829036712646\n",
      "hybrid cars different types, 0.8441773653030396\n",
      "hybrid cars electric, 0.8713332414627075\n",
      "hybrid cars electric and gas, 0.8183270692825317\n",
      "hybrid cars electric and petrol, 0.7732475996017456\n",
      "hybrid cars engine, 0.8006306886672974\n",
      "hybrid cars ev and petrol, 0.7599501609802246\n",
      "hybrid cars facts, 0.8457274436950684\n",
      "hybrid cars for sale new, 0.8360774517059326\n",
      "hybrid cars future, 0.8499143123626709\n",
      "hybrid cars gasoline and electric, 0.8346264362335205\n",
      "hybrid cars how, 0.8914210200309753\n",
      "hybrid cars how do they work, 0.8466125726699829\n",
      "hybrid cars how it works, 0.8318554759025574\n",
      "hybrid cars information, 0.8629162311553955\n",
      "hybrid cars models, 0.8701323866844177\n",
      "hybrid cars new model, 0.8510973453521729\n",
      "hybrid cars operation, 0.8453946709632874\n",
      "hybrid cars or suv, 0.8759586215019226\n",
      "hybrid cars petrol and electric, 0.7878901958465576\n",
      "hybrid cars petrol or diesel, 0.8398422002792358\n",
      "hybrid cars popular, 0.8727891445159912\n",
      "hybrid cars science, 0.8737553358078003\n",
      "hybrid cars use, 0.8840073347091675\n",
      "hybrid cars versus electric, 0.870313286781311\n",
      "hybrid cars vs, 0.8954564332962036\n",
      "hybrid cars vs ev, 0.8598455786705017\n",
      "hybrid cars what is, 0.8732867240905762\n",
      "hybrid cars work, 0.898837685585022\n",
      "hybrid in cars, 0.9312707781791687\n",
      "hybrides auto, 0.8244912624359131\n",
      "in hybrid vehicle, 0.8322157859802246\n",
      "is hybrid cars electric, 0.8018062114715576\n",
      "list of us hybrid cars, 0.7752718925476074\n",
      "of hybrid car, 0.8663274049758911\n",
      "of hybrid vehicle, 0.833926796913147\n",
      "the hybrid cars, 0.9349074363708496\n",
      "to hybrid cars, 0.8989256620407104\n",
      "www.hybrid car, 0.8691284656524658\n",
      "10 hybrid cars, 0.8586564660072327\n",
      "2 types of hybrid cars, 0.8490808010101318\n",
      "3 hybrid cars, 0.8793651461601257\n",
      "all wheel drive hybrid cars, 0.8681749105453491\n",
      "american hybrid cars, 0.8776055574417114\n",
      "are hybrid cars electric, 0.8185685873031616\n",
      "buy hybrid cars, 0.8950861692428589\n",
      "california law hybrid cars, 0.7478281259536743\n",
      "cnn hybrid cars, 0.7755768299102783\n",
      "drive hybrid car, 0.8651484847068787\n",
      "eu taxonomy hybrid cars, 0.7690445184707642\n",
      "ev vs hybrid cars, 0.845232367515564\n"
     ]
    }
   ],
   "source": [
    "# list_of_keyword= [\n",
    "#     'headphones a', \n",
    "#     'headphones aaa', \n",
    "#     'sony headphones', \n",
    "#     'habdjhciej', \n",
    "# ]\n",
    "\n",
    "seed_keyword= \"Hybrid Cars\"\n",
    "# seed_keyword= \"headphones\"\n",
    "\n",
    "\n",
    "\n",
    "similarities= check_similarity_against(list_of_keyword, seed_keyword)"
   ]
  },
  {
   "cell_type": "code",
   "execution_count": 9,
   "metadata": {},
   "outputs": [
    {
     "data": {
      "text/plain": [
       "Index(['Index', 'Keyword', 'similarity'], dtype='object')"
      ]
     },
     "execution_count": 9,
     "metadata": {},
     "output_type": "execute_result"
    }
   ],
   "source": [
    "df.columns"
   ]
  },
  {
   "cell_type": "code",
   "execution_count": 32,
   "metadata": {},
   "outputs": [],
   "source": [
    "df[\"new_sim\"]= pd.Series(\n",
    "    similarities[0]\n",
    ")"
   ]
  },
  {
   "cell_type": "code",
   "execution_count": 33,
   "metadata": {},
   "outputs": [],
   "source": [
    "df[['Keyword', 'Keyword Intents', 'new_sim']].to_csv(\"data/z.csv\", index=False)"
   ]
  },
  {
   "cell_type": "code",
   "execution_count": 34,
   "metadata": {},
   "outputs": [],
   "source": [
    "new_df= df[['Keyword', 'Keyword Intents', 'new_sim']]"
   ]
  },
  {
   "cell_type": "code",
   "execution_count": 41,
   "metadata": {},
   "outputs": [
    {
     "data": {
      "text/html": [
       "<div>\n",
       "<style scoped>\n",
       "    .dataframe tbody tr th:only-of-type {\n",
       "        vertical-align: middle;\n",
       "    }\n",
       "\n",
       "    .dataframe tbody tr th {\n",
       "        vertical-align: top;\n",
       "    }\n",
       "\n",
       "    .dataframe thead th {\n",
       "        text-align: right;\n",
       "    }\n",
       "</style>\n",
       "<table border=\"1\" class=\"dataframe\">\n",
       "  <thead>\n",
       "    <tr style=\"text-align: right;\">\n",
       "      <th></th>\n",
       "      <th>Keyword</th>\n",
       "      <th>Keyword Intents</th>\n",
       "      <th>new_sim</th>\n",
       "    </tr>\n",
       "  </thead>\n",
       "  <tbody>\n",
       "    <tr>\n",
       "      <th>0</th>\n",
       "      <td>ps5</td>\n",
       "      <td>informational, transactional</td>\n",
       "      <td>0.620837</td>\n",
       "    </tr>\n",
       "    <tr>\n",
       "      <th>1</th>\n",
       "      <td>camera</td>\n",
       "      <td>commercial</td>\n",
       "      <td>0.664151</td>\n",
       "    </tr>\n",
       "    <tr>\n",
       "      <th>2</th>\n",
       "      <td>xbox series s</td>\n",
       "      <td>informational, transactional</td>\n",
       "      <td>0.555786</td>\n",
       "    </tr>\n",
       "    <tr>\n",
       "      <th>3</th>\n",
       "      <td>blender</td>\n",
       "      <td>navigational</td>\n",
       "      <td>0.659918</td>\n",
       "    </tr>\n",
       "    <tr>\n",
       "      <th>4</th>\n",
       "      <td>dyson</td>\n",
       "      <td>commercial, navigational</td>\n",
       "      <td>0.550943</td>\n",
       "    </tr>\n",
       "    <tr>\n",
       "      <th>...</th>\n",
       "      <td>...</td>\n",
       "      <td>...</td>\n",
       "      <td>...</td>\n",
       "    </tr>\n",
       "    <tr>\n",
       "      <th>9993</th>\n",
       "      <td>black and decker 18v battery</td>\n",
       "      <td>commercial</td>\n",
       "      <td>0.392398</td>\n",
       "    </tr>\n",
       "    <tr>\n",
       "      <th>9994</th>\n",
       "      <td>gsync</td>\n",
       "      <td>commercial, informational</td>\n",
       "      <td>0.609679</td>\n",
       "    </tr>\n",
       "    <tr>\n",
       "      <th>9996</th>\n",
       "      <td>jbl airpods</td>\n",
       "      <td>navigational, transactional</td>\n",
       "      <td>0.626888</td>\n",
       "    </tr>\n",
       "    <tr>\n",
       "      <th>9997</th>\n",
       "      <td>magic keyboard apple</td>\n",
       "      <td>navigational, transactional</td>\n",
       "      <td>0.442950</td>\n",
       "    </tr>\n",
       "    <tr>\n",
       "      <th>9998</th>\n",
       "      <td>gigabyte aorus</td>\n",
       "      <td>transactional</td>\n",
       "      <td>0.521132</td>\n",
       "    </tr>\n",
       "  </tbody>\n",
       "</table>\n",
       "<p>7056 rows × 3 columns</p>\n",
       "</div>"
      ],
      "text/plain": [
       "                           Keyword               Keyword Intents   new_sim\n",
       "0                              ps5  informational, transactional  0.620837\n",
       "1                           camera                    commercial  0.664151\n",
       "2                    xbox series s  informational, transactional  0.555786\n",
       "3                          blender                  navigational  0.659918\n",
       "4                            dyson      commercial, navigational  0.550943\n",
       "...                            ...                           ...       ...\n",
       "9993  black and decker 18v battery                    commercial  0.392398\n",
       "9994                         gsync     commercial, informational  0.609679\n",
       "9996                   jbl airpods   navigational, transactional  0.626888\n",
       "9997          magic keyboard apple   navigational, transactional  0.442950\n",
       "9998                gigabyte aorus                 transactional  0.521132\n",
       "\n",
       "[7056 rows x 3 columns]"
      ]
     },
     "execution_count": 41,
     "metadata": {},
     "output_type": "execute_result"
    }
   ],
   "source": [
    "new_df"
   ]
  },
  {
   "cell_type": "code",
   "execution_count": 40,
   "metadata": {},
   "outputs": [
    {
     "name": "stderr",
     "output_type": "stream",
     "text": [
      "/tmp/ipykernel_22664/2373844780.py:1: SettingWithCopyWarning: \n",
      "A value is trying to be set on a copy of a slice from a DataFrame\n",
      "\n",
      "See the caveats in the documentation: https://pandas.pydata.org/pandas-docs/stable/user_guide/indexing.html#returning-a-view-versus-a-copy\n",
      "  new_df.drop_duplicates(inplace=True)\n"
     ]
    }
   ],
   "source": [
    "new_df.drop_duplicates(inplace=True)"
   ]
  },
  {
   "cell_type": "code",
   "execution_count": 42,
   "metadata": {},
   "outputs": [],
   "source": [
    "new_df.to_csv(\"data/z.csv\", index=False)\n"
   ]
  },
  {
   "cell_type": "code",
   "execution_count": 46,
   "metadata": {},
   "outputs": [
    {
     "data": {
      "text/html": [
       "<div>\n",
       "<style scoped>\n",
       "    .dataframe tbody tr th:only-of-type {\n",
       "        vertical-align: middle;\n",
       "    }\n",
       "\n",
       "    .dataframe tbody tr th {\n",
       "        vertical-align: top;\n",
       "    }\n",
       "\n",
       "    .dataframe thead th {\n",
       "        text-align: right;\n",
       "    }\n",
       "</style>\n",
       "<table border=\"1\" class=\"dataframe\">\n",
       "  <thead>\n",
       "    <tr style=\"text-align: right;\">\n",
       "      <th></th>\n",
       "      <th>Keyword</th>\n",
       "      <th>Keyword Intents</th>\n",
       "      <th>new_sim</th>\n",
       "    </tr>\n",
       "  </thead>\n",
       "  <tbody>\n",
       "    <tr>\n",
       "      <th>16</th>\n",
       "      <td>beats headphones</td>\n",
       "      <td>commercial</td>\n",
       "      <td>0.854447</td>\n",
       "    </tr>\n",
       "    <tr>\n",
       "      <th>38</th>\n",
       "      <td>headphones</td>\n",
       "      <td>commercial</td>\n",
       "      <td>1.000000</td>\n",
       "    </tr>\n",
       "    <tr>\n",
       "      <th>104</th>\n",
       "      <td>bluetooth headphones</td>\n",
       "      <td>commercial</td>\n",
       "      <td>0.854062</td>\n",
       "    </tr>\n",
       "    <tr>\n",
       "      <th>137</th>\n",
       "      <td>earbuds</td>\n",
       "      <td>commercial</td>\n",
       "      <td>0.887383</td>\n",
       "    </tr>\n",
       "    <tr>\n",
       "      <th>662</th>\n",
       "      <td>headphone</td>\n",
       "      <td>commercial</td>\n",
       "      <td>0.915441</td>\n",
       "    </tr>\n",
       "    <tr>\n",
       "      <th>742</th>\n",
       "      <td>sennheiser headphones</td>\n",
       "      <td>commercial, navigational</td>\n",
       "      <td>0.856455</td>\n",
       "    </tr>\n",
       "    <tr>\n",
       "      <th>2226</th>\n",
       "      <td>head phones</td>\n",
       "      <td>commercial</td>\n",
       "      <td>0.929743</td>\n",
       "    </tr>\n",
       "    <tr>\n",
       "      <th>2227</th>\n",
       "      <td>head phones</td>\n",
       "      <td>commercial</td>\n",
       "      <td>0.929743</td>\n",
       "    </tr>\n",
       "    <tr>\n",
       "      <th>2927</th>\n",
       "      <td>headphones beats</td>\n",
       "      <td>commercial</td>\n",
       "      <td>0.881724</td>\n",
       "    </tr>\n",
       "    <tr>\n",
       "      <th>4291</th>\n",
       "      <td>headphones sony</td>\n",
       "      <td>navigational, transactional</td>\n",
       "      <td>0.853955</td>\n",
       "    </tr>\n",
       "  </tbody>\n",
       "</table>\n",
       "</div>"
      ],
      "text/plain": [
       "                    Keyword              Keyword Intents   new_sim\n",
       "16         beats headphones                   commercial  0.854447\n",
       "38               headphones                   commercial  1.000000\n",
       "104    bluetooth headphones                   commercial  0.854062\n",
       "137                 earbuds                   commercial  0.887383\n",
       "662               headphone                   commercial  0.915441\n",
       "742   sennheiser headphones     commercial, navigational  0.856455\n",
       "2226            head phones                   commercial  0.929743\n",
       "2227            head phones                   commercial  0.929743\n",
       "2927       headphones beats                   commercial  0.881724\n",
       "4291        headphones sony  navigational, transactional  0.853955"
      ]
     },
     "execution_count": 46,
     "metadata": {},
     "output_type": "execute_result"
    }
   ],
   "source": [
    "new_df[new_df.new_sim>0.85]"
   ]
  },
  {
   "cell_type": "code",
   "execution_count": null,
   "metadata": {},
   "outputs": [],
   "source": []
  }
 ],
 "metadata": {
  "kernelspec": {
   "display_name": "venv",
   "language": "python",
   "name": "python3"
  },
  "language_info": {
   "codemirror_mode": {
    "name": "ipython",
    "version": 3
   },
   "file_extension": ".py",
   "mimetype": "text/x-python",
   "name": "python",
   "nbconvert_exporter": "python",
   "pygments_lexer": "ipython3",
   "version": "3.10.12"
  }
 },
 "nbformat": 4,
 "nbformat_minor": 2
}
