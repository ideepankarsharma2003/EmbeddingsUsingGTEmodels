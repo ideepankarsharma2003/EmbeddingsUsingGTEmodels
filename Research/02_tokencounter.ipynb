{
 "cells": [
  {
   "cell_type": "code",
   "execution_count": 1,
   "metadata": {},
   "outputs": [
    {
     "name": "stderr",
     "output_type": "stream",
     "text": [
      "/home/ubuntu/EmbeddingsUsingGTEmodels/venv/lib/python3.10/site-packages/tqdm/auto.py:21: TqdmWarning: IProgress not found. Please update jupyter and ipywidgets. See https://ipywidgets.readthedocs.io/en/stable/user_install.html\n",
      "  from .autonotebook import tqdm as notebook_tqdm\n",
      "Downloading (…)okenizer_config.json: 100%|██████████| 314/314 [00:00<00:00, 1.86MB/s]\n",
      "Downloading (…)solve/main/vocab.txt: 100%|██████████| 232k/232k [00:00<00:00, 77.6MB/s]\n",
      "Downloading (…)/main/tokenizer.json: 100%|██████████| 712k/712k [00:00<00:00, 89.7MB/s]\n",
      "Downloading (…)cial_tokens_map.json: 100%|██████████| 125/125 [00:00<00:00, 910kB/s]\n",
      "Downloading (…)lve/main/config.json: 100%|██████████| 618/618 [00:00<00:00, 4.19MB/s]\n",
      "Downloading pytorch_model.bin: 100%|██████████| 219M/219M [00:00<00:00, 458MB/s] \n"
     ]
    }
   ],
   "source": [
    "import torch.nn.functional as F\n",
    "from torch import Tensor\n",
    "from transformers import AutoTokenizer, AutoModel\n",
    "\n",
    "def average_pool(last_hidden_states: Tensor,\n",
    "                 attention_mask: Tensor) -> Tensor:\n",
    "    last_hidden = last_hidden_states.masked_fill(~attention_mask[..., None].bool(), 0.0)\n",
    "    return last_hidden.sum(dim=1) / attention_mask.sum(dim=1)[..., None]\n",
    "\n",
    "# input_texts = [\n",
    "#     \"what is the capital of China?\",\n",
    "#     \"how to implement quick sort in python?\",\n",
    "#     \"Beijing\",\n",
    "#     \"sorting algorithms\"\n",
    "# ]\n",
    "input_texts= \"\"\"'Learn more Razer Kraken Kitty RGB USB Gaming Headset Buy on Amazon Cat ear headphones are different from traditional headphones. Cat ear headphones for gaming also provide gaming enthusiasts with an immersive audio experience and built-in microphone for clear and prompt in-game communication. For those who prefer a convenient, tangle-free experience, wireless cat ear headphones can be a great option. To further boost their appeal, many cat ear headphones also comprise colorful LED lighting options. Roundup of the Best Cat Ear Headphones Best Cat Ear Gaming Headset Razer Kraken Kitty RGB USB Gaming Headset Best LED Cat Ear Headphones Axent Wear New Edition Wireless Cat Ear Headphones Best Wireless Cat Ear Gaming Headphones YOWU RGB Cat Ear Headphones 4 Cat Ear Headphones for Adults MindKoo Cat Ear Bluetooth Headphones Cat Ear Headphones in Budget SoundBeast Bluetooth Cat Ear Headphones Cat Ear Headphones for Kids iClever HS01 Food Grade Kids Headphones Best Pink Cat Ear Headphones ONITOON Cat Ear Bluetooth Headphones Cat Ear Headphones With Flexible Design SOMIC G951 Cat Ear Gaming Headphones Most Portable Cat Ear Headphones TCJJ Wireless Cat Ear Headphones Best Cat Ear Headphones for Gifting Luckyu Kids Bluetooth 5.0 Cat Ear Headphones Which Are the 10 Best Cat Ear Headphones Right Now? 1. Razer Kraken Kitty RGB USB Gaming Headset Best Cat Ear Gaming Headset Buy on Amazon Excellent sound quality Stylish cat ear design 7.1 spatial surround sound Active noise canceling mic Intuitive controls on ear cups Visually appealing LED lighting Multiple lighting modes Sturdy metal frame Reliable wired connectivity with USB-A connector No wireless connectivity option The Razer Kraken Kitty RGB USB Gaming Headset can be a purr-fect companion for gamers. Axent Wear New Edition Wireless Cat Ear Headphones Best LED Cat Ear Headphones Buy on Amazon Great sound quality Stylish cat ear design Cat ears comprise built-in speakers on both sides Comfortable for extended use Can be used as wireless/wired headphones (with 3.5 mm aux connectivity) Come with built-in mic for phone calls and communication during games Available in 4 colors LED lights in the cat ears deliver great visual effects Durable and sturdy May feel slightly heavy on the head Axent Wear has always taken the headphones market by surprise when it comes to their cat ear design, and the New Edition Wireless Cat Ear Headphones are no different. Another notable feature of the Axent Wear New Edition Wireless Cat Ear Headphones is their wireless functionality. In conclusion, the Axent Wear New Edition Wireless Cat Ear Headphones are popular for the glowing and vibrant cat ear design. View on Amazon: Axent Wear New Edition Wireless Cat Ear Headphones 3. miYOWU RGB Cat Ear Headphones 4 Best Wireless Cat Ear Gaming Headphones Buy on Amazon Excellent sound quality Trendy and stylish cat ears that double up as external speakers Attractive and customizable LED lights; multiple light and sound effects Comfortable for continuous use Durable and sturdy Can be used as wireless/wired headphones Provide reliable wireless connection with aptX HD low latency support Fast-charging option Great battery life Detachable mic with active noise reduction Intuitive on-ear controls'\"\"\"\n",
    "\n",
    "tokenizer = AutoTokenizer.from_pretrained(\"thenlper/gte-base\")\n",
    "model = AutoModel.from_pretrained(\"thenlper/gte-base\")\n",
    "\n",
    "# Tokenize the input texts\n",
    "\n",
    "\n"
   ]
  },
  {
   "cell_type": "code",
   "execution_count": 26,
   "metadata": {},
   "outputs": [],
   "source": [
    "input_texts= \"\"\"'Cat ear headphones have gained popularity with their fun design featuring \\\"cat ears\\\" atop the headband. While originally popularizing among anime and gaming communities, they've grown to appeal to various ages and uses. \\n\\nThe headphones surveyed provide both aesthetic excitement and audio functionality. Many model's ears contain speakers or lights. The Razer Kraken Kitty offers adjustable RGB lights that respond to streaming. It also supplies high-quality 7.1 surround sound for gaming immersion. \\n\\nThe Axent Wear Edition houses built-in speakers in its ears along with customizable multi-colored lights. It functions wirelessly yet maintains wired compatibility too. Its sound quality pleases but isn't tailored for competitive gaming.\\n\\nThe YOWU RGB goes wireless for untethered enjoyment, integrating 50mm drivers for full audio. Its ears light up through five modes while remaining adjustable for all head sizes. \\n\\nMindKoo Cat Ear Bluetooth targets adult users with its sophisticated yet playful look. Its padded design wraps ears comfortably while offering wireless freedom. \\n\\nFriendly to budgets, SoundBeast includes basic but strong features. Its wireless function and light-up ears entertain on a financial restriction. \\n\\niClever emphasizes child safety, using food-grade, non-toxic materials. Its volume limiting and curled design protect young ears during fun.\\n\\nONITOON stands out with its selection of bright pink coloring alongside RGB lighting in detached ears. Its stocked battery and convenient controls please.\\n\\nSOMIC removes concerns of fragility through its detachable silicone ears. Underneath delivers quality audio tailored for gaming immersion.\\n\\nLastly, TCJJ Wireless prioritizes portability with its foldable construction. Style remains via its illuminated ears, while built-in microphones facilitate clear communication.\\n\\nOverall, cat ear headphones supply aesthetic joy married to reliable performance. Models exist to suit diverse budgets and ages, delivering unique appeal through fun-loving design.\"\"\""
   ]
  },
  {
   "cell_type": "code",
   "execution_count": 27,
   "metadata": {},
   "outputs": [],
   "source": [
    "encoded = tokenizer(input_texts)\n"
   ]
  },
  {
   "cell_type": "code",
   "execution_count": 28,
   "metadata": {},
   "outputs": [
    {
     "data": {
      "text/plain": [
       "{'input_ids': [101, 1005, 4937, 4540, 2132, 19093, 2031, 4227, 6217, 2007, 2037, 4569, 2640, 3794, 1000, 4937, 5551, 1000, 10234, 1996, 2132, 12733, 1012, 2096, 2761, 2759, 6026, 2426, 8750, 1998, 10355, 4279, 1010, 2027, 1005, 2310, 4961, 2000, 5574, 2000, 2536, 5535, 1998, 3594, 1012, 1996, 2132, 19093, 12876, 3073, 2119, 12465, 8277, 1998, 5746, 15380, 1012, 2116, 2944, 1005, 1055, 5551, 5383, 7492, 2030, 4597, 1012, 1996, 10958, 6290, 1047, 16555, 2368, 14433, 4107, 26404, 1054, 18259, 4597, 2008, 6869, 2000, 11058, 1012, 2009, 2036, 6067, 2152, 1011, 3737, 1021, 1012, 1015, 15161, 2614, 2005, 10355, 27013, 1012, 1996, 12946, 3372, 4929, 3179, 3506, 2328, 1011, 1999, 7492, 1999, 2049, 5551, 2247, 2007, 7661, 21335, 3468, 4800, 1011, 6910, 4597, 1012, 2009, 4972, 9949, 2135, 2664, 9319, 17502, 21778, 2205, 1012, 2049, 2614, 3737, 3531, 2015, 2021, 3475, 1005, 1056, 21727, 2005, 6975, 10355, 1012, 1996, 10930, 16050, 1054, 18259, 3632, 9949, 2005, 4895, 22513, 27190, 20195, 1010, 22380, 2753, 7382, 6853, 2005, 2440, 5746, 1012, 2049, 5551, 2422, 2039, 2083, 2274, 11583, 2096, 3588, 26404, 2005, 2035, 2132, 10826, 1012, 2568, 3683, 2080, 4937, 4540, 2630, 19392, 7889, 4639, 5198, 2007, 2049, 12138, 2664, 18378, 2298, 1012, 2049, 20633, 2640, 19735, 5551, 18579, 2096, 5378, 9949, 4071, 1012, 5379, 2000, 26178, 1010, 2614, 4783, 14083, 2950, 3937, 2021, 2844, 2838, 1012, 2049, 9949, 3853, 1998, 2422, 1011, 2039, 5551, 20432, 2006, 1037, 3361, 16840, 1012, 24582, 20414, 2121, 20618, 2775, 3808, 1010, 2478, 2833, 1011, 3694, 1010, 2512, 1011, 11704, 4475, 1012, 2049, 3872, 14879, 1998, 8188, 2640, 4047, 2402, 5551, 2076, 4569, 1012, 2006, 9956, 2239, 4832, 2041, 2007, 2049, 4989, 1997, 4408, 5061, 22276, 4077, 1054, 18259, 7497, 1999, 12230, 5551, 1012, 2049, 24802, 6046, 1998, 14057, 7711, 3531, 1012, 2061, 7712, 20362, 5936, 1997, 25312, 20142, 3012, 2083, 2049, 20010, 6776, 3085, 13773, 2063, 5551, 1012, 7650, 18058, 3737, 5746, 21727, 2005, 10355, 27013, 1012, 22267, 1010, 22975, 3501, 3501, 9949, 3188, 25090, 11254, 3417, 8010, 2007, 2049, 10671, 3085, 2810, 1012, 2806, 3464, 3081, 2049, 14640, 5551, 1010, 2096, 2328, 1011, 1999, 15545, 2015, 10956, 3154, 4807, 1012, 3452, 1010, 4937, 4540, 2132, 19093, 4425, 12465, 6569, 2496, 2000, 10539, 2836, 1012, 4275, 4839, 2000, 4848, 7578, 26178, 1998, 5535, 1010, 12771, 4310, 5574, 2083, 4569, 1011, 8295, 2640, 1012, 102], 'token_type_ids': [0, 0, 0, 0, 0, 0, 0, 0, 0, 0, 0, 0, 0, 0, 0, 0, 0, 0, 0, 0, 0, 0, 0, 0, 0, 0, 0, 0, 0, 0, 0, 0, 0, 0, 0, 0, 0, 0, 0, 0, 0, 0, 0, 0, 0, 0, 0, 0, 0, 0, 0, 0, 0, 0, 0, 0, 0, 0, 0, 0, 0, 0, 0, 0, 0, 0, 0, 0, 0, 0, 0, 0, 0, 0, 0, 0, 0, 0, 0, 0, 0, 0, 0, 0, 0, 0, 0, 0, 0, 0, 0, 0, 0, 0, 0, 0, 0, 0, 0, 0, 0, 0, 0, 0, 0, 0, 0, 0, 0, 0, 0, 0, 0, 0, 0, 0, 0, 0, 0, 0, 0, 0, 0, 0, 0, 0, 0, 0, 0, 0, 0, 0, 0, 0, 0, 0, 0, 0, 0, 0, 0, 0, 0, 0, 0, 0, 0, 0, 0, 0, 0, 0, 0, 0, 0, 0, 0, 0, 0, 0, 0, 0, 0, 0, 0, 0, 0, 0, 0, 0, 0, 0, 0, 0, 0, 0, 0, 0, 0, 0, 0, 0, 0, 0, 0, 0, 0, 0, 0, 0, 0, 0, 0, 0, 0, 0, 0, 0, 0, 0, 0, 0, 0, 0, 0, 0, 0, 0, 0, 0, 0, 0, 0, 0, 0, 0, 0, 0, 0, 0, 0, 0, 0, 0, 0, 0, 0, 0, 0, 0, 0, 0, 0, 0, 0, 0, 0, 0, 0, 0, 0, 0, 0, 0, 0, 0, 0, 0, 0, 0, 0, 0, 0, 0, 0, 0, 0, 0, 0, 0, 0, 0, 0, 0, 0, 0, 0, 0, 0, 0, 0, 0, 0, 0, 0, 0, 0, 0, 0, 0, 0, 0, 0, 0, 0, 0, 0, 0, 0, 0, 0, 0, 0, 0, 0, 0, 0, 0, 0, 0, 0, 0, 0, 0, 0, 0, 0, 0, 0, 0, 0, 0, 0, 0, 0, 0, 0, 0, 0, 0, 0, 0, 0, 0, 0, 0, 0, 0, 0, 0, 0, 0, 0, 0, 0, 0, 0, 0, 0, 0, 0, 0, 0, 0, 0, 0, 0, 0, 0, 0, 0, 0, 0, 0, 0, 0, 0, 0, 0, 0, 0, 0, 0, 0, 0, 0, 0, 0, 0, 0, 0, 0, 0, 0, 0, 0, 0, 0, 0, 0, 0, 0, 0, 0, 0, 0, 0], 'attention_mask': [1, 1, 1, 1, 1, 1, 1, 1, 1, 1, 1, 1, 1, 1, 1, 1, 1, 1, 1, 1, 1, 1, 1, 1, 1, 1, 1, 1, 1, 1, 1, 1, 1, 1, 1, 1, 1, 1, 1, 1, 1, 1, 1, 1, 1, 1, 1, 1, 1, 1, 1, 1, 1, 1, 1, 1, 1, 1, 1, 1, 1, 1, 1, 1, 1, 1, 1, 1, 1, 1, 1, 1, 1, 1, 1, 1, 1, 1, 1, 1, 1, 1, 1, 1, 1, 1, 1, 1, 1, 1, 1, 1, 1, 1, 1, 1, 1, 1, 1, 1, 1, 1, 1, 1, 1, 1, 1, 1, 1, 1, 1, 1, 1, 1, 1, 1, 1, 1, 1, 1, 1, 1, 1, 1, 1, 1, 1, 1, 1, 1, 1, 1, 1, 1, 1, 1, 1, 1, 1, 1, 1, 1, 1, 1, 1, 1, 1, 1, 1, 1, 1, 1, 1, 1, 1, 1, 1, 1, 1, 1, 1, 1, 1, 1, 1, 1, 1, 1, 1, 1, 1, 1, 1, 1, 1, 1, 1, 1, 1, 1, 1, 1, 1, 1, 1, 1, 1, 1, 1, 1, 1, 1, 1, 1, 1, 1, 1, 1, 1, 1, 1, 1, 1, 1, 1, 1, 1, 1, 1, 1, 1, 1, 1, 1, 1, 1, 1, 1, 1, 1, 1, 1, 1, 1, 1, 1, 1, 1, 1, 1, 1, 1, 1, 1, 1, 1, 1, 1, 1, 1, 1, 1, 1, 1, 1, 1, 1, 1, 1, 1, 1, 1, 1, 1, 1, 1, 1, 1, 1, 1, 1, 1, 1, 1, 1, 1, 1, 1, 1, 1, 1, 1, 1, 1, 1, 1, 1, 1, 1, 1, 1, 1, 1, 1, 1, 1, 1, 1, 1, 1, 1, 1, 1, 1, 1, 1, 1, 1, 1, 1, 1, 1, 1, 1, 1, 1, 1, 1, 1, 1, 1, 1, 1, 1, 1, 1, 1, 1, 1, 1, 1, 1, 1, 1, 1, 1, 1, 1, 1, 1, 1, 1, 1, 1, 1, 1, 1, 1, 1, 1, 1, 1, 1, 1, 1, 1, 1, 1, 1, 1, 1, 1, 1, 1, 1, 1, 1, 1, 1, 1, 1, 1, 1, 1, 1, 1, 1, 1, 1, 1, 1, 1, 1, 1, 1, 1, 1, 1, 1, 1, 1, 1, 1, 1, 1, 1, 1]}"
      ]
     },
     "execution_count": 28,
     "metadata": {},
     "output_type": "execute_result"
    }
   ],
   "source": [
    "encoded"
   ]
  },
  {
   "cell_type": "code",
   "execution_count": 29,
   "metadata": {},
   "outputs": [],
   "source": [
    "decoded= tokenizer.decode(encoded['input_ids'])"
   ]
  },
  {
   "cell_type": "code",
   "execution_count": 30,
   "metadata": {},
   "outputs": [
    {
     "data": {
      "text/plain": [
       "387"
      ]
     },
     "execution_count": 30,
     "metadata": {},
     "output_type": "execute_result"
    }
   ],
   "source": [
    "len(encoded['input_ids'])"
   ]
  },
  {
   "cell_type": "code",
   "execution_count": 16,
   "metadata": {},
   "outputs": [
    {
     "data": {
      "text/plain": [
       "3256"
      ]
     },
     "execution_count": 16,
     "metadata": {},
     "output_type": "execute_result"
    }
   ],
   "source": [
    "len(input_texts)"
   ]
  },
  {
   "cell_type": "code",
   "execution_count": 17,
   "metadata": {},
   "outputs": [
    {
     "data": {
      "text/plain": [
       "3295"
      ]
     },
     "execution_count": 17,
     "metadata": {},
     "output_type": "execute_result"
    }
   ],
   "source": [
    "len(decoded)"
   ]
  },
  {
   "cell_type": "code",
   "execution_count": 18,
   "metadata": {},
   "outputs": [
    {
     "data": {
      "text/plain": [
       "\"[CLS]'learn more razer kraken kitty rgb usb gaming headset buy on amazon cat ear headphones are different from traditional headphones. cat ear headphones for gaming also provide gaming enthusiasts with an immersive audio experience and built - in microphone for clear and prompt in - game communication. for those who prefer a convenient, tangle - free experience, wireless cat ear headphones can be a great option. to further boost their appeal, many cat ear headphones also comprise colorful led lighting options. roundup of the best cat ear headphones best cat ear gaming headset razer kraken kitty rgb usb gaming headset best led cat ear headphones axent wear new edition wireless cat ear headphones best wireless cat ear gaming headphones yowu rgb cat ear headphones 4 cat ear headphones for adults mindkoo cat ear bluetooth headphones cat ear headphones in budget soundbeast bluetooth cat ear headphones cat ear headphones for kids iclever hs01 food grade kids headphones best pink cat ear headphones onitoon cat ear bluetooth headphones cat ear headphones with flexible design somic g951 cat ear gaming headphones most portable cat ear headphones tcjj wireless cat ear headphones best cat ear headphones for gifting luckyu kids bluetooth 5. 0 cat ear headphones which are the 10 best cat ear headphones right now? 1. razer kraken kitty rgb usb gaming headset best cat ear gaming headset buy on amazon excellent sound quality stylish cat ear design 7. 1 spatial surround sound active noise canceling mic intuitive controls on ear cups visually appealing led lighting multiple lighting modes sturdy metal frame reliable wired connectivity with usb - a connector no wireless connectivity option the razer kraken kitty rgb usb gaming headset can be a purr - fect companion for gamers. axent wear new edition wireless cat ear headphones best led cat ear headphones buy on amazon great sound quality stylish cat ear design cat ears comprise built - in speakers on both sides comfortable for extended use can be used as wireless / wired headphones ( with 3. 5 mm aux connectivity ) come with built - in mic for phone calls and communication during games available in 4 colors led lights in the cat ears deliver great visual effects durable and sturdy may feel slightly heavy on the head axent wear has always taken the headphones market by surprise when it comes to their cat ear design, and the new edition wireless cat ear headphones are no different. another notable feature of the axent wear new edition wireless cat ear headphones is their wireless functionality. in conclusion, the axent wear new edition wireless cat ear headphones are popular for the glowing and vibrant cat ear design. view on amazon : axent wear new edition wireless cat ear headphones 3. miyowu rgb cat ear headphones 4 best wireless cat ear gaming headphones buy on amazon excellent sound quality trendy and stylish cat ears that double up as external speakers attractive and customizable led lights ; multiple light and sound effects comfortable for continuous use durable and sturdy can be used as wireless / wired headphones provide reliable wireless connection with aptx hd low latency support fast - charging option great battery life detachable mic with active noise reduction intuitive on - ear controls'[SEP]\""
      ]
     },
     "execution_count": 18,
     "metadata": {},
     "output_type": "execute_result"
    }
   ],
   "source": [
    "decoded"
   ]
  },
  {
   "cell_type": "code",
   "execution_count": 19,
   "metadata": {},
   "outputs": [],
   "source": [
    "import numpy as np\n"
   ]
  },
  {
   "cell_type": "code",
   "execution_count": 21,
   "metadata": {},
   "outputs": [],
   "source": [
    "a1= np.array([1, 3, 5, 6, 7, 8])\n",
    "a2= np.array([12, 324, 25, 5, 4, 23])\n",
    "a3= np.array([121, 3124, 225, 53, 44, 253])\n",
    "a4= np.array([1211, 31244, 25, 3, 4, 25])"
   ]
  },
  {
   "cell_type": "code",
   "execution_count": 24,
   "metadata": {},
   "outputs": [
    {
     "data": {
      "text/plain": [
       "array([  66.5, 1724. ,   25. ,    5.5,    5.5,   24. ])"
      ]
     },
     "execution_count": 24,
     "metadata": {},
     "output_type": "execute_result"
    }
   ],
   "source": [
    "np.median([a1, a2, a3, a4], axis=0)"
   ]
  },
  {
   "cell_type": "code",
   "execution_count": 25,
   "metadata": {},
   "outputs": [
    {
     "data": {
      "text/plain": [
       "66.5"
      ]
     },
     "execution_count": 25,
     "metadata": {},
     "output_type": "execute_result"
    }
   ],
   "source": [
    "(121+12)/2"
   ]
  },
  {
   "cell_type": "code",
   "execution_count": null,
   "metadata": {},
   "outputs": [],
   "source": []
  }
 ],
 "metadata": {
  "kernelspec": {
   "display_name": "venv",
   "language": "python",
   "name": "python3"
  },
  "language_info": {
   "codemirror_mode": {
    "name": "ipython",
    "version": 3
   },
   "file_extension": ".py",
   "mimetype": "text/x-python",
   "name": "python",
   "nbconvert_exporter": "python",
   "pygments_lexer": "ipython3",
   "version": "3.10.12"
  },
  "orig_nbformat": 4
 },
 "nbformat": 4,
 "nbformat_minor": 2
}
