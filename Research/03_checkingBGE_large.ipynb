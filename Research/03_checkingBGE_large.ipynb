{
 "cells": [
  {
   "cell_type": "code",
   "execution_count": 1,
   "metadata": {},
   "outputs": [],
   "source": [
    "# !pip install InstructorEmbedding"
   ]
  },
  {
   "cell_type": "code",
   "execution_count": 1,
   "metadata": {},
   "outputs": [],
   "source": [
    "import os; os.chdir('..'); import pandas as pd;\n"
   ]
  },
  {
   "cell_type": "code",
   "execution_count": 2,
   "metadata": {},
   "outputs": [
    {
     "name": "stderr",
     "output_type": "stream",
     "text": [
      "/home/ubuntu/GTE_BGE_Embeddings/venv/lib/python3.10/site-packages/tqdm/auto.py:21: TqdmWarning: IProgress not found. Please update jupyter and ipywidgets. See https://ipywidgets.readthedocs.io/en/stable/user_install.html\n",
      "  from .autonotebook import tqdm as notebook_tqdm\n",
      "Downloading (…)3d520/.gitattributes: 100%|██████████| 1.52k/1.52k [00:00<00:00, 7.31MB/s]\n",
      "Downloading (…)_Pooling/config.json: 100%|██████████| 191/191 [00:00<00:00, 442kB/s]\n",
      "Downloading (…)39c423d520/README.md: 100%|██████████| 27.7k/27.7k [00:00<00:00, 55.9MB/s]\n",
      "Downloading (…)c423d520/config.json: 100%|██████████| 1.00k/1.00k [00:00<00:00, 2.41MB/s]\n",
      "Downloading (…)ce_transformers.json: 100%|██████████| 124/124 [00:00<00:00, 298kB/s]\n",
      "Downloading model.safetensors: 100%|██████████| 1.30G/1.30G [00:42<00:00, 30.7MB/s]\n",
      "Downloading pytorch_model.bin: 100%|██████████| 1.30G/1.30G [00:55<00:00, 23.4MB/s]\n",
      "Downloading (…)nce_bert_config.json: 100%|██████████| 52.0/52.0 [00:00<00:00, 298kB/s]\n",
      "Downloading (…)cial_tokens_map.json: 100%|██████████| 125/125 [00:00<00:00, 733kB/s]\n",
      "Downloading (…)3d520/tokenizer.json: 100%|██████████| 439k/439k [00:00<00:00, 91.1MB/s]\n",
      "Downloading (…)okenizer_config.json: 100%|██████████| 394/394 [00:00<00:00, 2.42MB/s]\n",
      "Downloading (…)39c423d520/vocab.txt: 100%|██████████| 110k/110k [00:00<00:00, 175MB/s]\n",
      "Downloading (…)423d520/modules.json: 100%|██████████| 349/349 [00:00<00:00, 2.38MB/s]\n"
     ]
    }
   ],
   "source": [
    "from sentence_transformers import SentenceTransformer\n",
    "queries = ['query_1', 'query_2']\n",
    "passages = [\"样例文档-1\", \"样例文档-2\"] # [\"Sample Document-1\", \"Sample Document-2\"]\n",
    "instruction = \"为这个句子生成表示以用于检索相关文章：\" # Generate a representation for this sentence to be used to retrieve related articles\n",
    "\n",
    "model = SentenceTransformer('BAAI/bge-large-zh-v1.5')\n",
    "q_embeddings = model.encode([instruction+q for q in queries], normalize_embeddings=True)\n",
    "p_embeddings = model.encode(passages, normalize_embeddings=True)\n",
    "scores = q_embeddings @ p_embeddings.T\n",
    "\n"
   ]
  },
  {
   "cell_type": "code",
   "execution_count": 3,
   "metadata": {},
   "outputs": [
    {
     "data": {
      "text/plain": [
       "array([[0.33725056, 0.20507804],\n",
       "       [0.22591063, 0.3849577 ]], dtype=float32)"
      ]
     },
     "execution_count": 3,
     "metadata": {},
     "output_type": "execute_result"
    }
   ],
   "source": [
    "scores"
   ]
  },
  {
   "cell_type": "code",
   "execution_count": null,
   "metadata": {},
   "outputs": [],
   "source": [
    "# custom template: \"Represent the {domain} {text_type} for {task_objective}:\""
   ]
  },
  {
   "cell_type": "code",
   "execution_count": null,
   "metadata": {},
   "outputs": [],
   "source": [
    "# seed_keyword= \"best cat ear headphones\""
   ]
  },
  {
   "cell_type": "code",
   "execution_count": null,
   "metadata": {},
   "outputs": [],
   "source": [
    "# from sklearn.metrics.pairwise import cosine_similarity\n",
    "# custom_instruction_template= f'Represent the {\"Search Keyword\"} {\"Semantic Similarity\"} for seed keyword {seed_keyword}:'\n",
    "# sentences_a = [[custom_instruction_template,'sony headphones'], \n",
    "#                [custom_instruction_template,'headphones aa']]\n",
    "# sentences_b = [[custom_instruction_template,'amazing headphones'],\n",
    "#                [custom_instruction_template,'headphones xyx']]\n",
    "# embeddings_a = model.encode(sentences_a)\n",
    "# embeddings_b = model.encode(sentences_b)\n",
    "# similarities = cosine_similarity(embeddings_a,embeddings_b)\n",
    "# print(similarities)\n"
   ]
  },
  {
   "cell_type": "code",
   "execution_count": 42,
   "metadata": {},
   "outputs": [],
   "source": [
    "from sklearn.metrics.pairwise import cosine_similarity\n",
    "\n",
    "def check_similarity_against(list_of_keywords: list, seed_keyword: str):\n",
    "    custom_instruction_template= f'Represent the {\"Search Keyword\"} {\"Semantic Similarity\"} for removal of nonsense keywords the given seed keyword \"{seed_keyword}\":'\n",
    "    custom_instruction_template=f\"Filter nonsense keywords around {seed_keyword}\"\n",
    "    target_sentence= [custom_instruction_template+ i for i in list_of_keywords]\n",
    "    input_sentence= [custom_instruction_template+ seed_keyword]\n",
    "    # print(target_sentence); print()\n",
    "    print(input_sentence)\n",
    "    embeddings_seed_keyword= model.encode(input_sentence)\n",
    "    target_embeddings= model.encode(target_sentence)\n",
    "    similarities = cosine_similarity(embeddings_seed_keyword,target_embeddings)\n",
    "    for i in range(len(similarities[0])):\n",
    "        print(\n",
    "            f'{list_of_keywords[i].replace(\",\", \"\")}, {similarities[0][i]}'\n",
    "        )\n"
   ]
  },
  {
   "cell_type": "code",
   "execution_count": 43,
   "metadata": {},
   "outputs": [
    {
     "data": {
      "text/plain": [
       "array([[ 0.03580304, -0.00729054, -0.01680167, ..., -0.03189232,\n",
       "         0.02867081,  0.02122115]], dtype=float32)"
      ]
     },
     "execution_count": 43,
     "metadata": {},
     "output_type": "execute_result"
    }
   ],
   "source": [
    "model.encode([\"best cat ear headphones\"])"
   ]
  },
  {
   "cell_type": "code",
   "execution_count": 44,
   "metadata": {},
   "outputs": [],
   "source": [
    "df= pd.read_csv(\"data/keywords__4_.csv\")"
   ]
  },
  {
   "cell_type": "code",
   "execution_count": 45,
   "metadata": {},
   "outputs": [
    {
     "data": {
      "text/html": [
       "<div>\n",
       "<style scoped>\n",
       "    .dataframe tbody tr th:only-of-type {\n",
       "        vertical-align: middle;\n",
       "    }\n",
       "\n",
       "    .dataframe tbody tr th {\n",
       "        vertical-align: top;\n",
       "    }\n",
       "\n",
       "    .dataframe thead th {\n",
       "        text-align: right;\n",
       "    }\n",
       "</style>\n",
       "<table border=\"1\" class=\"dataframe\">\n",
       "  <thead>\n",
       "    <tr style=\"text-align: right;\">\n",
       "      <th></th>\n",
       "      <th>Index</th>\n",
       "      <th>Keyword</th>\n",
       "      <th>similarity</th>\n",
       "    </tr>\n",
       "  </thead>\n",
       "  <tbody>\n",
       "    <tr>\n",
       "      <th>0</th>\n",
       "      <td>1</td>\n",
       "      <td>hybrid cars or electric cars</td>\n",
       "      <td>0.97</td>\n",
       "    </tr>\n",
       "    <tr>\n",
       "      <th>1</th>\n",
       "      <td>2</td>\n",
       "      <td>0 hybrid cars</td>\n",
       "      <td>0.96</td>\n",
       "    </tr>\n",
       "    <tr>\n",
       "      <th>2</th>\n",
       "      <td>3</td>\n",
       "      <td>electric or hybrid cars</td>\n",
       "      <td>0.96</td>\n",
       "    </tr>\n",
       "    <tr>\n",
       "      <th>3</th>\n",
       "      <td>4</td>\n",
       "      <td>hybrid cars and suvs</td>\n",
       "      <td>0.96</td>\n",
       "    </tr>\n",
       "    <tr>\n",
       "      <th>4</th>\n",
       "      <td>5</td>\n",
       "      <td>hybrid cars are</td>\n",
       "      <td>0.96</td>\n",
       "    </tr>\n",
       "  </tbody>\n",
       "</table>\n",
       "</div>"
      ],
      "text/plain": [
       "   Index                       Keyword  similarity\n",
       "0      1  hybrid cars or electric cars        0.97\n",
       "1      2                 0 hybrid cars        0.96\n",
       "2      3       electric or hybrid cars        0.96\n",
       "3      4          hybrid cars and suvs        0.96\n",
       "4      5               hybrid cars are        0.96"
      ]
     },
     "execution_count": 45,
     "metadata": {},
     "output_type": "execute_result"
    }
   ],
   "source": [
    "df.head()"
   ]
  },
  {
   "cell_type": "code",
   "execution_count": 46,
   "metadata": {},
   "outputs": [],
   "source": [
    "list_of_keyword= df.Keyword.values.tolist()\n",
    "# list_of_keyword"
   ]
  },
  {
   "cell_type": "code",
   "execution_count": 47,
   "metadata": {},
   "outputs": [
    {
     "name": "stdout",
     "output_type": "stream",
     "text": [
      "['Filter nonsense keywords around Hybrid CarsHybrid Cars']\n"
     ]
    },
    {
     "name": "stdout",
     "output_type": "stream",
     "text": [
      "hybrid cars or electric cars, 0.9489871859550476\n",
      "0 hybrid cars, 0.9523574709892273\n",
      "electric or hybrid cars, 0.9579682350158691\n",
      "hybrid cars and suvs, 0.9781546592712402\n",
      "hybrid cars are, 0.9859768748283386\n",
      "hybrid cars description, 0.9497717022895813\n",
      "hybrid on cars, 0.9890419840812683\n",
      "hybrid vehicle cars, 0.9891140460968018\n",
      "by hybrid vehicles, 0.9495428800582886\n",
      "hybrid car details, 0.957597017288208\n",
      "hybrid car types, 0.9428191781044006\n",
      "hybrid car what is it, 0.9452745318412781\n",
      "hybrid cars and trucks, 0.9778128266334534\n",
      "hybrid cars are a combination of, 0.9484961628913879\n",
      "hybrid cars are economical, 0.8948528170585632\n",
      "hybrid cars are electric, 0.9132510423660278\n",
      "hybrid cars are good for the environment, 0.9178084135055542\n",
      "hybrid cars ev, 0.9750994443893433\n",
      "hybrid cars examples, 0.9364111423492432\n",
      "hybrid cars for sale, 0.9551740288734436\n",
      "hybrid cars gas and electric, 0.9279323220252991\n",
      "hybrid cars new, 0.9683358669281006\n",
      "hybrid cars technology, 0.956783652305603\n",
      "hybrid cars types, 0.93816077709198\n",
      "hybrid cars what are they, 0.954001784324646\n",
      "hybrid electric cars, 0.9542189836502075\n",
      "list of hybrid and electric cars, 0.9144448041915894\n",
      "list of hybrid cars, 0.9552658796310425\n",
      "a hybrid car uses, 0.9397460222244263\n",
      "a hybrid cars, 0.9531107544898987\n",
      "all hybrid cars, 0.973393440246582\n",
      "all hybrid cars and suvs, 0.9529399275779724\n",
      "by hybrid car, 0.9557971954345703\n",
      "ev hybrid cars, 0.9648436903953552\n",
      "gas or hybrid cars, 0.955595850944519\n",
      "hybrid car driving, 0.982029914855957\n",
      "hybrid car has an electric, 0.9175781011581421\n",
      "hybrid car how it works, 0.9471069574356079\n",
      "hybrid car or gas, 0.9493244290351868\n",
      "hybrid car or truck, 0.9642829298973083\n",
      "hybrid car variants, 0.956940770149231\n",
      "hybrid cars 2021, 0.9488261938095093\n",
      "hybrid cars a, 0.9836016297340393\n",
      "hybrid cars all, 0.9849367737770081\n",
      "hybrid cars and suvs for sale, 0.9400533437728882\n",
      "hybrid cars are good, 0.953071117401123\n",
      "hybrid cars are the future, 0.9430208802223206\n",
      "hybrid cars automatic, 0.9732590913772583\n",
      "hybrid cars available, 0.9779348373413086\n",
      "hybrid cars details, 0.9627464413642883\n",
      "hybrid cars different types, 0.9386463761329651\n",
      "hybrid cars electric, 0.9450591802597046\n",
      "hybrid cars electric and gas, 0.9329010248184204\n",
      "hybrid cars electric and petrol, 0.9316186308860779\n",
      "hybrid cars engine, 0.96425461769104\n",
      "hybrid cars ev and petrol, 0.9424179792404175\n",
      "hybrid cars facts, 0.962636411190033\n",
      "hybrid cars for sale new, 0.944464385509491\n",
      "hybrid cars future, 0.9682247638702393\n",
      "hybrid cars gasoline and electric, 0.92876136302948\n",
      "hybrid cars how, 0.9626460075378418\n",
      "hybrid cars how do they work, 0.9356242418289185\n",
      "hybrid cars how it works, 0.954794704914093\n",
      "hybrid cars information, 0.9649934768676758\n",
      "hybrid cars models, 0.9543370008468628\n",
      "hybrid cars new model, 0.931808590888977\n",
      "hybrid cars operation, 0.9725249409675598\n",
      "hybrid cars or suv, 0.9656643867492676\n",
      "hybrid cars petrol and electric, 0.925959587097168\n",
      "hybrid cars petrol or diesel, 0.9314946532249451\n",
      "hybrid cars popular, 0.9598448276519775\n",
      "hybrid cars science, 0.9498222470283508\n",
      "hybrid cars use, 0.9731923341751099\n",
      "hybrid cars versus electric, 0.9195744395256042\n",
      "hybrid cars vs, 0.9629206657409668\n",
      "hybrid cars vs ev, 0.9499865770339966\n",
      "hybrid cars what is, 0.9614797830581665\n",
      "hybrid cars work, 0.9793854355812073\n",
      "hybrid in cars, 0.9889791011810303\n",
      "hybrides auto, 0.9662557244300842\n",
      "in hybrid vehicle, 0.9427346587181091\n",
      "is hybrid cars electric, 0.9267210960388184\n",
      "list of us hybrid cars, 0.9206007719039917\n",
      "of hybrid car, 0.9598146677017212\n",
      "of hybrid vehicle, 0.9375706911087036\n",
      "the hybrid cars, 0.973928689956665\n",
      "to hybrid cars, 0.9445229768753052\n",
      "www.hybrid car, 0.9226834177970886\n",
      "10 hybrid cars, 0.9358538389205933\n",
      "2 types of hybrid cars, 0.9280437231063843\n",
      "3 hybrid cars, 0.9521456956863403\n",
      "all wheel drive hybrid cars, 0.9306352138519287\n",
      "american hybrid cars, 0.9686166644096375\n",
      "are hybrid cars electric, 0.9331777095794678\n",
      "buy hybrid cars, 0.9781489372253418\n",
      "california law hybrid cars, 0.9226285219192505\n",
      "cnn hybrid cars, 0.9723107814788818\n",
      "drive hybrid car, 0.9757169485092163\n",
      "eu taxonomy hybrid cars, 0.9195531606674194\n",
      "ev vs hybrid cars, 0.9301915764808655\n",
      "a m headphones, 0.845017671585083\n",
      "headphone, 0.917084276676178\n",
      "sony headphones, 0.8576962947845459\n"
     ]
    }
   ],
   "source": [
    "# list_of_keyword= [\n",
    "#     'headphones a', \n",
    "#     'headphones aaa', \n",
    "#     'sony headphones', \n",
    "#     'habdjhciej', \n",
    "# ]\n",
    "\n",
    "seed_keyword= \"Hybrid Cars\"\n",
    "\n",
    "\n",
    "check_similarity_against(list_of_keyword+[\"a m headphones\", \"headphone\", \"sony headphones\"], seed_keyword)"
   ]
  },
  {
   "cell_type": "code",
   "execution_count": null,
   "metadata": {},
   "outputs": [],
   "source": []
  }
 ],
 "metadata": {
  "kernelspec": {
   "display_name": "venv",
   "language": "python",
   "name": "python3"
  },
  "language_info": {
   "codemirror_mode": {
    "name": "ipython",
    "version": 3
   },
   "file_extension": ".py",
   "mimetype": "text/x-python",
   "name": "python",
   "nbconvert_exporter": "python",
   "pygments_lexer": "ipython3",
   "version": "3.10.12"
  }
 },
 "nbformat": 4,
 "nbformat_minor": 2
}
