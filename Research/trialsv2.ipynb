{
 "cells": [
  {
   "cell_type": "code",
   "execution_count": 1,
   "metadata": {},
   "outputs": [],
   "source": [
    "import os; os.chdir('..')"
   ]
  },
  {
   "cell_type": "code",
   "execution_count": 2,
   "metadata": {},
   "outputs": [
    {
     "name": "stderr",
     "output_type": "stream",
     "text": [
      "/home/ubuntu/EmbeddingsUsingGTEmodels/venv/lib/python3.10/site-packages/tqdm/auto.py:21: TqdmWarning: IProgress not found. Please update jupyter and ipywidgets. See https://ipywidgets.readthedocs.io/en/stable/user_install.html\n",
      "  from .autonotebook import tqdm as notebook_tqdm\n"
     ]
    }
   ],
   "source": [
    "from Utils.get_categories import get_top_labels_bulk_v2, get_top_labels_bulk"
   ]
  },
  {
   "cell_type": "code",
   "execution_count": 3,
   "metadata": {},
   "outputs": [],
   "source": [
    "l= [\n",
    "        'best cat ear headphones', \n",
    "        'absxbvchbd', \n",
    "        'mercedes'\n",
    "    ]"
   ]
  },
  {
   "cell_type": "code",
   "execution_count": 4,
   "metadata": {},
   "outputs": [
    {
     "data": {
      "text/plain": [
       "[' Computers_and_Electronics best cat ear headphones',\n",
       " ' Computers_and_Electronics absxbvchbd',\n",
       " ' Autos_and_Vehicles mercedes']"
      ]
     },
     "execution_count": 4,
     "metadata": {},
     "output_type": "execute_result"
    }
   ],
   "source": [
    "get_top_labels_bulk(\n",
    "    l.copy()\n",
    ")"
   ]
  },
  {
   "cell_type": "code",
   "execution_count": 5,
   "metadata": {},
   "outputs": [
    {
     "data": {
      "text/plain": [
       "['best cat ear headphones', 'absxbvchbd', 'mercedes']"
      ]
     },
     "execution_count": 5,
     "metadata": {},
     "output_type": "execute_result"
    }
   ],
   "source": [
    "l"
   ]
  },
  {
   "cell_type": "code",
   "execution_count": 6,
   "metadata": {},
   "outputs": [
    {
     "data": {
      "text/plain": [
       "['best cat ear headphones', 'absxbvchbd', 'mercedes']"
      ]
     },
     "execution_count": 6,
     "metadata": {},
     "output_type": "execute_result"
    }
   ],
   "source": [
    "l"
   ]
  },
  {
   "cell_type": "code",
   "execution_count": 7,
   "metadata": {},
   "outputs": [
    {
     "data": {
      "text/plain": [
       "['best cat ear headphones Computers_and_Electronics',\n",
       " 'absxbvchbd Computers_and_Electronics',\n",
       " 'mercedes Autos_and_Vehicles']"
      ]
     },
     "execution_count": 7,
     "metadata": {},
     "output_type": "execute_result"
    }
   ],
   "source": [
    "get_top_labels_bulk_v2(\n",
    "l\n",
    ")"
   ]
  },
  {
   "cell_type": "code",
   "execution_count": 8,
   "metadata": {},
   "outputs": [],
   "source": [
    "import numpy as np"
   ]
  },
  {
   "cell_type": "code",
   "execution_count": 9,
   "metadata": {},
   "outputs": [],
   "source": [
    "def logit2prob(logit):\n",
    "    # odds =np.exp(logit)\n",
    "    # prob = odds / (1 + odds)\n",
    "    prob= 1/(1+ np.exp(-logit))\n",
    "    return np.round(prob, 3)\n"
   ]
  },
  {
   "cell_type": "code",
   "execution_count": 18,
   "metadata": {},
   "outputs": [
    {
     "data": {
      "text/plain": [
       "tensor([[0.0420, 0.0050, 0.0060, 0.0020, 0.0060, 0.0020, 0.0170, 1.0000, 0.0310,\n",
       "         0.0050, 0.0000, 0.0000, 0.0080, 0.1820, 0.0000, 0.0120, 0.0030, 0.0010,\n",
       "         0.0040, 0.0870, 0.0110, 0.0010, 0.0060, 0.0010, 0.0060, 0.0560, 0.0080],\n",
       "        [0.0280, 0.0000, 0.0000, 0.0000, 0.0110, 0.0000, 0.1210, 0.9880, 0.0010,\n",
       "         0.0020, 0.0000, 0.0000, 0.0000, 0.0030, 0.0000, 0.0020, 0.0030, 0.0010,\n",
       "         0.0050, 0.0030, 0.0050, 0.0000, 0.0080, 0.0010, 0.0130, 0.0030, 0.0050],\n",
       "        [0.0160, 0.0090, 0.0010, 1.0000, 0.0050, 0.0130, 0.0030, 0.1170, 0.0030,\n",
       "         0.0060, 0.0830, 0.0000, 0.0080, 0.0420, 0.0970, 0.0770, 0.0130, 0.0000,\n",
       "         0.1490, 0.0060, 0.0080, 0.0030, 0.0020, 0.0030, 0.0030, 0.0000, 0.0130]])"
      ]
     },
     "execution_count": 18,
     "metadata": {},
     "output_type": "execute_result"
    }
   ],
   "source": [
    "# logits"
   ]
  },
  {
   "cell_type": "code",
   "execution_count": 11,
   "metadata": {},
   "outputs": [
    {
     "data": {
      "text/plain": [
       "tensor([[0.0420, 0.0050, 0.0060, 0.0020, 0.0060, 0.0020, 0.0170, 1.0000, 0.0310,\n",
       "         0.0050, 0.0000, 0.0000, 0.0080, 0.1820, 0.0000, 0.0120, 0.0030, 0.0010,\n",
       "         0.0040, 0.0870, 0.0110, 0.0010, 0.0060, 0.0010, 0.0060, 0.0560, 0.0080],\n",
       "        [0.0280, 0.0000, 0.0000, 0.0000, 0.0110, 0.0000, 0.1210, 0.9880, 0.0010,\n",
       "         0.0020, 0.0000, 0.0000, 0.0000, 0.0030, 0.0000, 0.0020, 0.0030, 0.0010,\n",
       "         0.0050, 0.0030, 0.0050, 0.0000, 0.0080, 0.0010, 0.0130, 0.0030, 0.0050],\n",
       "        [0.0160, 0.0090, 0.0010, 1.0000, 0.0050, 0.0130, 0.0030, 0.1170, 0.0030,\n",
       "         0.0060, 0.0830, 0.0000, 0.0080, 0.0420, 0.0970, 0.0770, 0.0130, 0.0000,\n",
       "         0.1490, 0.0060, 0.0080, 0.0030, 0.0020, 0.0030, 0.0030, 0.0000, 0.0130]])"
      ]
     },
     "execution_count": 11,
     "metadata": {},
     "output_type": "execute_result"
    }
   ],
   "source": [
    "# logits= logit2prob(logits)\n",
    "# logits"
   ]
  },
  {
   "cell_type": "code",
   "execution_count": 19,
   "metadata": {},
   "outputs": [
    {
     "name": "stdout",
     "output_type": "stream",
     "text": [
      "tensor([0.0420, 0.0050, 0.0060, 0.0020, 0.0060, 0.0020, 0.0170, 1.0000, 0.0310,\n",
      "        0.0050, 0.0000, 0.0000, 0.0080, 0.1820, 0.0000, 0.0120, 0.0030, 0.0010,\n",
      "        0.0040, 0.0870, 0.0110, 0.0010, 0.0060, 0.0010, 0.0060, 0.0560, 0.0080])\n",
      "7\n",
      "\n",
      "tensor([0.0280, 0.0000, 0.0000, 0.0000, 0.0110, 0.0000, 0.1210, 0.9880, 0.0010,\n",
      "        0.0020, 0.0000, 0.0000, 0.0000, 0.0030, 0.0000, 0.0020, 0.0030, 0.0010,\n",
      "        0.0050, 0.0030, 0.0050, 0.0000, 0.0080, 0.0010, 0.0130, 0.0030, 0.0050])\n",
      "7\n",
      "\n",
      "tensor([0.0160, 0.0090, 0.0010, 1.0000, 0.0050, 0.0130, 0.0030, 0.1170, 0.0030,\n",
      "        0.0060, 0.0830, 0.0000, 0.0080, 0.0420, 0.0970, 0.0770, 0.0130, 0.0000,\n",
      "        0.1490, 0.0060, 0.0080, 0.0030, 0.0020, 0.0030, 0.0030, 0.0000, 0.0130])\n",
      "3\n",
      "\n"
     ]
    }
   ],
   "source": [
    "# for i in logits:\n",
    "#     print(i)\n",
    "#     print(\n",
    "#         i.argmax().item()\n",
    "#     )\n",
    "#     print()"
   ]
  },
  {
   "cell_type": "code",
   "execution_count": null,
   "metadata": {},
   "outputs": [],
   "source": []
  }
 ],
 "metadata": {
  "kernelspec": {
   "display_name": "venv",
   "language": "python",
   "name": "python3"
  },
  "language_info": {
   "codemirror_mode": {
    "name": "ipython",
    "version": 3
   },
   "file_extension": ".py",
   "mimetype": "text/x-python",
   "name": "python",
   "nbconvert_exporter": "python",
   "pygments_lexer": "ipython3",
   "version": "3.10.12"
  }
 },
 "nbformat": 4,
 "nbformat_minor": 2
}
