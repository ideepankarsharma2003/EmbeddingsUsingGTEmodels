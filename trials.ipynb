{
 "cells": [
  {
   "cell_type": "code",
   "execution_count": 13,
   "metadata": {},
   "outputs": [],
   "source": [
    "from sentence_transformers import SentenceTransformer, util\n",
    "model = SentenceTransformer('thenlper/gte-base')\n",
    "\n",
    "# Two lists of sentences\n",
    "sentences1 = ['cat']\n",
    "sentences2 = ['The cat sits outside',\n",
    "             'A man is playing guitar',\n",
    "             'The new movie is awesome']\n",
    "\n",
    "\n",
    "#Compute embedding for both lists\n",
    "\n",
    "\n",
    "# #Compute cosine-similarities\n",
    "# cosine_scores = util.cos_sim(embeddings1, embeddings2)\n",
    "\n",
    "# #Output the pairs with their score\n",
    "# for i in range(len(sentences1)):\n",
    "#     print(\"{} \\t\\t {} \\t\\t Score: {:.4f}\".format(sentences1[i], sentences2[i], cosine_scores[i][i]))"
   ]
  },
  {
   "cell_type": "code",
   "execution_count": 11,
   "metadata": {},
   "outputs": [],
   "source": [
    "embeddings1 = model.encode(sentences1, convert_to_tensor=True)\n",
    "embeddings2 = model.encode(sentences2, convert_to_tensor=True)"
   ]
  },
  {
   "cell_type": "code",
   "execution_count": 54,
   "metadata": {},
   "outputs": [],
   "source": [
    "main_entity = \"apple\"\n",
    "to_compare_entities = [\"apple imac\",\"apple newton\",\"banana\"]"
   ]
  },
  {
   "cell_type": "code",
   "execution_count": 55,
   "metadata": {},
   "outputs": [
    {
     "name": "stdout",
     "output_type": "stream",
     "text": [
      "Main Entities Shape:  torch.Size([768])\n",
      "Compare Entities Shape:  torch.Size([3, 768])\n"
     ]
    }
   ],
   "source": [
    "main_entity_embedding = model.encode(main_entity,convert_to_tensor=True)\n",
    "to_compare_entities_embedding = model.encode(to_compare_entities,convert_to_tensor=True)\n",
    "\n",
    "print(\"Main Entities Shape: \",main_entity_embedding.shape)\n",
    "print(\"Compare Entities Shape: \",to_compare_entities_embedding.shape)"
   ]
  },
  {
   "cell_type": "code",
   "execution_count": 60,
   "metadata": {},
   "outputs": [
    {
     "data": {
      "text/plain": [
       "[[0.89, 0.91, 0.8]]"
      ]
     },
     "execution_count": 60,
     "metadata": {},
     "output_type": "execute_result"
    }
   ],
   "source": [
    "similarity = util.cos_sim(main_entity_embedding,to_compare_entities_embedding)\n",
    "np.round(similarity.cpu().numpy().tolist(),2).tolist()"
   ]
  },
  {
   "cell_type": "code",
   "execution_count": 16,
   "metadata": {},
   "outputs": [],
   "source": [
    "import numpy as np"
   ]
  },
  {
   "cell_type": "code",
   "execution_count": 43,
   "metadata": {},
   "outputs": [
    {
     "name": "stdout",
     "output_type": "stream",
     "text": [
      "[[0.86, 0.7, 0.72], [0.75, 0.71, 0.73]]\n"
     ]
    }
   ],
   "source": [
    "\n",
    "req = util.cos_sim(embeddings1, embeddings2).cpu().numpy().tolist()\n",
    "# print(req)\n",
    "req = np.round(req,2).tolist()\n",
    "print(req)"
   ]
  },
  {
   "cell_type": "code",
   "execution_count": null,
   "metadata": {},
   "outputs": [],
   "source": []
  },
  {
   "cell_type": "code",
   "execution_count": 40,
   "metadata": {},
   "outputs": [
    {
     "data": {
      "text/plain": [
       "[[0.86, 0.7, 0.72], [0.75, 0.71, 0.73]]"
      ]
     },
     "execution_count": 40,
     "metadata": {},
     "output_type": "execute_result"
    }
   ],
   "source": [
    "np.round(l,2).tolist()"
   ]
  },
  {
   "cell_type": "code",
   "execution_count": null,
   "metadata": {},
   "outputs": [],
   "source": [
    "import torch.nn.functional as F\n",
    "from torch import Tensor\n",
    "from transformers import AutoTokenizer, AutoModel\n",
    "\n",
    "def average_pool(last_hidden_states: Tensor,\n",
    "                 attention_mask: Tensor) -> Tensor:\n",
    "    last_hidden = last_hidden_states.masked_fill(~attention_mask[..., None].bool(), 0.0)\n",
    "    return last_hidden.sum(dim=1) / attention_mask.sum(dim=1)[..., None]\n",
    "\n",
    "input_texts = [\n",
    "    \"what is the capital of China?\",\n",
    "    \"how to implement quick sort in python?\",\n",
    "    \"Beijing\",\n",
    "    \"sorting algorithms\"\n",
    "]\n",
    "\n",
    "tokenizer = AutoTokenizer.from_pretrained(\"thenlper/gte-base\")\n",
    "model = AutoModel.from_pretrained(\"thenlper/gte-base\")\n",
    "\n",
    "# Tokenize the input texts\n",
    "batch_dict = tokenizer(input_texts, max_length=512, padding=True, truncation=True, return_tensors='pt')\n",
    "\n",
    "outputs = model(**batch_dict)\n",
    "embeddings = average_pool(outputs.last_hidden_state, batch_dict['attention_mask'])\n",
    "\n",
    "# (Optionally) normalize embeddings\n",
    "embeddings = F.normalize(embeddings, p=2, dim=1)\n",
    "scores = (embeddings[:1] @ embeddings[1:].T) * 100\n",
    "print(scores.tolist())\n"
   ]
  },
  {
   "cell_type": "code",
   "execution_count": null,
   "metadata": {},
   "outputs": [],
   "source": [
    "s= \"\"\"['The cat sits outside',\n",
    "             'A man is playing guitar',\n",
    "             'The new movie is awesome']\"\"\"\n",
    "             \n",
    "# s= 'The cat sits outside'\n",
    "s"
   ]
  },
  {
   "cell_type": "code",
   "execution_count": null,
   "metadata": {},
   "outputs": [],
   "source": [
    "import re\n"
   ]
  },
  {
   "cell_type": "code",
   "execution_count": null,
   "metadata": {},
   "outputs": [],
   "source": [
    "\n",
    "\n",
    "pattern = r'[\\[\\]\\n\\t\"\\' ]'\n",
    "list_of_strings = re.sub(pattern=pattern, string=s)\n",
    "\n",
    "# Remove empty strings from the list\n",
    "# list_of_strings = [item for item in list_of_strings if item]\n",
    "\n",
    "print(list_of_strings)"
   ]
  },
  {
   "cell_type": "code",
   "execution_count": null,
   "metadata": {},
   "outputs": [],
   "source": []
  },
  {
   "cell_type": "code",
   "execution_count": null,
   "metadata": {},
   "outputs": [],
   "source": []
  },
  {
   "cell_type": "code",
   "execution_count": null,
   "metadata": {},
   "outputs": [],
   "source": []
  },
  {
   "cell_type": "code",
   "execution_count": null,
   "metadata": {},
   "outputs": [],
   "source": []
  },
  {
   "cell_type": "code",
   "execution_count": null,
   "metadata": {},
   "outputs": [],
   "source": []
  },
  {
   "cell_type": "code",
   "execution_count": null,
   "metadata": {},
   "outputs": [],
   "source": [
    "s= [\n",
    "    'https://fastapi.tiangolo.com/tutorial/request-forms-and-files/',\n",
    "    'https://fastapi.tiangolo.com/tutorial/request-forms-and-files/',\n",
    "    'https://fastapi.tiangolo.com/tutorial/request-forms-and-files/',\n",
    "    'https://fastapi.tiangolo.com/tutorial/request-forms-and-files/',\n",
    "    'https://fastapi.tiangolo.com/tutorial/request-forms-and-files/',\n",
    "    'https://fastapi.tiangolo.com/tutorial/request-forms-and-files/',\n",
    "    'https://fastapi.tiangolo.com/tutorial/request-forms-and-files/',\n",
    "    'https://fastapi.tiangolo.com/tutorial/request-forms-and-files/',\n",
    "    'https://fastapi.tiangolo.com/tutorial/request-forms-and-files/',\n",
    "    'https://fastapi.tiangolo.com/tutorial/request-forms-and-files/',\n",
    "]*10000"
   ]
  },
  {
   "cell_type": "code",
   "execution_count": null,
   "metadata": {},
   "outputs": [],
   "source": [
    "s= str(s)"
   ]
  },
  {
   "cell_type": "code",
   "execution_count": null,
   "metadata": {},
   "outputs": [],
   "source": [
    "len(s)"
   ]
  },
  {
   "cell_type": "code",
   "execution_count": null,
   "metadata": {},
   "outputs": [],
   "source": [
    "s= s.replace('[', '')\n",
    "s= s.replace(']', '')\n",
    "s= s.replace('\\n', '')\n",
    "s= s.replace('\\t', '')\n",
    "s= s.replace('  ', '')\n",
    "s= s.replace('\"', '')\n",
    "s= s.replace(\"'\", '')\n",
    "\n",
    "s"
   ]
  },
  {
   "cell_type": "code",
   "execution_count": null,
   "metadata": {},
   "outputs": [],
   "source": [
    "list_of_strings= s.split(',')\n",
    "\n"
   ]
  },
  {
   "cell_type": "code",
   "execution_count": null,
   "metadata": {},
   "outputs": [],
   "source": [
    "list_of_strings"
   ]
  },
  {
   "cell_type": "code",
   "execution_count": null,
   "metadata": {},
   "outputs": [],
   "source": [
    "# embeddings1 = model.encode(list_of_strings, convert_to_tensor=True)\n",
    "embeddings1 = model.encode(s, convert_to_tensor=True)\n"
   ]
  },
  {
   "cell_type": "code",
   "execution_count": null,
   "metadata": {},
   "outputs": [],
   "source": [
    "embeddings1.shape"
   ]
  },
  {
   "cell_type": "code",
   "execution_count": null,
   "metadata": {},
   "outputs": [],
   "source": [
    "s1= [\n",
    "    'redit.com amazon.in'\n",
    "    , ''\n",
    "]"
   ]
  },
  {
   "cell_type": "code",
   "execution_count": null,
   "metadata": {},
   "outputs": [],
   "source": []
  },
  {
   "cell_type": "code",
   "execution_count": null,
   "metadata": {},
   "outputs": [],
   "source": []
  },
  {
   "cell_type": "code",
   "execution_count": null,
   "metadata": {},
   "outputs": [],
   "source": []
  },
  {
   "cell_type": "code",
   "execution_count": null,
   "metadata": {},
   "outputs": [],
   "source": []
  },
  {
   "cell_type": "code",
   "execution_count": null,
   "metadata": {},
   "outputs": [],
   "source": []
  },
  {
   "cell_type": "code",
   "execution_count": null,
   "metadata": {},
   "outputs": [],
   "source": []
  },
  {
   "cell_type": "code",
   "execution_count": null,
   "metadata": {},
   "outputs": [],
   "source": []
  },
  {
   "cell_type": "code",
   "execution_count": null,
   "metadata": {},
   "outputs": [],
   "source": [
    "list_of_strings= s.split(',')\n",
    "list_of_strings"
   ]
  },
  {
   "cell_type": "code",
   "execution_count": null,
   "metadata": {},
   "outputs": [],
   "source": [
    "s1= \"This is great\"\n",
    "s2= \"This is amazing \"\n",
    "\n",
    "embeddings1 = model.encode(s1, convert_to_tensor=True)\n",
    "embeddings2 = model.encode(s2, convert_to_tensor=True)\n",
    "\n",
    "#Compute cosine-similarities\n",
    "cosine_scores = util.cos_sim(embeddings1, embeddings2)\n"
   ]
  },
  {
   "cell_type": "code",
   "execution_count": null,
   "metadata": {},
   "outputs": [],
   "source": [
    "cosine_scores"
   ]
  },
  {
   "cell_type": "code",
   "execution_count": null,
   "metadata": {},
   "outputs": [],
   "source": [
    "type(cosine_scores[0][0].item())\n",
    "(cosine_scores[0][0].item())"
   ]
  },
  {
   "cell_type": "code",
   "execution_count": null,
   "metadata": {},
   "outputs": [],
   "source": []
  },
  {
   "cell_type": "code",
   "execution_count": null,
   "metadata": {},
   "outputs": [],
   "source": []
  },
  {
   "cell_type": "code",
   "execution_count": null,
   "metadata": {},
   "outputs": [],
   "source": [
    "from fastapi.responses import  Response"
   ]
  },
  {
   "cell_type": "code",
   "execution_count": null,
   "metadata": {},
   "outputs": [],
   "source": [
    "from main import generate_base_embeddings"
   ]
  },
  {
   "cell_type": "code",
   "execution_count": null,
   "metadata": {},
   "outputs": [],
   "source": [
    "x= (generate_base_embeddings([\"Hello World\", \"Hello Kafrnabdbg\"]))"
   ]
  },
  {
   "cell_type": "code",
   "execution_count": null,
   "metadata": {},
   "outputs": [],
   "source": [
    "x.shape"
   ]
  },
  {
   "cell_type": "code",
   "execution_count": null,
   "metadata": {},
   "outputs": [],
   "source": []
  },
  {
   "cell_type": "code",
   "execution_count": null,
   "metadata": {},
   "outputs": [],
   "source": [
    "import json\n",
    "json.dumps(x.tolist())"
   ]
  },
  {
   "cell_type": "code",
   "execution_count": null,
   "metadata": {},
   "outputs": [],
   "source": [
    "Response((x.tolist()))"
   ]
  },
  {
   "cell_type": "code",
   "execution_count": null,
   "metadata": {},
   "outputs": [],
   "source": [
    "['a', 'b']*2"
   ]
  },
  {
   "cell_type": "code",
   "execution_count": null,
   "metadata": {},
   "outputs": [],
   "source": []
  },
  {
   "cell_type": "markdown",
   "metadata": {},
   "source": [
    "# Comparing Against the OpenAI embeddings"
   ]
  },
  {
   "cell_type": "code",
   "execution_count": null,
   "metadata": {},
   "outputs": [],
   "source": [
    "s1 = \"\"\"reddit com r girlgamers comments vyk9wf good well functioning cat ear headphone reddit com r headphones comments xxkyo5 are there any audiophilegrade headphones with cat reddit com r girlgamers comments d3m8w2 are those cute cat ear headsets worth it reddit com r girlgamers comments ma5zku best headset with cat ears or otherwise reddit com r headphoneadvice comments 11jyizb are yowu cat ear headphones worth it reddit com r girlgamers comments geqmpa are cat ear headphones cringey reddit com r headphones comments z37z09 got the yowu cat ear headphones theyre so cute lol reddit com r headphoneadvice comments zv94g5 looking for a good pair of cat ear headphones reddit com r girlgamers comments 12zb9ya suggestions for good bluetooth cat ear headphones reddit com r girlgamers comments k9dvj3 looking for quality cat headphones reddit com r girlgamers comments hixbe4 does anyone have any cat ear headphone reddit com r transytalk comments k5x5l6 does anyone know where to buy good quality cat reddit com r headphoneadvice comments vzfrdx cat ear headphones for work reddit com r headphones comments o467tj cat ear hd600s reddit com r headphones comments 10ov059 how can i remove the cat ears from my headset reddit com r girlgamers comments i1m8s8 whats the best kittyear gaming headset reddit com r headphones comments 13gb3ui turning off the lights on rgb cat ear headphones reddit com r girlgamers comments r05x4g razer kraken kitty headset is it worth it reddit com r girlgamers comments moldxv catear headphones that are overear reddit com r headphones comments 9ybdlk i am embarrassed i am asking this but reddit com r headphones comments o04onc welp you asked for it cat ear hd800 reddit com r girlgamers comments humhwf bought some cat ears for my headset adds a cute reddit com r headphones comments op4uvb cat ears make everything better reddit com r girlgamers comments 2itw7n cat ear headphones yes please reddit com r girlgamers comments qp9lva where to get kitty gaming headset for ps4 reddit com r headphones comments 64h1fw cat ear headphones reddit com r girlgamers comments ggyqi6 i keep seeing headphones with cat ears decided to reddit com r gadgets comments 451xz3 axent wears cat ear headphones are the stuff of reddit com r unpopularopinion comments aao6iu headphones with cat ears are dumb and childish reddit com r unpopularopinion comments ipkdp2 gaming headphones with cat ears are dumb pngtree com so over ear headphones reddit pinterest com pin ryujin 472174342183380593 nytimes com wirecutter reviews best headphones techthelead com here are the best cat ear headphones in 2022 hollywoodreporter com lifestyle style ariana grande launches cat ear 931162 headphonesproreview com best cat ear headphones amazon com somic detachable headphones lightweight self adjusting product reviews b07jz2z588 head fi org threads the discovery thread 586909 page 5662 redditfavorites com product categories on ear headphones page 2 indiegogo com projects axent wear cat ear headphones nbcnews com select shopping best home teeth whitening products ncna1253852 nexusmods com residentevil42023 mods 1623 whathifi com reviews sony wf c700n buzzfeed com mjs538 random things millennials forgot about currys co uk services webchat html pcmag com picks the best gaming headphones youtube com watch v bbzpnmrhmlk nsfw xxx post asian 3062291 page 1 hereplus me top 10 best cat ear headphones audioreputation com cat ear headphones\"\"\"\n",
    "s2 = \"\"\"takealot com cat ear headset plid72188364 takealot com wireless cat ear headphones plid73138874 snatcher co za rgb cat ear headphones za shein com cat ear bluetooth headphone p 2359922 cat 3305 html soundtech co za zw 028 wireless headphones cat ear html game4u co za product cat ear wireless headphones blue bt028c zando co za anzel cat ear wireless headphones pink 240086 html wantitall co za brands cat ears electronics p1 bobshop co za item 483763251 headphones w27 cat ear wireless bluetooth html syntronics co za products buy vzv 23m cat ear wireless bluetooth headphones south africa evetech co za razer kitty ears for kraken headset green best deal 3691 aspx desertcart co za products 154912552 mix style nekomimi headphones cat ear headphones star black pink ubuy za com product cm77f10 mindkoo wireless headphones bluetooth led light up 7 color blinking cat ear over ear on ear safe fol etsy com market cat ears for headset facebook com marketplace 113328482026040 kids headphones mimineko co target com s purple cat ear headphones mrp com en us novelty headphones 1731210583 ptcshop com au products stn wireless headphones cat ear bluetooth over ear kids headsets pink clasf co za kids cat ear headphones rechargeable led lights usb in south africa 2938728 bash com technology audio 2626 hi map category 1 category 2 productclusterids store storefrontctx hi pinterest com pin 772930354801822142 game co za l c g2041 skullcandy com shop headphones ebay com itm 145178800720 audicoonline co za headphones sunsky online com p sya00833501b bt028c cute cat ear bluetooth 5 0 headphones foldable on ear stereo wireless headset headphone with mic led light fm radio tf card pink htm amazon com headphone foldable earphone compatible computer dp b07c5hxxpb loot co za search offset 0 vprice min vprice max 2fsearch 3fcat iqs cat jrn sort sales he aliexpress com item 32951606833 html fcc report fcc id 2awhsbt0191 5224504 pdf hocotech com selfridges com tw en cat razer blackshark v2 pro wireless headset 2023 r04215913 claires com nytimes com wirecutter reviews best travel plug adapter rayconglobal com us coca cola com cokestudio madcatz com en product detail 44 theverge com 23310395 samsung galaxy watch 5 review smartwatch wear os 3 mvmt com cloudways com blog best dropshipping products headphonesty com 2018 11 best cat ear headphones jumia com ng generic cat ear headphones led lights earphone wmicrophone for kids pink 88650177 html behringer com buy weareteachers com weird fun facts tiktok com discover does a34 5g support wireless charging mpcdd angegossen de oneplus in oneplus buds z wealthofgeeks com manage adhd while traveling forwardivertech co za products new arrival led cat ear noise cancelling headphones bluetooth 5 0 young people kids headset support tf card 3 5mm plug with mic cnn com cnn underscored reviews best kids headphones ozchvq fussball wm fanshop de lokerindonesia link 1125220 botekno online 577866 the 7 best headphones for kids malibushirts com http flowhamster news gi5aqux htm\"\"\""
   ]
  },
  {
   "cell_type": "code",
   "execution_count": null,
   "metadata": {},
   "outputs": [],
   "source": [
    "s1= [\n",
    "        'reddit.com reddit.com reddit.com reddit.com reddit.com reddit.com reddit.com reddit.com reddit.com reddit.com reddit.com reddit.com reddit.com reddit.com reddit.com reddit.com reddit.com reddit.com reddit.com reddit.com reddit.com reddit.com reddit.com reddit.com reddit.com reddit.com reddit.com reddit.com reddit.com reddit.com pngtree.com pinterest.com nytimes.com techthelead.com hollywoodreporter.com headphonesproreview.com amazon.com head-fi.org redditfavorites.com indiegogo.com nbcnews.com nexusmods.com whathifi.com buzzfeed.com currys.co.uk pcmag.com youtube.com nsfw.xxx hereplus.me audioreputation.com ', \n",
    "        \n",
    "        'r girlgamers comments vyk9wf good well functioning cat ear headphone r headphones comments xxkyo5 are there any audiophilegrade headphones with cat r girlgamers comments d3m8w2 are those cute cat ear headsets worth it r girlgamers comments ma5zku best headset with cat ears or otherwise r headphoneadvice comments 11jyizb are yowu cat ear headphones worth it r girlgamers comments geqmpa are cat ear headphones cringey r headphones comments z37z09 got the yowu cat ear headphones theyre so cute lol r headphoneadvice comments zv94g5 looking for a good pair of cat ear headphones r girlgamers comments 12zb9ya suggestions for good bluetooth cat ear headphones r girlgamers comments k9dvj3 looking for quality cat headphones r girlgamers comments hixbe4 does anyone have any cat ear headphone r transytalk comments k5x5l6 does anyone know where to buy good quality cat r headphoneadvice comments vzfrdx cat ear headphones for work r headphones comments o467tj cat ear hd600s r headphones comments 10ov059 how can i remove the cat ears from my headset r girlgamers comments i1m8s8 whats the best kittyear gaming headset r headphones comments 13gb3ui turning off the lights on rgb cat ear headphones r girlgamers comments r05x4g razer kraken kitty headset is it worth it r girlgamers comments moldxv catear headphones that are overear r headphones comments 9ybdlk i am embarrassed i am asking this but r headphones comments o04onc welp you asked for it cat ear hd800 r girlgamers comments humhwf bought some cat ears for my headset adds a cute r headphones comments op4uvb cat ears make everything better r girlgamers comments 2itw7n cat ear headphones yes please r girlgamers comments qp9lva where to get kitty gaming headset for ps4 r headphones comments 64h1fw cat ear headphones r girlgamers comments ggyqi6 i keep seeing headphones with cat ears decided to r gadgets comments 451xz3 axent wears cat ear headphones are the stuff of r unpopularopinion comments aao6iu headphones with cat ears are dumb and childish r unpopularopinion comments ipkdp2 gaming headphones with cat ears are dumb so over ear headphones reddit pin ryujin 472174342183380593 wirecutter reviews best headphones here are the best cat ear headphones in 2022 lifestyle style ariana grande launches cat ear 931162 best cat ear headphones somic detachable headphones lightweight self adjusting product reviews b07jz2z588 threads the discovery thread 586909 page 5662 product categories on ear headphones page 2 projects axent wear cat ear headphones select shopping best home teeth whitening products ncna1253852 residentevil42023 mods 1623 reviews sony wf c700n mjs538 random things millennials forgot about services webchat html picks the best gaming headphones watch v bbzpnmrhmlk post asian 3062291 page 1 top 10 best cat ear headphones cat ear headphones '\n",
    "    ]\n",
    "s2= [\n",
    "    \n",
    "        'takealot.com takealot.com snatcher.co.za za.shein.com soundtech.co.za game4u.co.za zando.co.za wantitall.co.za bobshop.co.za syntronics.co.za evetech.co.za desertcart.co.za ubuy.za.com etsy.com facebook.com mimineko.co target.com mrp.com ptcshop.com.au clasf.co.za bash.com pinterest.com game.co.za skullcandy.com ebay.com audicoonline.co.za sunsky-online.com amazon.com loot.co.za he.aliexpress.com fcc.report hocotech.com selfridges.com claires.com nytimes.com rayconglobal.com us.coca-cola.com madcatz.com theverge.com mvmt.com cloudways.com headphonesty.com jumia.com.ng behringer.com weareteachers.com tiktok.com mpcdd.angegossen.de oneplus.in wealthofgeeks.com forwardivertech.co.za cnn.com ozchvq.fussball-wm-fanshop.de lokerindonesia.link botekno.online malibushirts.com ',\n",
    "        \n",
    "        'cat ear headset plid72188364 wireless cat ear headphones plid73138874 rgb cat ear headphones cat ear bluetooth headphone p 2359922 cat 3305 html zw 028 wireless headphones cat ear html product cat ear wireless headphones blue bt028c anzel cat ear wireless headphones pink 240086 html brands cat ears electronics p1 item 483763251 headphones w27 cat ear wireless bluetooth html products buy vzv 23m cat ear wireless bluetooth headphones south africa razer kitty ears for kraken headset green best deal 3691 aspx products 154912552 mix style nekomimi headphones cat ear headphones star black pink product cm77f10 mindkoo wireless headphones bluetooth led light up 7 color blinking cat ear over ear on ear safe fol market cat ears for headset marketplace 113328482026040 kids headphones  s purple cat ear headphones en us novelty headphones 1731210583 products stn wireless headphones cat ear bluetooth over ear kids headsets pink kids cat ear headphones rechargeable led lights usb in south africa 2938728 technology audio 2626 hi map category 1 category 2 productclusterids store storefrontctx hi pin 772930354801822142 l c g2041 shop headphones itm 145178800720 headphones p sya00833501b bt028c cute cat ear bluetooth 5 0 headphones foldable on ear stereo wireless headset headphone with mic led light fm radio tf card pink htm headphone foldable earphone compatible computer dp b07c5hxxpb search offset 0 vprice min vprice max 2fsearch 3fcat iqs cat jrn sort sales item 32951606833 html fcc id 2awhsbt0191 5224504 pdf  tw en cat razer blackshark v2 pro wireless headset 2023 r04215913  wirecutter reviews best travel plug adapter  cokestudio en product detail 44 23310395 samsung galaxy watch 5 review smartwatch wear os 3  blog best dropshipping products 2018 11 best cat ear headphones generic cat ear headphones led lights earphone wmicrophone for kids pink 88650177 html buy weird fun facts discover does a34 5g support wireless charging  oneplus buds z manage adhd while traveling products new arrival led cat ear noise cancelling headphones bluetooth 5 0 young people kids headset support tf card 3 5mm plug with mic cnn underscored reviews best kids headphones  1125220 577866 the 7 best headphones for kids http flowhamster news gi5aqux htm '\n",
    "        \n",
    "    ]"
   ]
  },
  {
   "cell_type": "code",
   "execution_count": null,
   "metadata": {},
   "outputs": [],
   "source": [
    "s1= 'takealot.com/cat-ear-headset/PLID72188364  takealot.com/wireless-cat-ear-headphones/PLID73138874  snatcher.co.za/rgb-cat-ear-headphones/  za.shein.com/Cat-Ear-Bluetooth-Headphone-p-2359922-cat-3305.html  soundtech.co.za/zw-028-wireless-headphones-cat-ear.html  game4u.co.za/product/cat-ear-wireless-headphones-blue-bt028c/  zando.co.za/anzel-cat-ear-wireless-headphones-pink-240086.html  wantitall.co.za/brands/cat-ears/electronics/p1  bobshop.co.za/item/483763251/Headphones_W27_Cat_Ear_Wireless_Bluetooth.html  syntronics.co.za/products/buy-vzv-23m-cat-ear-wireless-bluetooth-headphones-south-africa  evetech.co.za/razer-kitty-ears-for-kraken-headset-green/best-deal/3691.aspx  desertcart.co.za/products/154912552-mix-style-nekomimi-headphones-cat-ear-headphones-star-black-pink  ubuy.za.com/product/CM77F10-mindkoo-wireless-headphones-bluetooth-led-light-up-7-color-blinking-cat-ear-over-ear-on-ear-safe-fol  etsy.com/market/cat_ears_for_headset  facebook.com/marketplace/113328482026040/kids-headphones/  mimineko.co/  target.com/s/purple+cat+ear+headphones  mrp.com/en_us/novelty-headphones-1731210583  ptcshop.com.au/products/stn-wireless-headphones-cat-ear-bluetooth-over-ear-kids-headsets-pink  clasf.co.za/kids-cat-ear-headphones-rechargeable-led-lights-usb-in-south-africa-2938728/  bash.com/technology/audio/2626/hi map=category-1,category-2,productClusterIds,store&storefrontCtx=hi pinterest.com/pin/772930354801822142/  game.co.za/l/c/G2041  skullcandy.com/shop/headphones/  ebay.com/itm/145178800720  audicoonline.co.za/headphones  sunsky-online.com/p/SYA00833501B/BT028C-Cute-Cat-Ear-Bluetooth-5.0-Headphones-Foldable-On-Ear-Stereo-Wireless-Headset-Headphone-with-Mic-LED-Light-FM-Radio-TF-Card-Pink-.htm  amazon.com/Headphone-Foldable-Earphone-Compatible-Computer/dp/B07C5HXXPB  loot.co.za/search offset=0&vprice_min=&vprice_max=&%2Fsearch%3Fcat=iqs&cat=jrn&sort=-sales he.aliexpress.com/item/32951606833.html  fcc.report/FCC-ID/2AWHSBT0191/5224504.pdf  hocotech.com/  selfridges.com/TW/en/cat/razer-blackshark-v2-pro-wireless-headset-2023_R04215913/  claires.com/  nytimes.com/wirecutter/reviews/best-travel-plug-adapter/  rayconglobal.com/  us.coca-cola.com/cokestudio  madcatz.com/En/Product/Detail/44  theverge.com/23310395/samsung-galaxy-watch-5-review-smartwatch-wear-os-3  mvmt.com/  cloudways.com/blog/best-dropshipping-products/  headphonesty.com/2018/11/best-cat-ear-headphones/  jumia.com.ng/generic-cat-ear-headphones-led-lights-earphone-wmicrophone-for-kids-pink-88650177.html  behringer.com/buy  weareteachers.com/weird-fun-facts/  tiktok.com/discover/does-A34-5g-support-wireless-charging  mpcdd.angegossen.de/  oneplus.in/oneplus-buds-z  wealthofgeeks.com/manage-adhd-while-traveling/  forwardivertech.co.za/products/new-arrival-led-cat-ear-noise-cancelling-headphones-bluetooth-5-0-young-people-kids-headset-support-tf-card-3-5mm-plug-with-mic  cnn.com/cnn-underscored/reviews/best-kids-headphones  ozchvq.fussball-wm-fanshop.de/  lokerindonesia.link/1125220  botekno.online/577866-the-7-best-headphones-for-kids  malibushirts.com/http://flowhamster.news/gi5aqux.htm'\n",
    "\n",
    "s2= 'reddit.com/r/GirlGamers/comments/vyk9wf/good_well_functioning_cat_ear_headphone/  reddit.com/r/headphones/comments/xxkyo5/are_there_any_audiophilegrade_headphones_with_cat/  reddit.com/r/GirlGamers/comments/d3m8w2/are_those_cute_cat_ear_headsets_worth_it/  reddit.com/r/GirlGamers/comments/ma5zku/best_headset_with_cat_ears_or_otherwise/  reddit.com/r/HeadphoneAdvice/comments/11jyizb/are_yowu_cat_ear_headphones_worth_it/  reddit.com/r/GirlGamers/comments/geqmpa/are_cat_ear_headphones_cringey/  reddit.com/r/headphones/comments/z37z09/got_the_yowu_cat_ear_headphones_theyre_so_cute_lol/  reddit.com/r/HeadphoneAdvice/comments/zv94g5/looking_for_a_good_pair_of_cat_ear_headphones/  reddit.com/r/GirlGamers/comments/12zb9ya/suggestions_for_good_bluetooth_cat_ear_headphones/  reddit.com/r/GirlGamers/comments/k9dvj3/looking_for_quality_cat_headphones/  reddit.com/r/GirlGamers/comments/hixbe4/does_anyone_have_any_cat_ear_headphone/  reddit.com/r/TransyTalk/comments/k5x5l6/does_anyone_know_where_to_buy_good_quality_cat/  reddit.com/r/HeadphoneAdvice/comments/vzfrdx/cat_ear_headphones_for_work/  reddit.com/r/headphones/comments/o467tj/cat_ear_hd600s/  reddit.com/r/headphones/comments/10ov059/how_can_i_remove_the_cat_ears_from_my_headset/  reddit.com/r/GirlGamers/comments/i1m8s8/whats_the_best_kittyear_gaming_headset/  reddit.com/r/headphones/comments/13gb3ui/turning_off_the_lights_on_rgb_cat_ear_headphones/  reddit.com/r/GirlGamers/comments/r05x4g/razer_kraken_kitty_headset_is_it_worth_it/  reddit.com/r/GirlGamers/comments/moldxv/catear_headphones_that_are_overear/  reddit.com/r/headphones/comments/9ybdlk/i_am_embarrassed_i_am_asking_this_but/  reddit.com/r/headphones/comments/o04onc/welp_you_asked_for_it_cat_ear_hd800/  reddit.com/r/GirlGamers/comments/humhwf/bought_some_cat_ears_for_my_headset_adds_a_cute/  reddit.com/r/headphones/comments/op4uvb/cat_ears_make_everything_better/  reddit.com/r/GirlGamers/comments/2itw7n/cat_ear_headphones_yes_please/  reddit.com/r/GirlGamers/comments/qp9lva/where_to_get_kitty_gaming_headset_for_ps4/  reddit.com/r/headphones/comments/64h1fw/cat_ear_headphones/  reddit.com/r/GirlGamers/comments/ggyqi6/i_keep_seeing_headphones_with_cat_ears_decided_to/  reddit.com/r/gadgets/comments/451xz3/axent_wears_cat_ear_headphones_are_the_stuff_of/  reddit.com/r/unpopularopinion/comments/aao6iu/headphones_with_cat_ears_are_dumb_and_childish/  reddit.com/r/unpopularopinion/comments/ipkdp2/gaming_headphones_with_cat_ears_are_dumb/  pngtree.com/so/over-ear-headphones-reddit/  pinterest.com/pin/ryujin--472174342183380593/  nytimes.com/wirecutter/reviews/best-headphones/  techthelead.com/here-are-the-best-cat-ear-headphones-in-2022/  hollywoodreporter.com/lifestyle/style/ariana-grande-launches-cat-ear-931162/  headphonesproreview.com/best-cat-ear-headphones/  amazon.com/SOMIC-Detachable-Headphones-Lightweight-Self-Adjusting/product-reviews/B07JZ2Z588  head-fi.org/threads/the-discovery-thread.586909/page-5662  redditfavorites.com/product_categories/on-ear-headphones page=2 indiegogo.com/projects/axent-wear-cat-ear-headphones  nbcnews.com/select/shopping/best-home-teeth-whitening-products-ncna1253852  nexusmods.com/residentevil42023/mods/1623  whathifi.com/reviews/sony-wf-c700n  buzzfeed.com/mjs538/random-things-millennials-forgot-about  currys.co.uk/services/webchat.html  pcmag.com/picks/the-best-gaming-headphones  youtube.com/watch v=BBzpNMrHmLk nsfw.xxx/post/asian-3062291 page=1 hereplus.me/top-10-best-cat-ear-headphones/  audioreputation.com/cat-ear-headphones/'"
   ]
  },
  {
   "cell_type": "code",
   "execution_count": null,
   "metadata": {},
   "outputs": [],
   "source": [
    "from sentence_transformers import SentenceTransformer, util\n",
    "model = SentenceTransformer('thenlper/gte-base')\n"
   ]
  },
  {
   "cell_type": "code",
   "execution_count": null,
   "metadata": {},
   "outputs": [],
   "source": [
    "model.max_seq_lengtha= 1024"
   ]
  },
  {
   "cell_type": "code",
   "execution_count": null,
   "metadata": {},
   "outputs": [],
   "source": [
    "model.max_seq_length"
   ]
  },
  {
   "cell_type": "code",
   "execution_count": null,
   "metadata": {},
   "outputs": [],
   "source": [
    "embeddings1 = model.encode(s1, convert_to_tensor=True)\n",
    "embeddings2 = model.encode(s2, convert_to_tensor=True)\n",
    "\n",
    "print(embeddings1.shape)\n",
    "print(embeddings2.shape)\n",
    "\n",
    "# a= util.cos_sim(embeddings1[0], embeddings2[0])*0.95\n",
    "# b= util.cos_sim(embeddings1[1], embeddings2[1])*0.99999\n",
    "\n",
    "# print(a, b)\n",
    "\n",
    "# (a+b)/2\n",
    "\n",
    "util.cos_sim(embeddings1, embeddings2)"
   ]
  },
  {
   "cell_type": "code",
   "execution_count": null,
   "metadata": {},
   "outputs": [],
   "source": [
    "from sentence_transformers import SentenceTransformer, util\n",
    "model = SentenceTransformer('thenlper/gte-large')\n"
   ]
  },
  {
   "cell_type": "code",
   "execution_count": null,
   "metadata": {},
   "outputs": [],
   "source": [
    "embeddings1 = model.encode(s1, convert_to_tensor=True)\n",
    "embeddings2 = model.encode(s2, convert_to_tensor=True)\n",
    "\n",
    "print(embeddings1.shape)\n",
    "print(embeddings2.shape)\n",
    "\n",
    "util.cos_sim(embeddings1, embeddings2)"
   ]
  },
  {
   "cell_type": "code",
   "execution_count": null,
   "metadata": {},
   "outputs": [],
   "source": [
    "import torch.nn.functional as F\n",
    "from torch import Tensor\n",
    "from transformers import AutoTokenizer, AutoModel\n",
    "\n",
    "def average_pool(last_hidden_states: Tensor,\n",
    "                 attention_mask: Tensor) -> Tensor:\n",
    "    last_hidden = last_hidden_states.masked_fill(~attention_mask[..., None].bool(), 0.0)\n",
    "    return last_hidden.sum(dim=1) / attention_mask.sum(dim=1)[..., None]\n",
    "\n",
    "\n",
    "\n",
    "tokenizer = AutoTokenizer.from_pretrained(\"thenlper/gte-large\", rope_scaling={\"type\": \"dynamic\", \"factor\": 4})\n",
    "model = AutoModel.from_pretrained(\"thenlper/gte-large\")\n",
    "\n",
    "\n"
   ]
  },
  {
   "cell_type": "code",
   "execution_count": null,
   "metadata": {},
   "outputs": [],
   "source": [
    "input_texts= [s1, s2]\n",
    "input_texts"
   ]
  },
  {
   "cell_type": "code",
   "execution_count": null,
   "metadata": {},
   "outputs": [],
   "source": [
    "512*2"
   ]
  },
  {
   "cell_type": "code",
   "execution_count": null,
   "metadata": {},
   "outputs": [],
   "source": [
    "batch_dict = tokenizer(input_texts, max_length=1441 , padding=True,truncation=True, return_tensors='pt')\n"
   ]
  },
  {
   "cell_type": "code",
   "execution_count": null,
   "metadata": {},
   "outputs": [],
   "source": [
    "(batch_dict.keys())\n",
    "\n",
    "batch_dict['input_ids'].shape"
   ]
  },
  {
   "cell_type": "code",
   "execution_count": null,
   "metadata": {},
   "outputs": [],
   "source": [
    "outputs= model(**batch_dict)"
   ]
  },
  {
   "cell_type": "code",
   "execution_count": null,
   "metadata": {},
   "outputs": [],
   "source": [
    "# Tokenize the input texts\n",
    "batch_dict = tokenizer(input_texts, max_length=512, padding=True, truncation=True, return_tensors='pt')\n",
    "\n",
    "outputs = model(**batch_dict)\n",
    "embeddings = average_pool(outputs.last_hidden_state, batch_dict['attention_mask'])\n",
    "\n",
    "# (Optionally) normalize embeddings\n",
    "embeddings = F.normalize(embeddings, p=2, dim=1)\n",
    "scores = (embeddings[:1] @ embeddings[1:].T) * 100\n",
    "print(scores.tolist())"
   ]
  },
  {
   "cell_type": "code",
   "execution_count": 1,
   "metadata": {},
   "outputs": [
    {
     "name": "stdout",
     "output_type": "stream",
     "text": [
      "Updated git hooks.\n",
      "Git LFS initialized.\n",
      "Cloning into 'e5-large-v2-4096'...\n"
     ]
    },
    {
     "name": "stdout",
     "output_type": "stream",
     "text": [
      "remote: Enumerating objects: 29, done.\u001b[K\n",
      "remote: Counting objects: 100% (6/6), done.\u001b[K\n",
      "remote: Compressing objects: 100% (6/6), done.\u001b[K\n",
      "remote: Total 29 (delta 2), reused 0 (delta 0), pack-reused 23\u001b[K\n",
      "Unpacking objects: 100% (29/29), 325.31 KiB | 2.31 MiB/s, done.\n"
     ]
    }
   ],
   "source": [
    "!git lfs install\n",
    "!git clone https://huggingface.co/efederici/e5-large-v2-4096"
   ]
  },
  {
   "cell_type": "code",
   "execution_count": null,
   "metadata": {},
   "outputs": [],
   "source": []
  },
  {
   "cell_type": "markdown",
   "metadata": {},
   "source": [
    "# pipelining of 2 models"
   ]
  },
  {
   "cell_type": "code",
   "execution_count": null,
   "metadata": {},
   "outputs": [],
   "source": [
    "from sentence_transformers import SentenceTransformer\n"
   ]
  },
  {
   "cell_type": "code",
   "execution_count": null,
   "metadata": {},
   "outputs": [],
   "source": [
    "import os\n",
    "os.chdir('..')\n",
    "%pwd"
   ]
  },
  {
   "cell_type": "code",
   "execution_count": null,
   "metadata": {},
   "outputs": [],
   "source": [
    "model2 = SentenceTransformer('/home/ubuntu/embedding/gte-base')\n",
    "# model1 = SentenceTransformer(\"bigscience/sgpt-bloom-7b1-msmarco\")\n"
   ]
  },
  {
   "cell_type": "code",
   "execution_count": null,
   "metadata": {},
   "outputs": [],
   "source": [
    "# model2.max_seq_length= 4096\n",
    "model2.max_seq_length"
   ]
  },
  {
   "cell_type": "code",
   "execution_count": null,
   "metadata": {},
   "outputs": [],
   "source": [
    "s1 = \"\"\"reddit com r girlgamers comments vyk9wf good well functioning cat ear headphone reddit com r headphones comments xxkyo5 are there any audiophilegrade headphones with cat reddit com r girlgamers comments d3m8w2 are those cute cat ear headsets worth it reddit com r girlgamers comments ma5zku best headset with cat ears or otherwise reddit com r headphoneadvice comments 11jyizb are yowu cat ear headphones worth it reddit com r girlgamers comments geqmpa are cat ear headphones cringey reddit com r headphones comments z37z09 got the yowu cat ear headphones theyre so cute lol reddit com r headphoneadvice comments zv94g5 looking for a good pair of cat ear headphones reddit com r girlgamers comments 12zb9ya suggestions for good bluetooth cat ear headphones reddit com r girlgamers comments k9dvj3 looking for quality cat headphones reddit com r girlgamers comments hixbe4 does anyone have any cat ear headphone reddit com r transytalk comments k5x5l6 does anyone know where to buy good quality cat reddit com r headphoneadvice comments vzfrdx cat ear headphones for work reddit com r headphones comments o467tj cat ear hd600s reddit com r headphones comments 10ov059 how can i remove the cat ears from my headset reddit com r girlgamers comments i1m8s8 whats the best kittyear gaming headset reddit com r headphones comments 13gb3ui turning off the lights on rgb cat ear headphones reddit com r girlgamers comments r05x4g razer kraken kitty headset is it worth it reddit com r girlgamers comments moldxv catear headphones that are overear reddit com r headphones comments 9ybdlk i am embarrassed i am asking this but reddit com r headphones comments o04onc welp you asked for it cat ear hd800 reddit com r girlgamers comments humhwf bought some cat ears for my headset adds a cute reddit com r headphones comments op4uvb cat ears make everything better reddit com r girlgamers comments 2itw7n cat ear headphones yes please reddit com r girlgamers comments qp9lva where to get kitty gaming headset for ps4 reddit com r headphones comments 64h1fw cat ear headphones reddit com r girlgamers comments ggyqi6 i keep seeing headphones with cat ears decided to reddit com r gadgets comments 451xz3 axent wears cat ear headphones are the stuff of reddit com r unpopularopinion comments aao6iu headphones with cat ears are dumb and childish reddit com r unpopularopinion comments ipkdp2 gaming headphones with cat ears are dumb pngtree com so over ear headphones reddit pinterest com pin ryujin 472174342183380593 nytimes com wirecutter reviews best headphones techthelead com here are the best cat ear headphones in 2022 hollywoodreporter com lifestyle style ariana grande launches cat ear 931162 headphonesproreview com best cat ear headphones amazon com somic detachable headphones lightweight self adjusting product reviews b07jz2z588 head fi org threads the discovery thread 586909 page 5662 redditfavorites com product categories on ear headphones page 2 indiegogo com projects axent wear cat ear headphones nbcnews com select shopping best home teeth whitening products ncna1253852 nexusmods com residentevil42023 mods 1623 whathifi com reviews sony wf c700n buzzfeed com mjs538 random things millennials forgot about currys co uk services webchat html pcmag com picks the best gaming headphones youtube com watch v bbzpnmrhmlk nsfw xxx post asian 3062291 page 1 hereplus me top 10 best cat ear headphones audioreputation com cat ear headphones\"\"\"\n",
    "\n",
    "\n",
    "\n",
    "\n",
    "\n",
    "s2 = \"\"\"takealot com cat ear headset plid72188364 takealot com wireless cat ear headphones plid73138874 snatcher co za rgb cat ear headphones za shein com cat ear bluetooth headphone p 2359922 cat 3305 html soundtech co za zw 028 wireless headphones cat ear html game4u co za product cat ear wireless headphones blue bt028c zando co za anzel cat ear wireless headphones pink 240086 html wantitall co za brands cat ears electronics p1 bobshop co za item 483763251 headphones w27 cat ear wireless bluetooth html syntronics co za products buy vzv 23m cat ear wireless bluetooth headphones south africa evetech co za razer kitty ears for kraken headset green best deal 3691 aspx desertcart co za products 154912552 mix style nekomimi headphones cat ear headphones star black pink ubuy za com product cm77f10 mindkoo wireless headphones bluetooth led light up 7 color blinking cat ear over ear on ear safe fol etsy com market cat ears for headset facebook com marketplace 113328482026040 kids headphones mimineko co target com s purple cat ear headphones mrp com en us novelty headphones 1731210583 ptcshop com au products stn wireless headphones cat ear bluetooth over ear kids headsets pink clasf co za kids cat ear headphones rechargeable led lights usb in south africa 2938728 bash com technology audio 2626 hi map category 1 category 2 productclusterids store storefrontctx hi pinterest com pin 772930354801822142 game co za l c g2041 skullcandy com shop headphones ebay com itm 145178800720 audicoonline co za headphones sunsky online com p sya00833501b bt028c cute cat ear bluetooth 5 0 headphones foldable on ear stereo wireless headset headphone with mic led light fm radio tf card pink htm amazon com headphone foldable earphone compatible computer dp b07c5hxxpb loot co za search offset 0 vprice min vprice max 2fsearch 3fcat iqs cat jrn sort sales he aliexpress com item 32951606833 html fcc report fcc id 2awhsbt0191 5224504 pdf hocotech com selfridges com tw en cat razer blackshark v2 pro wireless headset 2023 r04215913 claires com nytimes com wirecutter reviews best travel plug adapter rayconglobal com us coca cola com cokestudio madcatz com en product detail 44 theverge com 23310395 samsung galaxy watch 5 review smartwatch wear os 3 mvmt com cloudways com blog best dropshipping products headphonesty com 2018 11 best cat ear headphones jumia com ng generic cat ear headphones led lights earphone wmicrophone for kids pink 88650177 html behringer com buy weareteachers com weird fun facts tiktok com discover does a34 5g support wireless charging mpcdd angegossen de oneplus in oneplus buds z wealthofgeeks com manage adhd while traveling forwardivertech co za products new arrival led cat ear noise cancelling headphones bluetooth 5 0 young people kids headset support tf card 3 5mm plug with mic cnn com cnn underscored reviews best kids headphones ozchvq fussball wm fanshop de lokerindonesia link 1125220 botekno online 577866 the 7 best headphones for kids malibushirts com http flowhamster news gi5aqux htm\"\"\""
   ]
  },
  {
   "cell_type": "code",
   "execution_count": null,
   "metadata": {},
   "outputs": [],
   "source": [
    "\n",
    "embeddings1 = model.encode(s1)\n",
    "\n",
    "embeddings1.shape"
   ]
  },
  {
   "cell_type": "code",
   "execution_count": null,
   "metadata": {},
   "outputs": [],
   "source": [
    "\n",
    "embeddings2 = model.encode(s2)\n",
    "\n",
    "embeddings2.shape"
   ]
  },
  {
   "cell_type": "code",
   "execution_count": null,
   "metadata": {},
   "outputs": [],
   "source": [
    "util.cos_sim(embeddings1, embeddings2)"
   ]
  },
  {
   "cell_type": "code",
   "execution_count": null,
   "metadata": {},
   "outputs": [],
   "source": [
    "model.max_seq_length=4096"
   ]
  },
  {
   "cell_type": "code",
   "execution_count": null,
   "metadata": {},
   "outputs": [],
   "source": [
    "import netron\n",
    "netron.start('/home/ubuntu/embedding/gte-base/onnx/model.onnx')"
   ]
  },
  {
   "cell_type": "code",
   "execution_count": null,
   "metadata": {},
   "outputs": [],
   "source": [
    "import torch\n",
    "\n",
    "model= torch.load(\"/home/ubuntu/embedding/gte-base/pytorch_model.bin\")"
   ]
  },
  {
   "cell_type": "code",
   "execution_count": null,
   "metadata": {},
   "outputs": [],
   "source": [
    "type(model)"
   ]
  },
  {
   "cell_type": "code",
   "execution_count": null,
   "metadata": {},
   "outputs": [],
   "source": [
    "! pip install netron"
   ]
  },
  {
   "cell_type": "code",
   "execution_count": null,
   "metadata": {},
   "outputs": [],
   "source": []
  },
  {
   "cell_type": "code",
   "execution_count": null,
   "metadata": {},
   "outputs": [],
   "source": [
    "for i in model.keys(): \n",
    "    print(i)"
   ]
  },
  {
   "cell_type": "code",
   "execution_count": null,
   "metadata": {},
   "outputs": [],
   "source": []
  },
  {
   "cell_type": "code",
   "execution_count": null,
   "metadata": {},
   "outputs": [],
   "source": []
  },
  {
   "cell_type": "code",
   "execution_count": null,
   "metadata": {},
   "outputs": [],
   "source": []
  },
  {
   "cell_type": "markdown",
   "metadata": {},
   "source": [
    "# convert weights to tensorflow"
   ]
  },
  {
   "cell_type": "code",
   "execution_count": null,
   "metadata": {},
   "outputs": [],
   "source": [
    "!pip install -U onnx\n",
    "!pip install -U onnx-tf\n"
   ]
  },
  {
   "cell_type": "code",
   "execution_count": null,
   "metadata": {},
   "outputs": [],
   "source": [
    "! git lfs install\n",
    "! git clone https://huggingface.co/thenlper/gte-base"
   ]
  },
  {
   "cell_type": "code",
   "execution_count": null,
   "metadata": {},
   "outputs": [],
   "source": [
    "import torch\n",
    "torch.__version__"
   ]
  },
  {
   "cell_type": "code",
   "execution_count": null,
   "metadata": {},
   "outputs": [],
   "source": [
    "import os\n",
    "os.chdir('/home/ubuntu/embedding')"
   ]
  },
  {
   "cell_type": "code",
   "execution_count": null,
   "metadata": {},
   "outputs": [],
   "source": [
    "%pwd"
   ]
  },
  {
   "cell_type": "code",
   "execution_count": null,
   "metadata": {},
   "outputs": [],
   "source": [
    "!pip install tensorflow tensorflow_probability"
   ]
  },
  {
   "cell_type": "code",
   "execution_count": null,
   "metadata": {},
   "outputs": [],
   "source": [
    "import tensorflow"
   ]
  },
  {
   "cell_type": "code",
   "execution_count": null,
   "metadata": {},
   "outputs": [],
   "source": [
    "import onnx\n",
    "from onnx_tf.backend import prepare\n",
    "\n",
    "onnx_model = onnx.load(\"gte-base/onnx/model.onnx\")\n",
    "tf_rep = prepare(onnx_model)\n",
    "tf_rep.export_graph('./GTE_BASE_TF.pb')"
   ]
  },
  {
   "cell_type": "code",
   "execution_count": null,
   "metadata": {},
   "outputs": [],
   "source": [
    "import tensorflow as tf\n"
   ]
  },
  {
   "cell_type": "code",
   "execution_count": null,
   "metadata": {},
   "outputs": [],
   "source": [
    "model = tf.saved_model.load(\n",
    "    export_dir='GTE_BASE_TF.pb', tags=None, options=None\n",
    ")"
   ]
  },
  {
   "cell_type": "code",
   "execution_count": null,
   "metadata": {},
   "outputs": [],
   "source": [
    "import tensorflow as tf\n",
    "from tensorflow import keras\n",
    "\n",
    "print(tf.version.VERSION)"
   ]
  },
  {
   "cell_type": "code",
   "execution_count": null,
   "metadata": {},
   "outputs": [],
   "source": [
    "model"
   ]
  },
  {
   "cell_type": "code",
   "execution_count": null,
   "metadata": {},
   "outputs": [],
   "source": [
    "type(model)"
   ]
  },
  {
   "cell_type": "code",
   "execution_count": null,
   "metadata": {},
   "outputs": [],
   "source": []
  },
  {
   "cell_type": "code",
   "execution_count": null,
   "metadata": {},
   "outputs": [],
   "source": []
  },
  {
   "cell_type": "code",
   "execution_count": null,
   "metadata": {},
   "outputs": [],
   "source": [
    "!pip install lsg-converter"
   ]
  },
  {
   "cell_type": "code",
   "execution_count": 1,
   "metadata": {},
   "outputs": [
    {
     "name": "stdout",
     "output_type": "stream",
     "text": [
      "Collecting git+https://github.com/UKPLab/sentence-transformers.git\n",
      "  Cloning https://github.com/UKPLab/sentence-transformers.git to /tmp/pip-req-build-tthawo5_\n",
      "  Running command git clone --filter=blob:none --quiet https://github.com/UKPLab/sentence-transformers.git /tmp/pip-req-build-tthawo5_\n",
      "  Resolved https://github.com/UKPLab/sentence-transformers.git to commit a458ce79c40fef93d5ecc66931b446ea65fdd017\n",
      "  Preparing metadata (setup.py) ... \u001b[?25ldone\n",
      "\u001b[?25hRequirement already satisfied: huggingface-hub>=0.4.0 in ./venv/lib/python3.10/site-packages (from sentence-transformers==2.2.2) (0.16.4)\n",
      "Requirement already satisfied: nltk in ./venv/lib/python3.10/site-packages (from sentence-transformers==2.2.2) (3.8.1)\n",
      "Requirement already satisfied: numpy in ./venv/lib/python3.10/site-packages (from sentence-transformers==2.2.2) (1.24.3)\n",
      "Requirement already satisfied: scikit-learn in ./venv/lib/python3.10/site-packages (from sentence-transformers==2.2.2) (1.3.0)\n",
      "Requirement already satisfied: scipy in ./venv/lib/python3.10/site-packages (from sentence-transformers==2.2.2) (1.11.2)\n",
      "Requirement already satisfied: sentencepiece in ./venv/lib/python3.10/site-packages (from sentence-transformers==2.2.2) (0.1.99)\n",
      "Requirement already satisfied: torch>=1.6.0 in ./venv/lib/python3.10/site-packages (from sentence-transformers==2.2.2) (2.0.1)\n",
      "Requirement already satisfied: torchvision in ./venv/lib/python3.10/site-packages (from sentence-transformers==2.2.2) (0.15.2)\n",
      "Requirement already satisfied: tqdm in ./venv/lib/python3.10/site-packages (from sentence-transformers==2.2.2) (4.66.1)\n",
      "Requirement already satisfied: transformers<5.0.0,>=4.6.0 in ./venv/lib/python3.10/site-packages (from sentence-transformers==2.2.2) (4.31.0)\n",
      "Requirement already satisfied: pyyaml>=5.1 in ./venv/lib/python3.10/site-packages (from huggingface-hub>=0.4.0->sentence-transformers==2.2.2) (6.0.1)\n",
      "Requirement already satisfied: requests in ./venv/lib/python3.10/site-packages (from huggingface-hub>=0.4.0->sentence-transformers==2.2.2) (2.31.0)\n",
      "Requirement already satisfied: packaging>=20.9 in ./venv/lib/python3.10/site-packages (from huggingface-hub>=0.4.0->sentence-transformers==2.2.2) (23.1)\n",
      "Requirement already satisfied: typing-extensions>=3.7.4.3 in ./venv/lib/python3.10/site-packages (from huggingface-hub>=0.4.0->sentence-transformers==2.2.2) (4.5.0)\n",
      "Requirement already satisfied: filelock in ./venv/lib/python3.10/site-packages (from huggingface-hub>=0.4.0->sentence-transformers==2.2.2) (3.12.2)\n",
      "Requirement already satisfied: fsspec in ./venv/lib/python3.10/site-packages (from huggingface-hub>=0.4.0->sentence-transformers==2.2.2) (2023.6.0)\n",
      "Requirement already satisfied: jinja2 in ./venv/lib/python3.10/site-packages (from torch>=1.6.0->sentence-transformers==2.2.2) (3.1.2)\n",
      "Requirement already satisfied: nvidia-cudnn-cu11==8.5.0.96 in ./venv/lib/python3.10/site-packages (from torch>=1.6.0->sentence-transformers==2.2.2) (8.5.0.96)\n",
      "Requirement already satisfied: nvidia-cusolver-cu11==11.4.0.1 in ./venv/lib/python3.10/site-packages (from torch>=1.6.0->sentence-transformers==2.2.2) (11.4.0.1)\n",
      "Requirement already satisfied: triton==2.0.0 in ./venv/lib/python3.10/site-packages (from torch>=1.6.0->sentence-transformers==2.2.2) (2.0.0)\n",
      "Requirement already satisfied: nvidia-cuda-nvrtc-cu11==11.7.99 in ./venv/lib/python3.10/site-packages (from torch>=1.6.0->sentence-transformers==2.2.2) (11.7.99)\n",
      "Requirement already satisfied: nvidia-cuda-cupti-cu11==11.7.101 in ./venv/lib/python3.10/site-packages (from torch>=1.6.0->sentence-transformers==2.2.2) (11.7.101)\n",
      "Requirement already satisfied: nvidia-cusparse-cu11==11.7.4.91 in ./venv/lib/python3.10/site-packages (from torch>=1.6.0->sentence-transformers==2.2.2) (11.7.4.91)\n",
      "Requirement already satisfied: nvidia-nccl-cu11==2.14.3 in ./venv/lib/python3.10/site-packages (from torch>=1.6.0->sentence-transformers==2.2.2) (2.14.3)\n",
      "Requirement already satisfied: sympy in ./venv/lib/python3.10/site-packages (from torch>=1.6.0->sentence-transformers==2.2.2) (1.12)\n",
      "Requirement already satisfied: networkx in ./venv/lib/python3.10/site-packages (from torch>=1.6.0->sentence-transformers==2.2.2) (3.1)\n",
      "Requirement already satisfied: nvidia-curand-cu11==10.2.10.91 in ./venv/lib/python3.10/site-packages (from torch>=1.6.0->sentence-transformers==2.2.2) (10.2.10.91)\n",
      "Requirement already satisfied: nvidia-cuda-runtime-cu11==11.7.99 in ./venv/lib/python3.10/site-packages (from torch>=1.6.0->sentence-transformers==2.2.2) (11.7.99)\n",
      "Requirement already satisfied: nvidia-cublas-cu11==11.10.3.66 in ./venv/lib/python3.10/site-packages (from torch>=1.6.0->sentence-transformers==2.2.2) (11.10.3.66)\n",
      "Requirement already satisfied: nvidia-nvtx-cu11==11.7.91 in ./venv/lib/python3.10/site-packages (from torch>=1.6.0->sentence-transformers==2.2.2) (11.7.91)\n",
      "Requirement already satisfied: nvidia-cufft-cu11==10.9.0.58 in ./venv/lib/python3.10/site-packages (from torch>=1.6.0->sentence-transformers==2.2.2) (10.9.0.58)\n",
      "Requirement already satisfied: wheel in ./venv/lib/python3.10/site-packages (from nvidia-cublas-cu11==11.10.3.66->torch>=1.6.0->sentence-transformers==2.2.2) (0.37.1)\n",
      "Requirement already satisfied: setuptools in ./venv/lib/python3.10/site-packages (from nvidia-cublas-cu11==11.10.3.66->torch>=1.6.0->sentence-transformers==2.2.2) (59.6.0)\n",
      "Requirement already satisfied: cmake in ./venv/lib/python3.10/site-packages (from triton==2.0.0->torch>=1.6.0->sentence-transformers==2.2.2) (3.27.2)\n",
      "Requirement already satisfied: lit in ./venv/lib/python3.10/site-packages (from triton==2.0.0->torch>=1.6.0->sentence-transformers==2.2.2) (16.0.6)\n",
      "Requirement already satisfied: safetensors>=0.3.1 in ./venv/lib/python3.10/site-packages (from transformers<5.0.0,>=4.6.0->sentence-transformers==2.2.2) (0.3.2)\n",
      "Requirement already satisfied: tokenizers!=0.11.3,<0.14,>=0.11.1 in ./venv/lib/python3.10/site-packages (from transformers<5.0.0,>=4.6.0->sentence-transformers==2.2.2) (0.13.3)\n",
      "Requirement already satisfied: regex!=2019.12.17 in ./venv/lib/python3.10/site-packages (from transformers<5.0.0,>=4.6.0->sentence-transformers==2.2.2) (2023.8.8)\n",
      "Requirement already satisfied: joblib in ./venv/lib/python3.10/site-packages (from nltk->sentence-transformers==2.2.2) (1.3.2)\n",
      "Requirement already satisfied: click in ./venv/lib/python3.10/site-packages (from nltk->sentence-transformers==2.2.2) (8.1.7)\n",
      "Requirement already satisfied: threadpoolctl>=2.0.0 in ./venv/lib/python3.10/site-packages (from scikit-learn->sentence-transformers==2.2.2) (3.2.0)\n",
      "Requirement already satisfied: pillow!=8.3.*,>=5.3.0 in ./venv/lib/python3.10/site-packages (from torchvision->sentence-transformers==2.2.2) (10.0.0)\n",
      "Requirement already satisfied: MarkupSafe>=2.0 in ./venv/lib/python3.10/site-packages (from jinja2->torch>=1.6.0->sentence-transformers==2.2.2) (2.1.3)\n",
      "Requirement already satisfied: idna<4,>=2.5 in ./venv/lib/python3.10/site-packages (from requests->huggingface-hub>=0.4.0->sentence-transformers==2.2.2) (3.4)\n",
      "Requirement already satisfied: certifi>=2017.4.17 in ./venv/lib/python3.10/site-packages (from requests->huggingface-hub>=0.4.0->sentence-transformers==2.2.2) (2023.7.22)\n",
      "Requirement already satisfied: charset-normalizer<4,>=2 in ./venv/lib/python3.10/site-packages (from requests->huggingface-hub>=0.4.0->sentence-transformers==2.2.2) (3.2.0)\n",
      "Requirement already satisfied: urllib3<3,>=1.21.1 in ./venv/lib/python3.10/site-packages (from requests->huggingface-hub>=0.4.0->sentence-transformers==2.2.2) (1.26.16)\n",
      "Requirement already satisfied: mpmath>=0.19 in ./venv/lib/python3.10/site-packages (from sympy->torch>=1.6.0->sentence-transformers==2.2.2) (1.3.0)\n"
     ]
    },
    {
     "name": "stderr",
     "output_type": "stream",
     "text": [
      "/home/ubuntu/embedding/venv/lib/python3.10/site-packages/tqdm/auto.py:21: TqdmWarning: IProgress not found. Please update jupyter and ipywidgets. See https://ipywidgets.readthedocs.io/en/stable/user_install.html\n",
      "  from .autonotebook import tqdm as notebook_tqdm\n",
      "Downloading (…)5133c/.gitattributes: 100%|██████████| 1.18k/1.18k [00:00<00:00, 10.0MB/s]\n",
      "Downloading (…)_Pooling/config.json: 100%|██████████| 270/270 [00:00<00:00, 2.46MB/s]\n",
      "Downloading (…)a82e25133c/README.md: 100%|██████████| 116k/116k [00:00<00:00, 991kB/s]\n",
      "Downloading (…)2e25133c/config.json: 100%|██████████| 1.08k/1.08k [00:00<00:00, 9.38MB/s]\n",
      "Downloading (…)ce_transformers.json: 100%|██████████| 123/123 [00:00<00:00, 1.01MB/s]\n",
      "Downloading (…)erage_precision.json: 100%|██████████| 120/120 [00:00<00:00, 1.07MB/s]\n",
      "Downloading (…)esults_detailed.json: 100%|██████████| 2.56k/2.56k [00:00<00:00, 22.2MB/s]\n",
      "Downloading (…)133c/eval/quora.json: 100%|██████████| 170/170 [00:00<00:00, 1.51MB/s]\n",
      "Downloading (…)_sts-dev_results.csv: 100%|██████████| 1.89k/1.89k [00:00<00:00, 16.5MB/s]\n",
      "Downloading (…)sts-test_results.csv: 100%|██████████| 297/297 [00:00<00:00, 2.71MB/s]\n",
      "Downloading (…)82e25133c/merges.txt: 100%|██████████| 456k/456k [00:00<00:00, 1.92MB/s]\n",
      "Downloading pytorch_model.bin: 100%|██████████| 551M/551M [00:02<00:00, 210MB/s]  \n",
      "Downloading (…)nce_bert_config.json: 100%|██████████| 52.0/52.0 [00:00<00:00, 442kB/s]\n",
      "Downloading (…)cial_tokens_map.json: 100%|██████████| 387/387 [00:00<00:00, 3.76MB/s]\n",
      "Downloading (…)5133c/tokenizer.json: 100%|██████████| 2.11M/2.11M [00:00<00:00, 17.3MB/s]\n",
      "Downloading (…)okenizer_config.json: 100%|██████████| 658/658 [00:00<00:00, 3.64MB/s]\n",
      "Downloading (…)82e25133c/vocab.json: 100%|██████████| 798k/798k [00:00<00:00, 3.35MB/s]\n",
      "Downloading (…)e25133c/modules.json: 100%|██████████| 229/229 [00:00<00:00, 1.87MB/s]\n"
     ]
    },
    {
     "ename": "TypeError",
     "evalue": "Pooling.__init__() got an unexpected keyword argument 'pooling_mode_weightedmean_tokens'",
     "output_type": "error",
     "traceback": [
      "\u001b[0;31m---------------------------------------------------------------------------\u001b[0m",
      "\u001b[0;31mTypeError\u001b[0m                                 Traceback (most recent call last)",
      "Cell \u001b[0;32mIn[1], line 3\u001b[0m\n\u001b[1;32m      1\u001b[0m get_ipython()\u001b[39m.\u001b[39msystem(\u001b[39m'\u001b[39m\u001b[39mpip install git+https://github.com/UKPLab/sentence-transformers.git\u001b[39m\u001b[39m'\u001b[39m)\n\u001b[1;32m      2\u001b[0m \u001b[39mfrom\u001b[39;00m \u001b[39msentence_transformers\u001b[39;00m \u001b[39mimport\u001b[39;00m SentenceTransformer\n\u001b[0;32m----> 3\u001b[0m model \u001b[39m=\u001b[39m SentenceTransformer(\u001b[39m\"\u001b[39;49m\u001b[39mMuennighoff/SGPT-125M-weightedmean-nli-bitfit\u001b[39;49m\u001b[39m\"\u001b[39;49m)\n",
      "File \u001b[0;32m~/embedding/venv/lib/python3.10/site-packages/sentence_transformers/SentenceTransformer.py:95\u001b[0m, in \u001b[0;36mSentenceTransformer.__init__\u001b[0;34m(self, model_name_or_path, modules, device, cache_folder, use_auth_token)\u001b[0m\n\u001b[1;32m     87\u001b[0m         snapshot_download(model_name_or_path,\n\u001b[1;32m     88\u001b[0m                             cache_dir\u001b[39m=\u001b[39mcache_folder,\n\u001b[1;32m     89\u001b[0m                             library_name\u001b[39m=\u001b[39m\u001b[39m'\u001b[39m\u001b[39msentence-transformers\u001b[39m\u001b[39m'\u001b[39m,\n\u001b[1;32m     90\u001b[0m                             library_version\u001b[39m=\u001b[39m__version__,\n\u001b[1;32m     91\u001b[0m                             ignore_files\u001b[39m=\u001b[39m[\u001b[39m'\u001b[39m\u001b[39mflax_model.msgpack\u001b[39m\u001b[39m'\u001b[39m, \u001b[39m'\u001b[39m\u001b[39mrust_model.ot\u001b[39m\u001b[39m'\u001b[39m, \u001b[39m'\u001b[39m\u001b[39mtf_model.h5\u001b[39m\u001b[39m'\u001b[39m],\n\u001b[1;32m     92\u001b[0m                             use_auth_token\u001b[39m=\u001b[39muse_auth_token)\n\u001b[1;32m     94\u001b[0m \u001b[39mif\u001b[39;00m os\u001b[39m.\u001b[39mpath\u001b[39m.\u001b[39mexists(os\u001b[39m.\u001b[39mpath\u001b[39m.\u001b[39mjoin(model_path, \u001b[39m'\u001b[39m\u001b[39mmodules.json\u001b[39m\u001b[39m'\u001b[39m)):    \u001b[39m#Load as SentenceTransformer model\u001b[39;00m\n\u001b[0;32m---> 95\u001b[0m     modules \u001b[39m=\u001b[39m \u001b[39mself\u001b[39;49m\u001b[39m.\u001b[39;49m_load_sbert_model(model_path)\n\u001b[1;32m     96\u001b[0m \u001b[39melse\u001b[39;00m:   \u001b[39m#Load with AutoModel\u001b[39;00m\n\u001b[1;32m     97\u001b[0m     modules \u001b[39m=\u001b[39m \u001b[39mself\u001b[39m\u001b[39m.\u001b[39m_load_auto_model(model_path)\n",
      "File \u001b[0;32m~/embedding/venv/lib/python3.10/site-packages/sentence_transformers/SentenceTransformer.py:840\u001b[0m, in \u001b[0;36mSentenceTransformer._load_sbert_model\u001b[0;34m(self, model_path)\u001b[0m\n\u001b[1;32m    838\u001b[0m \u001b[39mfor\u001b[39;00m module_config \u001b[39min\u001b[39;00m modules_config:\n\u001b[1;32m    839\u001b[0m     module_class \u001b[39m=\u001b[39m import_from_string(module_config[\u001b[39m'\u001b[39m\u001b[39mtype\u001b[39m\u001b[39m'\u001b[39m])\n\u001b[0;32m--> 840\u001b[0m     module \u001b[39m=\u001b[39m module_class\u001b[39m.\u001b[39;49mload(os\u001b[39m.\u001b[39;49mpath\u001b[39m.\u001b[39;49mjoin(model_path, module_config[\u001b[39m'\u001b[39;49m\u001b[39mpath\u001b[39;49m\u001b[39m'\u001b[39;49m]))\n\u001b[1;32m    841\u001b[0m     modules[module_config[\u001b[39m'\u001b[39m\u001b[39mname\u001b[39m\u001b[39m'\u001b[39m]] \u001b[39m=\u001b[39m module\n\u001b[1;32m    843\u001b[0m \u001b[39mreturn\u001b[39;00m modules\n",
      "File \u001b[0;32m~/embedding/venv/lib/python3.10/site-packages/sentence_transformers/models/Pooling.py:120\u001b[0m, in \u001b[0;36mPooling.load\u001b[0;34m(input_path)\u001b[0m\n\u001b[1;32m    117\u001b[0m \u001b[39mwith\u001b[39;00m \u001b[39mopen\u001b[39m(os\u001b[39m.\u001b[39mpath\u001b[39m.\u001b[39mjoin(input_path, \u001b[39m'\u001b[39m\u001b[39mconfig.json\u001b[39m\u001b[39m'\u001b[39m)) \u001b[39mas\u001b[39;00m fIn:\n\u001b[1;32m    118\u001b[0m     config \u001b[39m=\u001b[39m json\u001b[39m.\u001b[39mload(fIn)\n\u001b[0;32m--> 120\u001b[0m \u001b[39mreturn\u001b[39;00m Pooling(\u001b[39m*\u001b[39;49m\u001b[39m*\u001b[39;49mconfig)\n",
      "\u001b[0;31mTypeError\u001b[0m: Pooling.__init__() got an unexpected keyword argument 'pooling_mode_weightedmean_tokens'"
     ]
    }
   ],
   "source": [
    "!pip install git+https://github.com/UKPLab/sentence-transformers.git\n",
    "from sentence_transformers import SentenceTransformer\n",
    "model = SentenceTransformer(\"Muennighoff/SGPT-125M-weightedmean-nli-bitfit\")"
   ]
  },
  {
   "cell_type": "code",
   "execution_count": 1,
   "metadata": {},
   "outputs": [
    {
     "name": "stderr",
     "output_type": "stream",
     "text": [
      "/home/ubuntu/embedding/venv/lib/python3.10/site-packages/tqdm/auto.py:21: TqdmWarning: IProgress not found. Please update jupyter and ipywidgets. See https://ipywidgets.readthedocs.io/en/stable/user_install.html\n",
      "  from .autonotebook import tqdm as notebook_tqdm\n",
      "No sentence-transformers model found with name /home/ubuntu/.cache/torch/sentence_transformers/efederici_e5-large-v2-4096. Creating a new one with MEAN pooling.\n"
     ]
    }
   ],
   "source": [
    "from sentence_transformers import SentenceTransformer, util\n",
    "model = SentenceTransformer('efederici/e5-large-v2-4096', {\"trust_remote_code\": True})\n",
    "# model= SentenceTransformer('/home/ubuntu/embedding/gte-base-new')\n",
    "input_texts = [\n",
    "    'query: how much protein should a female eat',\n",
    "    'query: summit define',\n",
    "    \"passage: As a general guideline, the CDC's average requirement of protein for women ages 19 to 70 is 46 grams per day. But, as you can see from this chart, you'll need to increase that if you're expecting or training for a marathon. Check out the chart below to see how much protein you should be eating each day.\",\n",
    "    \"passage: Definition of summit for English Language Learners. : 1  the highest point of a mountain : the top of a mountain. : 2  the highest level. : 3  a meeting or series of meetings between the leaders of two or more governments.\"\n",
    "]\n",
    "embeddings = model.encode(input_texts, normalize_embeddings=True)\n"
   ]
  },
  {
   "cell_type": "code",
   "execution_count": 2,
   "metadata": {},
   "outputs": [
    {
     "data": {
      "text/plain": [
       "(4, 1024)"
      ]
     },
     "execution_count": 2,
     "metadata": {},
     "output_type": "execute_result"
    }
   ],
   "source": [
    "embeddings.shape"
   ]
  },
  {
   "cell_type": "code",
   "execution_count": 6,
   "metadata": {},
   "outputs": [
    {
     "data": {
      "text/plain": [
       "4096"
      ]
     },
     "execution_count": 6,
     "metadata": {},
     "output_type": "execute_result"
    }
   ],
   "source": [
    "model.max_seq_length= 4096\n",
    "model.max_seq_length"
   ]
  },
  {
   "cell_type": "code",
   "execution_count": 7,
   "metadata": {},
   "outputs": [],
   "source": [
    "s1 = \"\"\"reddit com r girlgamers comments vyk9wf good well functioning cat ear headphone reddit com r headphones comments xxkyo5 are there any audiophilegrade headphones with cat reddit com r girlgamers comments d3m8w2 are those cute cat ear headsets worth it reddit com r girlgamers comments ma5zku best headset with cat ears or otherwise reddit com r headphoneadvice comments 11jyizb are yowu cat ear headphones worth it reddit com r girlgamers comments geqmpa are cat ear headphones cringey reddit com r headphones comments z37z09 got the yowu cat ear headphones theyre so cute lol reddit com r headphoneadvice comments zv94g5 looking for a good pair of cat ear headphones reddit com r girlgamers comments 12zb9ya suggestions for good bluetooth cat ear headphones reddit com r girlgamers comments k9dvj3 looking for quality cat headphones reddit com r girlgamers comments hixbe4 does anyone have any cat ear headphone reddit com r transytalk comments k5x5l6 does anyone know where to buy good quality cat reddit com r headphoneadvice comments vzfrdx cat ear headphones for work reddit com r headphones comments o467tj cat ear hd600s reddit com r headphones comments 10ov059 how can i remove the cat ears from my headset reddit com r girlgamers comments i1m8s8 whats the best kittyear gaming headset reddit com r headphones comments 13gb3ui turning off the lights on rgb cat ear headphones reddit com r girlgamers comments r05x4g razer kraken kitty headset is it worth it reddit com r girlgamers comments moldxv catear headphones that are overear reddit com r headphones comments 9ybdlk i am embarrassed i am asking this but reddit com r headphones comments o04onc welp you asked for it cat ear hd800 reddit com r girlgamers comments humhwf bought some cat ears for my headset adds a cute reddit com r headphones comments op4uvb cat ears make everything better reddit com r girlgamers comments 2itw7n cat ear headphones yes please reddit com r girlgamers comments qp9lva where to get kitty gaming headset for ps4 reddit com r headphones comments 64h1fw cat ear headphones reddit com r girlgamers comments ggyqi6 i keep seeing headphones with cat ears decided to reddit com r gadgets comments 451xz3 axent wears cat ear headphones are the stuff of reddit com r unpopularopinion comments aao6iu headphones with cat ears are dumb and childish reddit com r unpopularopinion comments ipkdp2 gaming headphones with cat ears are dumb pngtree com so over ear headphones reddit pinterest com pin ryujin 472174342183380593 nytimes com wirecutter reviews best headphones techthelead com here are the best cat ear headphones in 2022 hollywoodreporter com lifestyle style ariana grande launches cat ear 931162 headphonesproreview com best cat ear headphones amazon com somic detachable headphones lightweight self adjusting product reviews b07jz2z588 head fi org threads the discovery thread 586909 page 5662 redditfavorites com product categories on ear headphones page 2 indiegogo com projects axent wear cat ear headphones nbcnews com select shopping best home teeth whitening products ncna1253852 nexusmods com residentevil42023 mods 1623 whathifi com reviews sony wf c700n buzzfeed com mjs538 random things millennials forgot about currys co uk services webchat html pcmag com picks the best gaming headphones youtube com watch v bbzpnmrhmlk nsfw xxx post asian 3062291 page 1 hereplus me top 10 best cat ear headphones audioreputation com cat ear headphones\"\"\"\n",
    "\n",
    "\n",
    "\n",
    "\n",
    "\n",
    "s2 = \"\"\"takealot com cat ear headset plid72188364 takealot com wireless cat ear headphones plid73138874 snatcher co za rgb cat ear headphones za shein com cat ear bluetooth headphone p 2359922 cat 3305 html soundtech co za zw 028 wireless headphones cat ear html game4u co za product cat ear wireless headphones blue bt028c zando co za anzel cat ear wireless headphones pink 240086 html wantitall co za brands cat ears electronics p1 bobshop co za item 483763251 headphones w27 cat ear wireless bluetooth html syntronics co za products buy vzv 23m cat ear wireless bluetooth headphones south africa evetech co za razer kitty ears for kraken headset green best deal 3691 aspx desertcart co za products 154912552 mix style nekomimi headphones cat ear headphones star black pink ubuy za com product cm77f10 mindkoo wireless headphones bluetooth led light up 7 color blinking cat ear over ear on ear safe fol etsy com market cat ears for headset facebook com marketplace 113328482026040 kids headphones mimineko co target com s purple cat ear headphones mrp com en us novelty headphones 1731210583 ptcshop com au products stn wireless headphones cat ear bluetooth over ear kids headsets pink clasf co za kids cat ear headphones rechargeable led lights usb in south africa 2938728 bash com technology audio 2626 hi map category 1 category 2 productclusterids store storefrontctx hi pinterest com pin 772930354801822142 game co za l c g2041 skullcandy com shop headphones ebay com itm 145178800720 audicoonline co za headphones sunsky online com p sya00833501b bt028c cute cat ear bluetooth 5 0 headphones foldable on ear stereo wireless headset headphone with mic led light fm radio tf card pink htm amazon com headphone foldable earphone compatible computer dp b07c5hxxpb loot co za search offset 0 vprice min vprice max 2fsearch 3fcat iqs cat jrn sort sales he aliexpress com item 32951606833 html fcc report fcc id 2awhsbt0191 5224504 pdf hocotech com selfridges com tw en cat razer blackshark v2 pro wireless headset 2023 r04215913 claires com nytimes com wirecutter reviews best travel plug adapter rayconglobal com us coca cola com cokestudio madcatz com en product detail 44 theverge com 23310395 samsung galaxy watch 5 review smartwatch wear os 3 mvmt com cloudways com blog best dropshipping products headphonesty com 2018 11 best cat ear headphones jumia com ng generic cat ear headphones led lights earphone wmicrophone for kids pink 88650177 html behringer com buy weareteachers com weird fun facts tiktok com discover does a34 5g support wireless charging mpcdd angegossen de oneplus in oneplus buds z wealthofgeeks com manage adhd while traveling forwardivertech co za products new arrival led cat ear noise cancelling headphones bluetooth 5 0 young people kids headset support tf card 3 5mm plug with mic cnn com cnn underscored reviews best kids headphones ozchvq fussball wm fanshop de lokerindonesia link 1125220 botekno online 577866 the 7 best headphones for kids malibushirts com http flowhamster news gi5aqux htm\"\"\""
   ]
  },
  {
   "cell_type": "code",
   "execution_count": 8,
   "metadata": {},
   "outputs": [],
   "source": [
    "\n",
    "e1 = model.encode(s1)\n",
    "e2 = model.encode(s2)\n",
    "\n"
   ]
  },
  {
   "cell_type": "code",
   "execution_count": 9,
   "metadata": {},
   "outputs": [
    {
     "data": {
      "text/plain": [
       "tensor([[0.9103]])"
      ]
     },
     "execution_count": 9,
     "metadata": {},
     "output_type": "execute_result"
    }
   ],
   "source": [
    "util.cos_sim(e1, e2)"
   ]
  },
  {
   "cell_type": "code",
   "execution_count": null,
   "metadata": {},
   "outputs": [],
   "source": []
  },
  {
   "cell_type": "markdown",
   "metadata": {},
   "source": [
    "# **LLaMA-v2 for Embeddings**"
   ]
  },
  {
   "cell_type": "code",
   "execution_count": 1,
   "metadata": {},
   "outputs": [
    {
     "name": "stderr",
     "output_type": "stream",
     "text": [
      "/home/ubuntu/embedding/venv/lib/python3.10/site-packages/tqdm/auto.py:21: TqdmWarning: IProgress not found. Please update jupyter and ipywidgets. See https://ipywidgets.readthedocs.io/en/stable/user_install.html\n",
      "  from .autonotebook import tqdm as notebook_tqdm\n",
      "Loading checkpoint shards: 100%|██████████| 15/15 [02:01<00:00,  8.11s/it]\n"
     ]
    }
   ],
   "source": [
    "import torch.nn.functional as F\n",
    "from torch import Tensor\n",
    "import torch\n",
    "from transformers import AutoModel, AutoTokenizer, TextStreamer\n",
    "\n",
    "tokenizer = AutoTokenizer.from_pretrained(\"upstage/Llama-2-70b-instruct-v2\", device_map=\"auto\",)\n",
    "model = AutoModel.from_pretrained(\n",
    "    \"upstage/Llama-2-70b-instruct-v2\",\n",
    "    device_map=\"auto\",\n",
    "    torch_dtype=torch.float16,\n",
    "    load_in_8bit=True,\n",
    "    # rope_scaling={\"type\": \"dynamic\", \"factor\": 2} # allows handling of longer inputs\n",
    ")"
   ]
  },
  {
   "cell_type": "code",
   "execution_count": 2,
   "metadata": {},
   "outputs": [],
   "source": [
    "def average_pool(last_hidden_states: Tensor,\n",
    "                 attention_mask: Tensor) -> Tensor:\n",
    "    last_hidden = last_hidden_states.masked_fill(~attention_mask[..., None].bool(), 0.0)\n",
    "    return last_hidden.sum(dim=1) / attention_mask.sum(dim=1)[..., None]"
   ]
  },
  {
   "cell_type": "code",
   "execution_count": 4,
   "metadata": {},
   "outputs": [],
   "source": [
    "input_texts = [\n",
    "    \"what is the capital of China?\",\n",
    "    \"how to implement quick sort in python?\",\n",
    "    \"Beijing\",\n",
    "    \"sorting algorithms\"\n",
    "]\n",
    "# Tokenize the input texts\n",
    "# batch_dict = tokenizer(input_texts, max_length=512, padding=True, truncation=True, return_tensors='pt')\n",
    "tokenizer.pad_token = tokenizer.eos_token\n",
    "batch_dict = tokenizer(input_texts, max_length=4096, padding=True, truncation=True, return_tensors='pt')\n",
    "\n",
    "outputs = model(**batch_dict)\n",
    "embeddings = average_pool(outputs.last_hidden_state, batch_dict['attention_mask'])\n",
    "\n",
    "# # (Optionally) normalize embeddings\n",
    "# embeddings = F.normalize(embeddings, p=2, dim=1)\n",
    "# scores = (embeddings[:1] @ embeddings[1:].T) * 100\n",
    "# print(scores.tolist())\n"
   ]
  },
  {
   "cell_type": "code",
   "execution_count": 6,
   "metadata": {},
   "outputs": [
    {
     "data": {
      "text/plain": [
       "torch.Size([4, 8192])"
      ]
     },
     "execution_count": 6,
     "metadata": {},
     "output_type": "execute_result"
    }
   ],
   "source": [
    "embeddings.shape"
   ]
  },
  {
   "cell_type": "code",
   "execution_count": 1,
   "metadata": {},
   "outputs": [],
   "source": [
    "s1 = \"\"\"reddit com r girlgamers comments vyk9wf good well functioning cat ear headphone reddit com r headphones comments xxkyo5 are there any audiophilegrade headphones with cat reddit com r girlgamers comments d3m8w2 are those cute cat ear headsets worth it reddit com r girlgamers comments ma5zku best headset with cat ears or otherwise reddit com r headphoneadvice comments 11jyizb are yowu cat ear headphones worth it reddit com r girlgamers comments geqmpa are cat ear headphones cringey reddit com r headphones comments z37z09 got the yowu cat ear headphones theyre so cute lol reddit com r headphoneadvice comments zv94g5 looking for a good pair of cat ear headphones reddit com r girlgamers comments 12zb9ya suggestions for good bluetooth cat ear headphones reddit com r girlgamers comments k9dvj3 looking for quality cat headphones reddit com r girlgamers comments hixbe4 does anyone have any cat ear headphone reddit com r transytalk comments k5x5l6 does anyone know where to buy good quality cat reddit com r headphoneadvice comments vzfrdx cat ear headphones for work reddit com r headphones comments o467tj cat ear hd600s reddit com r headphones comments 10ov059 how can i remove the cat ears from my headset reddit com r girlgamers comments i1m8s8 whats the best kittyear gaming headset reddit com r headphones comments 13gb3ui turning off the lights on rgb cat ear headphones reddit com r girlgamers comments r05x4g razer kraken kitty headset is it worth it reddit com r girlgamers comments moldxv catear headphones that are overear reddit com r headphones comments 9ybdlk i am embarrassed i am asking this but reddit com r headphones comments o04onc welp you asked for it cat ear hd800 reddit com r girlgamers comments humhwf bought some cat ears for my headset adds a cute reddit com r headphones comments op4uvb cat ears make everything better reddit com r girlgamers comments 2itw7n cat ear headphones yes please reddit com r girlgamers comments qp9lva where to get kitty gaming headset for ps4 reddit com r headphones comments 64h1fw cat ear headphones reddit com r girlgamers comments ggyqi6 i keep seeing headphones with cat ears decided to reddit com r gadgets comments 451xz3 axent wears cat ear headphones are the stuff of reddit com r unpopularopinion comments aao6iu headphones with cat ears are dumb and childish reddit com r unpopularopinion comments ipkdp2 gaming headphones with cat ears are dumb pngtree com so over ear headphones reddit pinterest com pin ryujin 472174342183380593 nytimes com wirecutter reviews best headphones techthelead com here are the best cat ear headphones in 2022 hollywoodreporter com lifestyle style ariana grande launches cat ear 931162 headphonesproreview com best cat ear headphones amazon com somic detachable headphones lightweight self adjusting product reviews b07jz2z588 head fi org threads the discovery thread 586909 page 5662 redditfavorites com product categories on ear headphones page 2 indiegogo com projects axent wear cat ear headphones nbcnews com select shopping best home teeth whitening products ncna1253852 nexusmods com residentevil42023 mods 1623 whathifi com reviews sony wf c700n buzzfeed com mjs538 random things millennials forgot about currys co uk services webchat html pcmag com picks the best gaming headphones youtube com watch v bbzpnmrhmlk nsfw xxx post asian 3062291 page 1 hereplus me top 10 best cat ear headphones audioreputation com cat ear headphones\"\"\"\n",
    "\n",
    "\n",
    "\n",
    "\n",
    "\n",
    "s2 = \"\"\"takealot com cat ear headset plid72188364 takealot com wireless cat ear headphones plid73138874 snatcher co za rgb cat ear headphones za shein com cat ear bluetooth headphone p 2359922 cat 3305 html soundtech co za zw 028 wireless headphones cat ear html game4u co za product cat ear wireless headphones blue bt028c zando co za anzel cat ear wireless headphones pink 240086 html wantitall co za brands cat ears electronics p1 bobshop co za item 483763251 headphones w27 cat ear wireless bluetooth html syntronics co za products buy vzv 23m cat ear wireless bluetooth headphones south africa evetech co za razer kitty ears for kraken headset green best deal 3691 aspx desertcart co za products 154912552 mix style nekomimi headphones cat ear headphones star black pink ubuy za com product cm77f10 mindkoo wireless headphones bluetooth led light up 7 color blinking cat ear over ear on ear safe fol etsy com market cat ears for headset facebook com marketplace 113328482026040 kids headphones mimineko co target com s purple cat ear headphones mrp com en us novelty headphones 1731210583 ptcshop com au products stn wireless headphones cat ear bluetooth over ear kids headsets pink clasf co za kids cat ear headphones rechargeable led lights usb in south africa 2938728 bash com technology audio 2626 hi map category 1 category 2 productclusterids store storefrontctx hi pinterest com pin 772930354801822142 game co za l c g2041 skullcandy com shop headphones ebay com itm 145178800720 audicoonline co za headphones sunsky online com p sya00833501b bt028c cute cat ear bluetooth 5 0 headphones foldable on ear stereo wireless headset headphone with mic led light fm radio tf card pink htm amazon com headphone foldable earphone compatible computer dp b07c5hxxpb loot co za search offset 0 vprice min vprice max 2fsearch 3fcat iqs cat jrn sort sales he aliexpress com item 32951606833 html fcc report fcc id 2awhsbt0191 5224504 pdf hocotech com selfridges com tw en cat razer blackshark v2 pro wireless headset 2023 r04215913 claires com nytimes com wirecutter reviews best travel plug adapter rayconglobal com us coca cola com cokestudio madcatz com en product detail 44 theverge com 23310395 samsung galaxy watch 5 review smartwatch wear os 3 mvmt com cloudways com blog best dropshipping products headphonesty com 2018 11 best cat ear headphones jumia com ng generic cat ear headphones led lights earphone wmicrophone for kids pink 88650177 html behringer com buy weareteachers com weird fun facts tiktok com discover does a34 5g support wireless charging mpcdd angegossen de oneplus in oneplus buds z wealthofgeeks com manage adhd while traveling forwardivertech co za products new arrival led cat ear noise cancelling headphones bluetooth 5 0 young people kids headset support tf card 3 5mm plug with mic cnn com cnn underscored reviews best kids headphones ozchvq fussball wm fanshop de lokerindonesia link 1125220 botekno online 577866 the 7 best headphones for kids malibushirts com http flowhamster news gi5aqux htm\"\"\""
   ]
  },
  {
   "cell_type": "code",
   "execution_count": null,
   "metadata": {},
   "outputs": [],
   "source": [
    "# input_texts = [\n",
    "#     s1, s2\n",
    "# ]\n",
    "# # Tokenize the input texts\n",
    "# # batch_dict = tokenizer(input_texts, max_length=512, padding=True, truncation=True, return_tensors='pt')\n",
    "tokenizer.pad_token = tokenizer.eos_token\n",
    "s1_tokens = tokenizer(s1, max_length=4096, padding=True, truncation=True, return_tensors='pt')\n",
    "\n",
    "output1 = model(**s1_tokens)\n",
    "embeddings1 = average_pool(output1.last_hidden_state, s1_tokens['attention_mask'])\n",
    "\n",
    "# # (Optionally) normalize embeddings\n",
    "# embeddings = F.normalize(embeddings, p=2, dim=1)\n",
    "# scores = (embeddings[:1] @ embeddings[1:].T) * 100\n",
    "# print(scores.tolist())\n",
    "\n",
    "embeddings1.shape"
   ]
  },
  {
   "cell_type": "code",
   "execution_count": 2,
   "metadata": {},
   "outputs": [
    {
     "name": "stderr",
     "output_type": "stream",
     "text": [
      "/home/ubuntu/embedding/venv/lib/python3.10/site-packages/tqdm/auto.py:21: TqdmWarning: IProgress not found. Please update jupyter and ipywidgets. See https://ipywidgets.readthedocs.io/en/stable/user_install.html\n",
      "  from .autonotebook import tqdm as notebook_tqdm\n",
      "Downloading (…)b720e/.gitattributes: 100%|██████████| 1.52k/1.52k [00:00<00:00, 5.93MB/s]\n",
      "Downloading (…)_Pooling/config.json: 100%|██████████| 191/191 [00:00<00:00, 994kB/s]\n",
      "Downloading (…)364d9b720e/README.md: 100%|██████████| 78.9k/78.9k [00:00<00:00, 1.36MB/s]\n",
      "Downloading (…)4d9b720e/config.json: 100%|██████████| 720/720 [00:00<00:00, 3.99MB/s]\n",
      "Downloading (…)ce_transformers.json: 100%|██████████| 124/124 [00:00<00:00, 686kB/s]\n",
      "Downloading model.safetensors: 100%|██████████| 1.34G/1.34G [00:06<00:00, 206MB/s] \n",
      "Downloading pytorch_model.bin: 100%|██████████| 1.34G/1.34G [00:03<00:00, 435MB/s]\n",
      "Downloading (…)nce_bert_config.json: 100%|██████████| 52.0/52.0 [00:00<00:00, 379kB/s]\n",
      "Downloading (…)cial_tokens_map.json: 100%|██████████| 125/125 [00:00<00:00, 984kB/s]\n",
      "Downloading (…)b720e/tokenizer.json: 100%|██████████| 711k/711k [00:00<00:00, 3.90MB/s]\n",
      "Downloading (…)okenizer_config.json: 100%|██████████| 366/366 [00:00<00:00, 3.20MB/s]\n",
      "Downloading (…)364d9b720e/vocab.txt: 100%|██████████| 232k/232k [00:00<00:00, 1.93MB/s]\n",
      "Downloading (…)d9b720e/modules.json: 100%|██████████| 229/229 [00:00<00:00, 2.12MB/s]\n"
     ]
    }
   ],
   "source": [
    "from sentence_transformers import SentenceTransformer, models, util\n",
    "\n",
    "# word_embedding_model = models.Transformer('meta-llama/Llama-2-7b-chat-hf', max_seq_length=4096)\n",
    "# pooling_model = models.Pooling(word_embedding_model.get_word_embedding_dimension())\n",
    "\n",
    "# model = SentenceTransformer('sentence-transformers/sentence-t5-xxl')\n",
    "# model = SentenceTransformer('sentence-transformers/gtr-t5-xxl', device='cpu')\n",
    "# model = SentenceTransformer('sentence-transformers/sentence-t5-xxl', device='cpu')\n",
    "# model = SentenceTransformer('thenlper/gte-large')\n",
    "model = SentenceTransformer('BAAI/bge-large-en')"
   ]
  },
  {
   "cell_type": "code",
   "execution_count": 3,
   "metadata": {},
   "outputs": [
    {
     "name": "stdout",
     "output_type": "stream",
     "text": [
      "(2, 1024)\n"
     ]
    }
   ],
   "source": [
    "sentences = [\"This is an example sentence\", \"Each sentence is converted\"]\n",
    "sentences = ['My name is Mark and I have a computer', 'This  computer belong to Mark which is my name']\n",
    "\n",
    "# embeddings = model.encode(sentences)\n",
    "embeddings = model.encode(sentences)\n",
    "# embeddings = model.encode_multi_process(sentences, pool=d)\n",
    "\n",
    "print(embeddings.shape)\n"
   ]
  },
  {
   "cell_type": "code",
   "execution_count": 4,
   "metadata": {},
   "outputs": [
    {
     "data": {
      "text/plain": [
       "tensor([[0.9682]])"
      ]
     },
     "execution_count": 4,
     "metadata": {},
     "output_type": "execute_result"
    }
   ],
   "source": [
    "util.cos_sim(embeddings[0], embeddings[1])"
   ]
  },
  {
   "cell_type": "code",
   "execution_count": 10,
   "metadata": {},
   "outputs": [],
   "source": [
    "model.max_seq_length=512"
   ]
  },
  {
   "cell_type": "code",
   "execution_count": 11,
   "metadata": {},
   "outputs": [
    {
     "data": {
      "text/plain": [
       "512"
      ]
     },
     "execution_count": 11,
     "metadata": {},
     "output_type": "execute_result"
    }
   ],
   "source": [
    "model.max_seq_length"
   ]
  },
  {
   "cell_type": "code",
   "execution_count": 12,
   "metadata": {},
   "outputs": [
    {
     "data": {
      "text/plain": [
       "'reddit com r girlgamers comments vyk9wf good well functioning cat ear headphone reddit com r headphones comments xxkyo5 are there any audiophilegrade headphones with cat reddit com r girlgamers comments d3m8w2 are those cute cat ear headsets worth it reddit com r girlgamers comments ma5zku best headset with cat ears or otherwise reddit com r headphoneadvice comments 11jyizb are yowu cat ear headphones worth it reddit com r girlgamers comments geqmpa are cat ear headphones cringey reddit com r headphones comments z37z09 got the yowu cat ear headphones theyre so cute lol reddit com r headphoneadvice comments zv94g5 looking for a good pair of cat ear headphones reddit com r girlgamers comments 12zb9ya suggestions for good bluetooth cat ear headphones reddit com r girlgamers comments k9dvj3 looking for quality cat headphones reddit com r girlgamers comments hixbe4 does anyone have any cat ear headphone reddit com r transytalk comments k5x5l6 does anyone know where to buy good quality cat reddit com r headphoneadvice comments vzfrdx cat ear headphones for work reddit com r headphones comments o467tj cat ear hd600s reddit com r headphones comments 10ov059 how can i remove the cat ears from my headset reddit com r girlgamers comments i1m8s8 whats the best kittyear gaming headset reddit com r headphones comments 13gb3ui turning off the lights on rgb cat ear headphones reddit com r girlgamers comments r05x4g razer kraken kitty headset is it worth it reddit com r girlgamers comments moldxv catear headphones that are overear reddit com r headphones comments 9ybdlk i am embarrassed i am asking this but reddit com r headphones comments o04onc welp you asked for it cat ear hd800 reddit com r girlgamers comments humhwf bought some cat ears for my headset adds a cute reddit com r headphones comments op4uvb cat ears make everything better reddit com r girlgamers comments 2itw7n cat ear headphones yes please reddit com r girlgamers comments qp9lva where to get kitty gaming headset for ps4 reddit com r headphones comments 64h1fw cat ear headphones reddit com r girlgamers comments ggyqi6 i keep seeing headphones with cat ears decided to reddit com r gadgets comments 451xz3 axent wears cat ear headphones are the stuff of reddit com r unpopularopinion comments aao6iu headphones with cat ears are dumb and childish reddit com r unpopularopinion comments ipkdp2 gaming headphones with cat ears are dumb pngtree com so over ear headphones reddit pinterest com pin ryujin 472174342183380593 nytimes com wirecutter reviews best headphones techthelead com here are the best cat ear headphones in 2022 hollywoodreporter com lifestyle style ariana grande launches cat ear 931162 headphonesproreview com best cat ear headphones amazon com somic detachable headphones lightweight self adjusting product reviews b07jz2z588 head fi org threads the discovery thread 586909 page 5662 redditfavorites com product categories on ear headphones page 2 indiegogo com projects axent wear cat ear headphones nbcnews com select shopping best home teeth whitening products ncna1253852 nexusmods com residentevil42023 mods 1623 whathifi com reviews sony wf c700n buzzfeed com mjs538 random things millennials forgot about currys co uk services webchat html pcmag com picks the best gaming headphones youtube com watch v bbzpnmrhmlk nsfw xxx post asian 3062291 page 1 hereplus me top 10 best cat ear headphones audioreputation com cat ear headphones'"
      ]
     },
     "execution_count": 12,
     "metadata": {},
     "output_type": "execute_result"
    }
   ],
   "source": [
    "s1"
   ]
  },
  {
   "cell_type": "code",
   "execution_count": 16,
   "metadata": {},
   "outputs": [
    {
     "name": "stdout",
     "output_type": "stream",
     "text": [
      "(1024,)\n"
     ]
    }
   ],
   "source": [
    "\n",
    "embeddings1 = model.encode(s1.replace(\" \", \"\"))\n",
    "print(embeddings1.shape)"
   ]
  },
  {
   "cell_type": "code",
   "execution_count": null,
   "metadata": {},
   "outputs": [],
   "source": []
  },
  {
   "cell_type": "code",
   "execution_count": 17,
   "metadata": {},
   "outputs": [
    {
     "name": "stdout",
     "output_type": "stream",
     "text": [
      "(1024,)\n"
     ]
    }
   ],
   "source": [
    "\n",
    "embeddings2 = model.encode(s2.replace(\" \", \"\"))\n",
    "print(embeddings2.shape)"
   ]
  },
  {
   "cell_type": "code",
   "execution_count": 18,
   "metadata": {},
   "outputs": [
    {
     "data": {
      "text/plain": [
       "tensor([[1.]])"
      ]
     },
     "execution_count": 18,
     "metadata": {},
     "output_type": "execute_result"
    }
   ],
   "source": [
    "util.cos_sim(embeddings1, embeddings2)"
   ]
  },
  {
   "cell_type": "code",
   "execution_count": null,
   "metadata": {},
   "outputs": [],
   "source": []
  },
  {
   "cell_type": "code",
   "execution_count": null,
   "metadata": {},
   "outputs": [],
   "source": []
  },
  {
   "cell_type": "code",
   "execution_count": null,
   "metadata": {},
   "outputs": [],
   "source": []
  },
  {
   "cell_type": "code",
   "execution_count": 2,
   "metadata": {},
   "outputs": [],
   "source": [
    "d= model.start_multi_process_pool()"
   ]
  },
  {
   "cell_type": "code",
   "execution_count": 7,
   "metadata": {},
   "outputs": [
    {
     "data": {
      "text/plain": [
       "{'input': <multiprocessing.queues.Queue at 0x7f8ec1ebf4c0>,\n",
       " 'output': <multiprocessing.queues.Queue at 0x7f8ec1ebfa90>,\n",
       " 'processes': [<SpawnProcess name='SpawnProcess-1' pid=1497950 parent=1496869 started daemon>,\n",
       "  <SpawnProcess name='SpawnProcess-2' pid=1498094 parent=1496869 started daemon>,\n",
       "  <SpawnProcess name='SpawnProcess-3' pid=1498238 parent=1496869 started daemon>,\n",
       "  <SpawnProcess name='SpawnProcess-4' pid=1498367 parent=1496869 started daemon>,\n",
       "  <SpawnProcess name='SpawnProcess-5' pid=1498511 parent=1496869 started daemon>,\n",
       "  <SpawnProcess name='SpawnProcess-6' pid=1498655 parent=1496869 started daemon>,\n",
       "  <SpawnProcess name='SpawnProcess-7' pid=1498784 parent=1496869 started daemon>,\n",
       "  <SpawnProcess name='SpawnProcess-8' pid=1498930 parent=1496869 started daemon>]}"
      ]
     },
     "execution_count": 7,
     "metadata": {},
     "output_type": "execute_result"
    }
   ],
   "source": [
    "d"
   ]
  },
  {
   "cell_type": "code",
   "execution_count": 8,
   "metadata": {},
   "outputs": [],
   "source": [
    "# import torch\n",
    "# parallel_model = torch.nn.DataParallel(model)"
   ]
  },
  {
   "cell_type": "code",
   "execution_count": 10,
   "metadata": {},
   "outputs": [
    {
     "name": "stderr",
     "output_type": "stream",
     "text": [
      "Process SpawnProcess-1:\n",
      "Traceback (most recent call last):\n",
      "  File \"/usr/lib/python3.10/multiprocessing/process.py\", line 314, in _bootstrap\n",
      "    self.run()\n",
      "  File \"/usr/lib/python3.10/multiprocessing/process.py\", line 108, in run\n",
      "    self._target(*self._args, **self._kwargs)\n",
      "  File \"/home/ubuntu/embedding/venv/lib/python3.10/site-packages/sentence_transformers/SentenceTransformer.py\", line 299, in _encode_multi_process_worker\n",
      "    embeddings = model.encode(sentences, device=target_device,  show_progress_bar=False, convert_to_numpy=True, batch_size=batch_size)\n",
      "  File \"/home/ubuntu/embedding/venv/lib/python3.10/site-packages/sentence_transformers/SentenceTransformer.py\", line 153, in encode\n",
      "    self.to(device)\n",
      "  File \"/home/ubuntu/embedding/venv/lib/python3.10/site-packages/torch/nn/modules/module.py\", line 1145, in to\n",
      "    return self._apply(convert)\n",
      "  File \"/home/ubuntu/embedding/venv/lib/python3.10/site-packages/torch/nn/modules/module.py\", line 797, in _apply\n",
      "    module._apply(fn)\n",
      "  File \"/home/ubuntu/embedding/venv/lib/python3.10/site-packages/torch/nn/modules/module.py\", line 797, in _apply\n",
      "    module._apply(fn)\n",
      "  File \"/home/ubuntu/embedding/venv/lib/python3.10/site-packages/torch/nn/modules/module.py\", line 797, in _apply\n",
      "    module._apply(fn)\n",
      "  [Previous line repeated 6 more times]\n",
      "  File \"/home/ubuntu/embedding/venv/lib/python3.10/site-packages/torch/nn/modules/module.py\", line 820, in _apply\n",
      "    param_applied = fn(param)\n",
      "  File \"/home/ubuntu/embedding/venv/lib/python3.10/site-packages/torch/nn/modules/module.py\", line 1143, in convert\n",
      "    return t.to(device, dtype if t.is_floating_point() or t.is_complex() else None, non_blocking)\n",
      "torch.cuda.OutOfMemoryError: CUDA out of memory. Tried to allocate 64.00 MiB (GPU 0; 14.58 GiB total capacity; 14.44 GiB already allocated; 23.62 MiB free; 14.44 GiB reserved in total by PyTorch) If reserved memory is >> allocated memory try setting max_split_size_mb to avoid fragmentation.  See documentation for Memory Management and PYTORCH_CUDA_ALLOC_CONF\n",
      "Process SpawnProcess-7:\n",
      "Process SpawnProcess-3:\n",
      "Process SpawnProcess-6:\n",
      "Process SpawnProcess-5:\n",
      "Traceback (most recent call last):\n",
      "Traceback (most recent call last):\n",
      "Traceback (most recent call last):\n",
      "  File \"/usr/lib/python3.10/multiprocessing/process.py\", line 314, in _bootstrap\n",
      "    self.run()\n",
      "  File \"/usr/lib/python3.10/multiprocessing/process.py\", line 108, in run\n",
      "    self._target(*self._args, **self._kwargs)\n",
      "  File \"/home/ubuntu/embedding/venv/lib/python3.10/site-packages/sentence_transformers/SentenceTransformer.py\", line 299, in _encode_multi_process_worker\n",
      "    embeddings = model.encode(sentences, device=target_device,  show_progress_bar=False, convert_to_numpy=True, batch_size=batch_size)\n",
      "  File \"/home/ubuntu/embedding/venv/lib/python3.10/site-packages/sentence_transformers/SentenceTransformer.py\", line 153, in encode\n",
      "    self.to(device)\n",
      "  File \"/usr/lib/python3.10/multiprocessing/process.py\", line 314, in _bootstrap\n",
      "    self.run()\n",
      "  File \"/home/ubuntu/embedding/venv/lib/python3.10/site-packages/torch/nn/modules/module.py\", line 1145, in to\n",
      "    return self._apply(convert)\n",
      "  File \"/usr/lib/python3.10/multiprocessing/process.py\", line 108, in run\n",
      "    self._target(*self._args, **self._kwargs)\n",
      "  File \"/home/ubuntu/embedding/venv/lib/python3.10/site-packages/torch/nn/modules/module.py\", line 797, in _apply\n",
      "    module._apply(fn)\n",
      "  File \"/home/ubuntu/embedding/venv/lib/python3.10/site-packages/torch/nn/modules/module.py\", line 797, in _apply\n",
      "    module._apply(fn)\n",
      "  File \"/usr/lib/python3.10/multiprocessing/process.py\", line 314, in _bootstrap\n",
      "    self.run()\n",
      "  File \"/home/ubuntu/embedding/venv/lib/python3.10/site-packages/sentence_transformers/SentenceTransformer.py\", line 299, in _encode_multi_process_worker\n",
      "    embeddings = model.encode(sentences, device=target_device,  show_progress_bar=False, convert_to_numpy=True, batch_size=batch_size)\n",
      "  File \"/home/ubuntu/embedding/venv/lib/python3.10/site-packages/torch/nn/modules/module.py\", line 797, in _apply\n",
      "    module._apply(fn)\n",
      "  File \"/usr/lib/python3.10/multiprocessing/process.py\", line 108, in run\n",
      "    self._target(*self._args, **self._kwargs)\n",
      "  File \"/home/ubuntu/embedding/venv/lib/python3.10/site-packages/sentence_transformers/SentenceTransformer.py\", line 153, in encode\n",
      "    self.to(device)\n",
      "  [Previous line repeated 6 more times]\n",
      "  File \"/home/ubuntu/embedding/venv/lib/python3.10/site-packages/torch/nn/modules/module.py\", line 1145, in to\n",
      "    return self._apply(convert)\n",
      "  File \"/home/ubuntu/embedding/venv/lib/python3.10/site-packages/torch/nn/modules/module.py\", line 820, in _apply\n",
      "    param_applied = fn(param)\n",
      "  File \"/home/ubuntu/embedding/venv/lib/python3.10/site-packages/sentence_transformers/SentenceTransformer.py\", line 299, in _encode_multi_process_worker\n",
      "    embeddings = model.encode(sentences, device=target_device,  show_progress_bar=False, convert_to_numpy=True, batch_size=batch_size)\n",
      "  File \"/home/ubuntu/embedding/venv/lib/python3.10/site-packages/torch/nn/modules/module.py\", line 1143, in convert\n",
      "    return t.to(device, dtype if t.is_floating_point() or t.is_complex() else None, non_blocking)\n",
      "  File \"/home/ubuntu/embedding/venv/lib/python3.10/site-packages/torch/nn/modules/module.py\", line 797, in _apply\n",
      "    module._apply(fn)\n",
      "  File \"/home/ubuntu/embedding/venv/lib/python3.10/site-packages/sentence_transformers/SentenceTransformer.py\", line 153, in encode\n",
      "    self.to(device)\n",
      "  File \"/home/ubuntu/embedding/venv/lib/python3.10/site-packages/torch/nn/modules/module.py\", line 797, in _apply\n",
      "    module._apply(fn)\n",
      "  File \"/home/ubuntu/embedding/venv/lib/python3.10/site-packages/torch/nn/modules/module.py\", line 1145, in to\n",
      "    return self._apply(convert)\n",
      "  File \"/home/ubuntu/embedding/venv/lib/python3.10/site-packages/torch/nn/modules/module.py\", line 797, in _apply\n",
      "    module._apply(fn)\n",
      "  File \"/home/ubuntu/embedding/venv/lib/python3.10/site-packages/torch/nn/modules/module.py\", line 797, in _apply\n",
      "    module._apply(fn)\n",
      "  [Previous line repeated 6 more times]\n",
      "  File \"/home/ubuntu/embedding/venv/lib/python3.10/site-packages/torch/nn/modules/module.py\", line 797, in _apply\n",
      "    module._apply(fn)\n",
      "  File \"/home/ubuntu/embedding/venv/lib/python3.10/site-packages/torch/nn/modules/module.py\", line 820, in _apply\n",
      "    param_applied = fn(param)\n",
      "  File \"/home/ubuntu/embedding/venv/lib/python3.10/site-packages/torch/nn/modules/module.py\", line 797, in _apply\n",
      "    module._apply(fn)\n",
      "  [Previous line repeated 6 more times]\n",
      "  File \"/home/ubuntu/embedding/venv/lib/python3.10/site-packages/torch/nn/modules/module.py\", line 1143, in convert\n",
      "    return t.to(device, dtype if t.is_floating_point() or t.is_complex() else None, non_blocking)\n",
      "  File \"/home/ubuntu/embedding/venv/lib/python3.10/site-packages/torch/nn/modules/module.py\", line 820, in _apply\n",
      "    param_applied = fn(param)\n",
      "  File \"/home/ubuntu/embedding/venv/lib/python3.10/site-packages/torch/nn/modules/module.py\", line 1143, in convert\n",
      "    return t.to(device, dtype if t.is_floating_point() or t.is_complex() else None, non_blocking)\n",
      "torch.cuda.OutOfMemoryError: CUDA out of memory. Tried to allocate 64.00 MiB (GPU 5; 14.58 GiB total capacity; 14.44 GiB already allocated; 23.62 MiB free; 14.44 GiB reserved in total by PyTorch) If reserved memory is >> allocated memory try setting max_split_size_mb to avoid fragmentation.  See documentation for Memory Management and PYTORCH_CUDA_ALLOC_CONF\n",
      "torch.cuda.OutOfMemoryError: CUDA out of memory. Tried to allocate 64.00 MiB (GPU 2; 14.58 GiB total capacity; 14.44 GiB already allocated; 23.62 MiB free; 14.44 GiB reserved in total by PyTorch) If reserved memory is >> allocated memory try setting max_split_size_mb to avoid fragmentation.  See documentation for Memory Management and PYTORCH_CUDA_ALLOC_CONF\n",
      "torch.cuda.OutOfMemoryError: CUDA out of memory. Tried to allocate 64.00 MiB (GPU 6; 14.58 GiB total capacity; 14.44 GiB already allocated; 23.62 MiB free; 14.44 GiB reserved in total by PyTorch) If reserved memory is >> allocated memory try setting max_split_size_mb to avoid fragmentation.  See documentation for Memory Management and PYTORCH_CUDA_ALLOC_CONF\n",
      "Traceback (most recent call last):\n",
      "  File \"/usr/lib/python3.10/multiprocessing/process.py\", line 314, in _bootstrap\n",
      "    self.run()\n",
      "  File \"/usr/lib/python3.10/multiprocessing/process.py\", line 108, in run\n",
      "    self._target(*self._args, **self._kwargs)\n",
      "  File \"/home/ubuntu/embedding/venv/lib/python3.10/site-packages/sentence_transformers/SentenceTransformer.py\", line 299, in _encode_multi_process_worker\n",
      "    embeddings = model.encode(sentences, device=target_device,  show_progress_bar=False, convert_to_numpy=True, batch_size=batch_size)\n",
      "  File \"/home/ubuntu/embedding/venv/lib/python3.10/site-packages/sentence_transformers/SentenceTransformer.py\", line 153, in encode\n",
      "    self.to(device)\n",
      "  File \"/home/ubuntu/embedding/venv/lib/python3.10/site-packages/torch/nn/modules/module.py\", line 1145, in to\n",
      "    return self._apply(convert)\n",
      "  File \"/home/ubuntu/embedding/venv/lib/python3.10/site-packages/torch/nn/modules/module.py\", line 797, in _apply\n",
      "    module._apply(fn)\n",
      "  File \"/home/ubuntu/embedding/venv/lib/python3.10/site-packages/torch/nn/modules/module.py\", line 797, in _apply\n",
      "    module._apply(fn)\n",
      "  File \"/home/ubuntu/embedding/venv/lib/python3.10/site-packages/torch/nn/modules/module.py\", line 797, in _apply\n",
      "    module._apply(fn)\n",
      "  [Previous line repeated 6 more times]\n",
      "  File \"/home/ubuntu/embedding/venv/lib/python3.10/site-packages/torch/nn/modules/module.py\", line 820, in _apply\n",
      "    param_applied = fn(param)\n",
      "  File \"/home/ubuntu/embedding/venv/lib/python3.10/site-packages/torch/nn/modules/module.py\", line 1143, in convert\n",
      "    return t.to(device, dtype if t.is_floating_point() or t.is_complex() else None, non_blocking)\n",
      "torch.cuda.OutOfMemoryError: CUDA out of memory. Tried to allocate 64.00 MiB (GPU 4; 14.58 GiB total capacity; 14.44 GiB already allocated; 23.62 MiB free; 14.44 GiB reserved in total by PyTorch) If reserved memory is >> allocated memory try setting max_split_size_mb to avoid fragmentation.  See documentation for Memory Management and PYTORCH_CUDA_ALLOC_CONF\n",
      "Process SpawnProcess-4:\n",
      "Process SpawnProcess-8:\n",
      "Process SpawnProcess-2:\n",
      "Traceback (most recent call last):\n",
      "  File \"/usr/lib/python3.10/multiprocessing/process.py\", line 314, in _bootstrap\n",
      "    self.run()\n",
      "  File \"/usr/lib/python3.10/multiprocessing/process.py\", line 108, in run\n",
      "    self._target(*self._args, **self._kwargs)\n",
      "  File \"/home/ubuntu/embedding/venv/lib/python3.10/site-packages/sentence_transformers/SentenceTransformer.py\", line 299, in _encode_multi_process_worker\n",
      "    embeddings = model.encode(sentences, device=target_device,  show_progress_bar=False, convert_to_numpy=True, batch_size=batch_size)\n",
      "  File \"/home/ubuntu/embedding/venv/lib/python3.10/site-packages/sentence_transformers/SentenceTransformer.py\", line 153, in encode\n",
      "    self.to(device)\n",
      "  File \"/home/ubuntu/embedding/venv/lib/python3.10/site-packages/torch/nn/modules/module.py\", line 1145, in to\n",
      "    return self._apply(convert)\n",
      "  File \"/home/ubuntu/embedding/venv/lib/python3.10/site-packages/torch/nn/modules/module.py\", line 797, in _apply\n",
      "    module._apply(fn)\n",
      "  File \"/home/ubuntu/embedding/venv/lib/python3.10/site-packages/torch/nn/modules/module.py\", line 797, in _apply\n",
      "    module._apply(fn)\n",
      "  File \"/home/ubuntu/embedding/venv/lib/python3.10/site-packages/torch/nn/modules/module.py\", line 797, in _apply\n",
      "    module._apply(fn)\n",
      "  [Previous line repeated 6 more times]\n",
      "  File \"/home/ubuntu/embedding/venv/lib/python3.10/site-packages/torch/nn/modules/module.py\", line 820, in _apply\n",
      "    param_applied = fn(param)\n",
      "  File \"/home/ubuntu/embedding/venv/lib/python3.10/site-packages/torch/nn/modules/module.py\", line 1143, in convert\n",
      "    return t.to(device, dtype if t.is_floating_point() or t.is_complex() else None, non_blocking)\n",
      "torch.cuda.OutOfMemoryError: CUDA out of memory. Tried to allocate 64.00 MiB (GPU 3; 14.58 GiB total capacity; 14.44 GiB already allocated; 23.62 MiB free; 14.44 GiB reserved in total by PyTorch) If reserved memory is >> allocated memory try setting max_split_size_mb to avoid fragmentation.  See documentation for Memory Management and PYTORCH_CUDA_ALLOC_CONF\n",
      "Traceback (most recent call last):\n",
      "  File \"/usr/lib/python3.10/multiprocessing/process.py\", line 314, in _bootstrap\n",
      "    self.run()\n",
      "  File \"/usr/lib/python3.10/multiprocessing/process.py\", line 108, in run\n",
      "    self._target(*self._args, **self._kwargs)\n",
      "  File \"/home/ubuntu/embedding/venv/lib/python3.10/site-packages/sentence_transformers/SentenceTransformer.py\", line 299, in _encode_multi_process_worker\n",
      "    embeddings = model.encode(sentences, device=target_device,  show_progress_bar=False, convert_to_numpy=True, batch_size=batch_size)\n",
      "  File \"/home/ubuntu/embedding/venv/lib/python3.10/site-packages/sentence_transformers/SentenceTransformer.py\", line 153, in encode\n",
      "    self.to(device)\n",
      "  File \"/home/ubuntu/embedding/venv/lib/python3.10/site-packages/torch/nn/modules/module.py\", line 1145, in to\n",
      "    return self._apply(convert)\n",
      "  File \"/home/ubuntu/embedding/venv/lib/python3.10/site-packages/torch/nn/modules/module.py\", line 797, in _apply\n",
      "    module._apply(fn)\n",
      "  File \"/home/ubuntu/embedding/venv/lib/python3.10/site-packages/torch/nn/modules/module.py\", line 797, in _apply\n",
      "    module._apply(fn)\n",
      "  File \"/home/ubuntu/embedding/venv/lib/python3.10/site-packages/torch/nn/modules/module.py\", line 797, in _apply\n",
      "    module._apply(fn)\n",
      "  [Previous line repeated 6 more times]\n",
      "  File \"/home/ubuntu/embedding/venv/lib/python3.10/site-packages/torch/nn/modules/module.py\", line 820, in _apply\n",
      "    param_applied = fn(param)\n",
      "  File \"/home/ubuntu/embedding/venv/lib/python3.10/site-packages/torch/nn/modules/module.py\", line 1143, in convert\n",
      "    return t.to(device, dtype if t.is_floating_point() or t.is_complex() else None, non_blocking)\n",
      "torch.cuda.OutOfMemoryError: CUDA out of memory. Tried to allocate 64.00 MiB (GPU 7; 14.58 GiB total capacity; 14.44 GiB already allocated; 23.62 MiB free; 14.44 GiB reserved in total by PyTorch) If reserved memory is >> allocated memory try setting max_split_size_mb to avoid fragmentation.  See documentation for Memory Management and PYTORCH_CUDA_ALLOC_CONF\n",
      "Traceback (most recent call last):\n",
      "  File \"/usr/lib/python3.10/multiprocessing/process.py\", line 314, in _bootstrap\n",
      "    self.run()\n",
      "  File \"/usr/lib/python3.10/multiprocessing/process.py\", line 108, in run\n",
      "    self._target(*self._args, **self._kwargs)\n",
      "  File \"/home/ubuntu/embedding/venv/lib/python3.10/site-packages/sentence_transformers/SentenceTransformer.py\", line 299, in _encode_multi_process_worker\n",
      "    embeddings = model.encode(sentences, device=target_device,  show_progress_bar=False, convert_to_numpy=True, batch_size=batch_size)\n",
      "  File \"/home/ubuntu/embedding/venv/lib/python3.10/site-packages/sentence_transformers/SentenceTransformer.py\", line 153, in encode\n",
      "    self.to(device)\n",
      "  File \"/home/ubuntu/embedding/venv/lib/python3.10/site-packages/torch/nn/modules/module.py\", line 1145, in to\n",
      "    return self._apply(convert)\n",
      "  File \"/home/ubuntu/embedding/venv/lib/python3.10/site-packages/torch/nn/modules/module.py\", line 797, in _apply\n",
      "    module._apply(fn)\n",
      "  File \"/home/ubuntu/embedding/venv/lib/python3.10/site-packages/torch/nn/modules/module.py\", line 797, in _apply\n",
      "    module._apply(fn)\n",
      "  File \"/home/ubuntu/embedding/venv/lib/python3.10/site-packages/torch/nn/modules/module.py\", line 797, in _apply\n",
      "    module._apply(fn)\n",
      "  [Previous line repeated 6 more times]\n",
      "  File \"/home/ubuntu/embedding/venv/lib/python3.10/site-packages/torch/nn/modules/module.py\", line 820, in _apply\n",
      "    param_applied = fn(param)\n",
      "  File \"/home/ubuntu/embedding/venv/lib/python3.10/site-packages/torch/nn/modules/module.py\", line 1143, in convert\n",
      "    return t.to(device, dtype if t.is_floating_point() or t.is_complex() else None, non_blocking)\n",
      "torch.cuda.OutOfMemoryError: CUDA out of memory. Tried to allocate 64.00 MiB (GPU 1; 14.58 GiB total capacity; 14.44 GiB already allocated; 23.62 MiB free; 14.44 GiB reserved in total by PyTorch) If reserved memory is >> allocated memory try setting max_split_size_mb to avoid fragmentation.  See documentation for Memory Management and PYTORCH_CUDA_ALLOC_CONF\n"
     ]
    }
   ],
   "source": [
    "# embeddings1 = model.encode(s1, convert_to_tensor=True)\n",
    "embeddings1 = model.encode_multi_process(s1, pool=d)\n",
    "# embeddings2 = model.encode(s2, convert_to_tensor=True)\n",
    "# embeddings2 = model.encode_multi_process(s2, convert_to_tensor=True)"
   ]
  },
  {
   "cell_type": "code",
   "execution_count": null,
   "metadata": {},
   "outputs": [],
   "source": [
    "util.cos_sim(embeddings1, embeddings2)"
   ]
  },
  {
   "cell_type": "code",
   "execution_count": null,
   "metadata": {},
   "outputs": [],
   "source": []
  },
  {
   "cell_type": "code",
   "execution_count": 3,
   "metadata": {},
   "outputs": [
    {
     "ename": "ModuleNotFoundError",
     "evalue": "No module named 'tensorflow_hub'",
     "output_type": "error",
     "traceback": [
      "\u001b[0;31m---------------------------------------------------------------------------\u001b[0m",
      "\u001b[0;31mModuleNotFoundError\u001b[0m                       Traceback (most recent call last)",
      "Cell \u001b[0;32mIn[3], line 1\u001b[0m\n\u001b[0;32m----> 1\u001b[0m \u001b[39mimport\u001b[39;00m \u001b[39mtensorflow_hub\u001b[39;00m \u001b[39mas\u001b[39;00m \u001b[39mhub\u001b[39;00m\n\u001b[1;32m      2\u001b[0m embed \u001b[39m=\u001b[39m hub\u001b[39m.\u001b[39mload(\u001b[39m\"\u001b[39m\u001b[39mhttps://tfhub.dev/google/universal-sentence-encoder/4\u001b[39m\u001b[39m\"\u001b[39m)\n\u001b[1;32m      3\u001b[0m embeddings \u001b[39m=\u001b[39m embed([\n\u001b[1;32m      4\u001b[0m     \u001b[39m\"\u001b[39m\u001b[39mThe quick brown fox jumps over the lazy dog.\u001b[39m\u001b[39m\"\u001b[39m,\n\u001b[1;32m      5\u001b[0m     \u001b[39m\"\u001b[39m\u001b[39mI am a sentence for which I would like to get its embedding\u001b[39m\u001b[39m\"\u001b[39m])\n",
      "\u001b[0;31mModuleNotFoundError\u001b[0m: No module named 'tensorflow_hub'"
     ]
    }
   ],
   "source": [
    "import tensorflow_hub as hub\n",
    "embed = hub.load(\"https://tfhub.dev/google/universal-sentence-encoder/4\")\n",
    "embeddings = embed([\n",
    "    \"The quick brown fox jumps over the lazy dog.\",\n",
    "    \"I am a sentence for which I would like to get its embedding\"])\n",
    "print(embeddings)"
   ]
  },
  {
   "cell_type": "code",
   "execution_count": null,
   "metadata": {},
   "outputs": [],
   "source": [
    "# # Use a pipeline as a high-level helper\n",
    "# from transformers import pipeline\n",
    "\n",
    "# pipe = pipeline(\"sentence-similarity\", model=\"efederici/e5-large-v2-4096\", trust_remote_code=True)"
   ]
  }
 ],
 "metadata": {
  "kernelspec": {
   "display_name": "venv",
   "language": "python",
   "name": "python3"
  },
  "language_info": {
   "codemirror_mode": {
    "name": "ipython",
    "version": 3
   },
   "file_extension": ".py",
   "mimetype": "text/x-python",
   "name": "python",
   "nbconvert_exporter": "python",
   "pygments_lexer": "ipython3",
   "version": "3.10.12"
  },
  "orig_nbformat": 4
 },
 "nbformat": 4,
 "nbformat_minor": 2
}
